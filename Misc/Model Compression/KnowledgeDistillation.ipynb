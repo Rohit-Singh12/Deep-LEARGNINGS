{
  "nbformat": 4,
  "nbformat_minor": 0,
  "metadata": {
    "colab": {
      "provenance": [],
      "authorship_tag": "ABX9TyPZIJLrKTok0V3FN/uSqC9u",
      "include_colab_link": true
    },
    "kernelspec": {
      "name": "python3",
      "display_name": "Python 3"
    },
    "language_info": {
      "name": "python"
    }
  },
  "cells": [
    {
      "cell_type": "markdown",
      "metadata": {
        "id": "view-in-github",
        "colab_type": "text"
      },
      "source": [
        "<a href=\"https://colab.research.google.com/github/Rohit-Singh12/Deep-LEARGNINGS/blob/main/Misc/Model%20Compression/KnowledgeDistillation.ipynb\" target=\"_parent\"><img src=\"https://colab.research.google.com/assets/colab-badge.svg\" alt=\"Open In Colab\"/></a>"
      ]
    },
    {
      "cell_type": "markdown",
      "source": [
        "# Knowledge Distillation Demo\n",
        "\n",
        "Knowledge distillation is one way of doing model compression. Here\n",
        "we train the model as we would focusing completely on the training and model\n",
        "optimization. After that we train a smaller model to follow output distribution\n",
        "of the bigger model which is called Teacher model and the smaller model is called Student Model"
      ],
      "metadata": {
        "id": "RlXlXNNDw_Uv"
      }
    },
    {
      "cell_type": "code",
      "execution_count": 1,
      "metadata": {
        "id": "OPjT__mytpTr"
      },
      "outputs": [],
      "source": [
        "import torch\n",
        "import torch.nn as nn\n",
        "import torch.nn.functional as F\n",
        "import torchvision\n",
        "import torchvision.transforms as transforms\n",
        "from torch.utils.data import DataLoader"
      ]
    },
    {
      "cell_type": "code",
      "source": [
        "tranform = transforms.Compose([\n",
        "    transforms.ToTensor(),\n",
        "    transforms.Normalize((0.1307,), (0.3081,))\n",
        "])"
      ],
      "metadata": {
        "id": "pzw9TL1c6YtA"
      },
      "execution_count": 2,
      "outputs": []
    },
    {
      "cell_type": "code",
      "source": [
        "device = torch.device(\"cuda\" if torch.cuda.is_available() else \"cpu\")"
      ],
      "metadata": {
        "id": "u4drUfynbE1C"
      },
      "execution_count": 3,
      "outputs": []
    },
    {
      "cell_type": "markdown",
      "source": [
        "### We will use MNIST dataset for the Demo."
      ],
      "metadata": {
        "id": "0X2HPvXIxj1_"
      }
    },
    {
      "cell_type": "code",
      "source": [
        "trainset = torchvision.datasets.MNIST(\n",
        "    root=\"./data\",\n",
        "    train=True,\n",
        "    download=True,\n",
        "    transform=tranform\n",
        ")\n",
        "\n",
        "train_loader = DataLoader(trainset, batch_size=64, shuffle=True)"
      ],
      "metadata": {
        "id": "4Yer7tqLp4wB"
      },
      "execution_count": 6,
      "outputs": []
    },
    {
      "cell_type": "code",
      "source": [
        "testset = torchvision.datasets.MNIST(\n",
        "    root='./data',\n",
        "    train=False,\n",
        "    download=True,\n",
        "    transform=transforms.Compose([\n",
        "        transforms.ToTensor(),\n",
        "        transforms.Normalize((0.1325,), (0.3105,))\n",
        "    ])\n",
        ")\n",
        "test_loader = DataLoader(testset, batch_size=64, shuffle=True)"
      ],
      "metadata": {
        "id": "WvoSSc-v8qUV"
      },
      "execution_count": 7,
      "outputs": []
    },
    {
      "cell_type": "code",
      "source": [
        "img,label = next(iter(train_loader))\n",
        "img.shape, label.shape"
      ],
      "metadata": {
        "colab": {
          "base_uri": "https://localhost:8080/"
        },
        "id": "nhxVqIQoHeOV",
        "outputId": "afdfb323-edcd-4c54-832a-01950ef318d6"
      },
      "execution_count": 8,
      "outputs": [
        {
          "output_type": "execute_result",
          "data": {
            "text/plain": [
              "(torch.Size([64, 1, 28, 28]), torch.Size([64]))"
            ]
          },
          "metadata": {},
          "execution_count": 8
        }
      ]
    },
    {
      "cell_type": "code",
      "source": [
        "input_shape=(28,28)"
      ],
      "metadata": {
        "id": "wWXgGK38ga77"
      },
      "execution_count": 9,
      "outputs": []
    },
    {
      "cell_type": "markdown",
      "source": [
        "### First train the Smaller model and check it performance."
      ],
      "metadata": {
        "id": "3dkMoKTaxzCN"
      }
    },
    {
      "cell_type": "code",
      "source": [
        "class NormalModel(nn.Module):\n",
        "  def __init__(self):\n",
        "    super(NormalModel, self).__init__()\n",
        "    self.fc1 = nn.Linear(input_shape[0]*input_shape[1], 128)\n",
        "    self.fc2 = nn.Linear(128, 10)\n",
        "\n",
        "  def forward(self, input):\n",
        "    input = input.view(input.size()[0], -1)\n",
        "    X = F.relu(self.fc1(input))\n",
        "    return self.fc2(X)\n"
      ],
      "metadata": {
        "id": "audIcJTk-Nn2"
      },
      "execution_count": 11,
      "outputs": []
    },
    {
      "cell_type": "code",
      "source": [
        "basic_model = NormalModel().to(device)\n",
        "loss_fn = nn.CrossEntropyLoss()\n",
        "optimizer = torch.optim.Adam(basic_model.parameters(), lr=0.001)"
      ],
      "metadata": {
        "id": "WVSDyRzGKs3C"
      },
      "execution_count": 12,
      "outputs": []
    },
    {
      "cell_type": "code",
      "source": [
        "def evaluate(test_model):\n",
        "  test_model.eval()\n",
        "  correct, total = 0,0\n",
        "  with torch.no_grad():\n",
        "    for images, labels in test_loader:\n",
        "      logits = test_model(images.to(device))\n",
        "      y_hat = torch.argmax(logits, dim=1)\n",
        "      total += label.size(0)\n",
        "      correct += (y_hat == labels.to(device)).sum().item()\n",
        "\n",
        "  print(f\"Test Accuracy {100*correct/total:.2f}%\")"
      ],
      "metadata": {
        "id": "hB6ZtCfRRAi5"
      },
      "execution_count": 42,
      "outputs": []
    },
    {
      "cell_type": "code",
      "source": [
        "n_epochs = 5\n",
        "for epoch in range(n_epochs):\n",
        "  basic_model.train()\n",
        "\n",
        "  running_loss = 0.0\n",
        "  for images, labels in train_loader:\n",
        "    optimizer.zero_grad()\n",
        "    y_hat = basic_model(images.to(device))\n",
        "    loss = loss_fn(y_hat, labels.to(device))\n",
        "    loss.backward()\n",
        "    optimizer.step()\n",
        "    running_loss += loss.item()\n",
        "\n",
        "  print(f\"Epoch [{epoch+1}/{n_epochs}] {evaluate(basic_model)}\")\n"
      ],
      "metadata": {
        "colab": {
          "base_uri": "https://localhost:8080/"
        },
        "id": "uVWIW8naLK9n",
        "outputId": "e1e0940a-c0d6-4803-f8e5-f92327e68e96"
      },
      "execution_count": 43,
      "outputs": [
        {
          "output_type": "stream",
          "name": "stdout",
          "text": [
            "Test Accuracy 95.25%\n",
            "Epoch [1/5] None\n",
            "Test Accuracy 96.52%\n",
            "Epoch [2/5] None\n",
            "Test Accuracy 96.88%\n",
            "Epoch [3/5] None\n",
            "Test Accuracy 97.41%\n",
            "Epoch [4/5] None\n",
            "Test Accuracy 97.13%\n",
            "Epoch [5/5] None\n"
          ]
        }
      ]
    },
    {
      "cell_type": "markdown",
      "source": [
        "## Use CNN for image classification\n",
        "\n",
        "Now train the bigger and better model"
      ],
      "metadata": {
        "id": "7hdxAAOYS9S1"
      }
    },
    {
      "cell_type": "code",
      "source": [
        "class CNN(nn.Module):\n",
        "  def __init__(self):\n",
        "    super(CNN, self).__init__()\n",
        "    self.conv = nn.Conv2d(in_channels=1, out_channels=32, kernel_size=3, stride=1, padding=1)\n",
        "    self.pool = nn.MaxPool2d(kernel_size=3, stride=1)#[batch, 32, 26, 26]\n",
        "    self.fc1 = nn.Linear(32*26*26, 128)\n",
        "    self.fc2 = nn.Linear(128, 10)\n",
        "\n",
        "  def forward(self, input):\n",
        "    X = F.relu(self.conv(input))\n",
        "    X = self.pool(X)\n",
        "    X = X.view(X.size(0), -1)\n",
        "    X = F.relu(self.fc1(X))\n",
        "    return self.fc2(X)"
      ],
      "metadata": {
        "id": "yHE7f9InO_C3"
      },
      "execution_count": 13,
      "outputs": []
    },
    {
      "cell_type": "markdown",
      "source": [
        "### Conclusion\n",
        "As we can see the complexity of CNN model is model and also its performance is better than Basic Neural Network"
      ],
      "metadata": {
        "id": "XPB33B5tyDh9"
      }
    },
    {
      "cell_type": "code",
      "source": [
        "n_epochs = 5\n",
        "cnn_model = CNN().to(device)\n",
        "optimizer = torch.optim.Adam(cnn_model.parameters(), lr=0.001)\n",
        "loss_fn = nn.CrossEntropyLoss()\n",
        "for epoch in range(n_epochs):\n",
        "  cnn_model.train()\n",
        "\n",
        "  for images, labels in train_loader:\n",
        "    optimizer.zero_grad()\n",
        "    y_hat = cnn_model(images.to(device))\n",
        "    loss = loss_fn(y_hat, labels.to(device))\n",
        "    loss.backward()\n",
        "    optimizer.step()\n",
        "  print(f\"Epoch [{epoch+1}/{n_epochs}] {evaluate(cnn_model)}\")\n"
      ],
      "metadata": {
        "colab": {
          "base_uri": "https://localhost:8080/"
        },
        "id": "kXlizB7vWOrg",
        "outputId": "67d85870-da03-4883-ead7-959cb7a79996"
      },
      "execution_count": 46,
      "outputs": [
        {
          "output_type": "stream",
          "name": "stdout",
          "text": [
            "Test Accuracy 96.58%\n",
            "Epoch [1/5] None\n",
            "Test Accuracy 97.80%\n",
            "Epoch [2/5] None\n",
            "Test Accuracy 97.69%\n",
            "Epoch [3/5] None\n",
            "Test Accuracy 98.13%\n",
            "Epoch [4/5] None\n",
            "Test Accuracy 98.35%\n",
            "Epoch [5/5] None\n"
          ]
        }
      ]
    },
    {
      "cell_type": "markdown",
      "source": [
        "Now we will use knowledge distillation to train the Basic Neural Network (Student Model) to follow Teacher Model (CNN Model)"
      ],
      "metadata": {
        "id": "cgOppkOkyOpE"
      }
    },
    {
      "cell_type": "markdown",
      "source": [
        "## Use Knowledge distillation to train the Basic Model"
      ],
      "metadata": {
        "id": "4g4hVGtkbMfJ"
      }
    },
    {
      "cell_type": "markdown",
      "source": [
        "## KL Divergence\n",
        "KL divergence is used to quantify how similar two distributions are. If the value of KL Divergence is high that means the two distributions are different.\n",
        "Its defined as:\n",
        "![image.png](data:image/png;base64,iVBORw0KGgoAAAANSUhEUgAAAYcAAABCCAYAAAC8TBrNAAAAAXNSR0IArs4c6QAAAARnQU1BAACxjwv8YQUAAAAJcEhZcwAADsMAAA7DAcdvqGQAAEGLSURBVHhe7d3ns25JVQbwd2YAJZkxoQLmnHNEMaJWiYVVBhQKlKKw/GqV5Rf/AD9allqKfkIpMCGCKOaAgmJWzBlzBlGCeH77znNmnTXde+/3Pefce2fkmVqz9+5evXp19+q1unvv99w7zvCmw/0EZ225++7NeDOuH1dpbfebSfhm3G9wx2Me85ij7PJmO+Drqu9mtGNWx5vedDlXcKuC4GXrvS69j+nPq9ThKluz1YJT9D6mTHj7dQ/CW8fB/Z133rlc0f/+7/8e7rrrrrtzbyB5HeSh5NdncupzRfhhlB/M0kfYw3uMvPsS7njOc55zoWU6taOmbeVXXGf6dfHCsemwVqYa7BquM/9myN6SEVw13wzHlB/xro1bUnbV0MqPyrxpQ9ettuxpa+eZPXPqHXvkp79cUYIBh/7GN77x8IAHPGCR0/kqqg7KyZeWcuSQW+VAZIVSJiCro5afYQ/P7YrL6n7HC1/4wgsSaodCf4ZblQbHpF+FDLiqdDgl71R5cF1l4bL5cFU8wVXLgyH/2awZSrmQeOaglut8ki45kX9+GUrexLHtmiHBoTraivocB5S0PKfcG97whsNrXvOaw4Me9KDDW77lWw51nMnn0P/lX/5lCQZv9VZvNQ1aqXOGUZ3/H7DVL1tYgsOeAYOetrccnFpHcDN54dh0uBmyYC0PboVc2MoPbpacYC8fHMW70EX+WekbQWC5PYfH8+l79uB+KzAco98ayOmOPcizfA76v//7vw+vf/3rl1U7yEecNceN3uIt3uJezhv/K1/5ysNf//VfH97rvd7r8M7v/M6HhzzkIRf4UlfXQb2ve93rDr//+79/+Lu/+7vD+7//+x/e7d3e7Xw3AglAFdKSXvM63/93ZOzXcMeLXvSiC1yjTuxps47eUxb2psF1lIfL1hdcVb3BVZeDU/PgsvlwFTLgqvngMjLvlZKZdJ5x4+bMDS/XEc5zmvxj2jBCyo+cgNU8wsOpr9Vl1f/Hf/zHh7/6q79anPUDH/jAhTh4zp98Dv9DPuRDDm/zNm9zfuQDVv0vfvGLD3//939/ePzjH39493d/9/PdQ62z10+m4PA///M/h9/5nd85/NzP/dzhPd/zPQ8f9mEfdniXd3mX5XhKPT0YCWD/9m//tuhJlwc/+MHnsvHOHOIeR3kduFX1biF63fWkJz3pm9z0AYNZWscxZfekwbG8HWu8PT1pM/4R1viPSYfkXUe5UR7syTs1H7Z4tvKDPXyVZ40PTuUd4V6p+O48o/Ny4fH/G3cXcM53gxfLWn0z3CPjHpqB87Qa/83f/M3FaT/ykY9cnC3U8pwpB/2P//iPh1/8xV88/PAP//DhpS996eFf//VfFydsNc9x/+qv/upy5azf7u3e7vDwhz98Kc+x/8zP/Mzhl3/5l5dV/wd/8AcveeSi1JN6K5KXdxR2H3RWzg5EgHEfcGZIAPvZn/3Zw+/93u8dHvrQhx7e8R3f8V6yZ0idN5NuVb176c7lf2WwzjMGA5h7yHNNg7W0TqN6e3otX5G0WXrFMbywxb83HWreiNb6oPcDVJ6OPXldbqe1vNAIx/LMUHlmfHt4oPNdlvde+a7665wu5t0gBUM30s5lELoT52UGtIbKx6lzoL/+679++Pd///fDwx72sPOV/kgOW8Dj+qpXvWoJJhz8B33QBx0+4RM+4fDpn/7ph4/+6I9edhICCLl2JCB4cNJ2Fxz6W7/1W1+wvaDXG13C+w7v8A5Lfa997WsPf/Inf3L4p3/6p3utuFPGDsZu4W/+5m+WQIY3+TOkrshIvZ3W8k4lfd9pxHfLqHdcOqmiPo/yoafneQ8vzPgpGcx4ttIrZrxwFfywVgZm+bN02Eo/Ni+oPCO+tfxZelDzr5sH9vLBZXgrbWEJGniX/86ebySfY3le5Nwjc0R7MCoX4lA5y9/93d89/PM///NyxPMBH/ABy/zqzjZQTnB427d928XJeylsByAgfOzHfuzhcY973BIg3umd3mnZiQgQjqG8o7Da/4d/+IfDe7zHeyxHQXF8FeR3ZBcQnQQeOw/vK+j/B3/wB4v8DrIFko/8yI88vO/7vu/hz//8zw8/8RM/sZTp9aRPRvXPcAzvZVB1u0o6Beej1YV0wT0fOg9s8c3yKjrviAdG6UmbpXdcNf9a+lZ+R83rtET2OJ4deZGXa02vqHlb+R01b5QP18Uz44Pr4oXKl36vFJ67by7Qku56d9Ye1Po6rYFD/bM/+7NlB8CZP/rRj152AZz2SBYCQcGOwzm+IMFJCxjeVSBHPAKC9wtePLt3dJVdw/u8z/ss5fRFlZvrDAkO+BxXcfh2D+S++tWvHgY0x1BeWgtcb//2b7+8q3j5y1++6JS6qx4j2sKoTKXbFSNdt2jZOaCKPc+npgXH8lccU3aN97rSYZYerOXP8pJ+bB6s5a/lwVr+Wh7U/Ovmgc53lbxBeLujmeNunuXuHroI+TdSq8xOe9DLcNKOk+waHLt4scvJd4ddkdX7f/7nfy7vHUAZjj7vAryTsAtxhETWIx7xiPM0L7F9vvqoRz1qCSIQmXgEHE77P/7jPxbi8K3ykWf5QK7ynL5yf/RHf7TwQnSvRDfvUewgBK5f+ZVfWY6j9EEwKreXtjAqc7PpqnBhn7clfJR/TFquNS/PNQ16en8O1tL28MJVp/e8PK/l78nrWMuDtfy9eT1/LS84Jn/GA8fyrPHBZXnr/RYulllu74GEuykyPYoNx8ifUfKBQ/USWWD427/928NjHvOYw/u93/udf8mzRvBf//VfSznPHHTeHXDy8uxG7BQ+8AM/8PDJn/zJy9FTAgo+Xw0lCAF9vO/wgvm3fuu3Dr/xG79xeNnLXra8vH7BC15w+PEf//HlfYH3BniVs7vJJ7DS1TsDfm1zFCVAaPtv//ZvLzrROcBX6f6E3rZjKViCQ0+EyryWX7GVVvNGvDBKHz3P+HoaXEV60vbyQ00/pdwoL9jK6/l5HuVB0kd5MEuHWnat/Fo+VJ4Z3x4e6HxXxRuEp5cLJe8cZ7fn+Tce794nBBefgvMyjfYiL3KdwTv7Fxi2XkSDdKttx1AcshfNVvOc/l/+5V8uOwPvGdx7r/DZn/3ZS3AgGy9HbBWfz16zaxAYrP4FBsdQ5Fvd/8AP/MDyjuBFL3rREiD+4i/+4vzlNl18fUS2r6A4fLKif2+D+hxFCVjKaLudk7JB9AlBlXe703Uidex6Id2xt8xMzox3j4yrktnTkzbjH2GNv6Z3nlk5mKVDzatG3bGW17GmC9T8zrdVFrZ4kn9ZObBXFhzDC5U/ZfaUXXiUmTn/u6+wcN0tP3Qsajk2wJl7icspCwwCBOcZrNlJDSwCha+VrMKt7H3a+sIXvnAp/4QnPGEJDj4d9W4ix1COlQSH6CS42GkIDnYCfrvA6Qs+3ll4dtTkmApv9FTWDoTDFzCSPwN+R0qCliMmOx/ByA4ngatSUO8rZvy3EunTLboMzq1kJKynbeUHo/SkzdI7evqIL2mz9I5TeGf8e9ODtfxZ3rHpsJWX64wH1vLX8qDmj3i28oM9fHt4oPMdy4v2YlTuQmlpjW7wyrvBsoVeR6UKDtQXQ87xOeP6I7Sgl695XmJzxIKEY5pP+qRPWn7s5t4XSx/zMR9z+LRP+7TDJ37iJx7e9V3fddmNCCL4wTMCjl6e4x0BxPGWr4u8n+C0fe76uZ/7uYcv+qIvOnzWZ33WvX4NTW+7AEdN3knUdwgV0V99Xrj7IssOxotsQagHldreel+Rfgndl9B130swfSFd0+pz563o5WCUBsekj55nacemd1x1+igP1vJ7utVKnkf80MsESa80wlp+zes8eaajVZ+tu9WZyYvqvYmd+xnh5zzIcTWZpXnOxO46dCR/iw+O4a3o5UIznPO4b3QD99xBldlpD/SZ8bBSd0bv6ySr77xMnsmqK2PBQWDhmD/+4z9+CQIf8REfsbzQdm+34Ll+9UQ+/jzXeuwkBBEOmz547UrUI90x0Od//ucv5JmDVzb2bxfinh2wJah1oJrmRbadA1kCwx/+4R9eOFrq/PW+UzDKux3oqkHmUS+kO2JIo3I9LfdrvLP0er/GU7HGuzcdroo/2Co3yxthq8ysHNSyI761PKh57MA5sJeLyBbeSg05hsizl6KdvJj0TTzC4xzbr279sha59zmil5aOODiG6sCg6hqdZrgMb6Ut7OKX3vhW+QeYleWcc0QDdg2OcCpPRS2P9LEVveMeTl15xzpe9uaP6Hk5XV9sA4fvpXRd9Qfy8vsKuwBjaeegLrsIab6GIr8ffVk4ZOzrUdUIsQ/1kadOuxmB0s4FUnYmY4RjeG820h+n0gh3vOQlL9n8w3s6O8/p+Dz3smvPW7wwShvhmLK3Q/qIZ1YOkpf+hjX+EXr9W+WPya96WaV6qfjsZz97mYQmMufBmZjwQVZ7FXEC8qwgOTSfKiJyks/ZOMr40i/90mU1OHI+HVvtqdjD23nyvFZ2mTt3X884z/67p99gST0r7/qms/9wdOzRrUN/CrQ/+IM/uIzFE5/4xOVMP441qONYYSy8GP7Wb/3WZQy+/uu//vBxH/dxSzDoIG9pw5kstiCoK+f46Wu/9msXO5BPJ+8jrOIFKi+jv/3bv30p8/SnP/3wKZ/yKUuaozAOPbsHEES+4zu+4/CjP/qjh2c+85nL8ZOjshlSH3uyuHjWs5617CSe8YxnLF8xRW70ds3zCJXnZmI2PjcDR/9CuqKm93J5rhT0Z9iTluctvmCNd0967ns69OeKEX8d5J6fvKQnr6ZDN5Sk1zJB0kZ5FVs8s/yabhI6AjKpf+3Xfm35MwpW/ByBlZvzYxOdU+/kBSnyDb3v5B19cBzAQZHxp3/6p8uu4ud//ueXl6sC0GjSVJ3QCMnjHCoPeb2/g5Sp95XWkHz/74EBqpw777j4u4nQXtQyGQ9BlhO1mreS7qhlQB8YT0dRvvDxMjcrcCt6CL8+rP2Y9Hx2WvsU6GQn+dznPvfwkz/5k0vw8qLcePvRGl3Zjy+h1B95kGMycu1Y6u4hPBXqlS4wsi/2x5a0x6IjZcJ3uyLtuyo6Bnc9+clPPuoP70FN7zw9r6Lzwp60EQ9spTNyhsAAujMItmT0vJpGbpdf+fOMRvlB0np+Te/XngZJH+VBTa98FTVvT36IAzGBbd05byt7K8fP+ZzPOXzqp37q4cM//MOXs+oP/dAPHZL8UF56+ps6zqFNbo5BPwsoVpV2JLVP0QzJD3+u5FWED/BAnoP6PMoLwbn8s+uSIr3QDV66nNV1lmTnsLDd4B6i1tGpgtP9pV/6pcUhvvd7v/fSlzkCqujlvewVjP26WDD2qSr4MZs+5/iNdbfnXLXZcZTFgZW6l9YZK+f9VvE/8iM/snz5JBg45mErAg/H7egQv6On/KE+8Nmr9lgwsCl2kDyoenRil3Ykgg5bsoPSF7UNoRk63xrdzhjpO6O7nvKUp3yTm4pkBvW5Xmt6kAlR80d8e9NGmPHVdAZhK8rYGXPfTq/JYDQxnKSN+LPC4rjUl5WZNKuk/DIUetn+DLWO9GPtz3412dSVydpReSt1rOXBVr66rdCQdw9WnNqvX6zYfIli5ao/jEMo48IxuCrPMTiGsNtQjpPwCaY0jkE+R2WHUY+W9FP0q/qOqKOm52psOS/n3HTrPCMKLBhiA4stnel5tkVfXP49dPZ/acbt7qIZ69jeiPZCUHAEQ6aXxhyi/p/Jc8+GOWHHQj5V5VClaz8IDHZ31WlXWQiMu3dJ2m/8vE8wVvrUkZJdIB67EX/KQx+zGXWTrwxKveTYZXh3xZ4+4zM+Y7GH2k9Q9aikXQIPndiPYKnulA96uUrJ34Ne9mbSVeJ85wBbFdS8TAATyEqxkoE3kfHPBrBiLa2m7+UzIRiaLaoVFIOrL84YKceKGF4nbYvx51oROfjiDL2449wYoqMPLwIZfgJGyoRmaWTSSx/q3zgZqMasDdroC4y8IIyzHMmFeg89vyJ5W/mBuulAF6tCpA10N6GNQSZ7yo3ke9bOBA5k7Bw9cCJkck4cjroio5LxV2/sUbmMLcqLzfBXeDYG9DeOxsKRB306fy8bmBPGxfhwqMuL4Lvzzkrd+E/ZM3rDmS7myqtf8+rD617/usODHnjxZewWolMlbfMjMj8o03d2Y3ZbscUOZXJlV/rVCtuuzS7OGf1HfdRHLbs5Np1+D+o96F/O2NyzKLDKV4aN0Edgp5MvoOwa/d2k7BQ9uzfGaYsxtxMxp/zhP2WXPm31zmBOGk9jQp52aQd9ImOPrL31HQP63K5YgoNG94YnLen1yoA4RX/H3Rmi7ZrjBNtRn6Z5NhiMBH8meWRU9DTPe9I6ar7dgsBgpcA4rUJN0vBYVdHdFpZjr2Rlw6jjoOIUIHqEOBrnutrOIfgREGdi+2tyWv2k3lmQicNnJPrLltyPhKyUOCcGbaJxcnTJdhi/dP2vnMnCOUde5Ac1LdSxlgdr+eq1MrUy0we+RHLV1xkDE14bouNITq0D4VWGQyE/fwbBylGbExADecbC+Fpp0oNNctTGxD0ng4d8dpkxVhewH/3KFuheg3yFMvWq7tRv7MwDTvERZ4Hsgcqf8S28/rT3WV1veOPZivasDro6btFXztMf8uCL/1oaKDeiEdiK9z5eKAsK/ry2dzpxhpXqWCD2xY45bIHBUaCrnYc+74EB6rN79bBJ80tf5JfK6tKfdoTSyPRDNZ+1Ws17tpAIL1l8DV/ykpe8ZAmijijxx5+k7tx3AjLMafqYrwKQgFVlhHcNva/20hpG/MfSdWE5Vrr7/hy9wjznatKbOD5b9GtJjtjEM+lsRTlZg2Aii/rKGfAaqYMqu+fBKK0i5UKM0meRVhoM2V9oZHCZ3CYv/TjwBBDPjqBMTobo2247AbrT2YSpzqHWpYw24zMRBQwTXfmct+IdIQ6ATlY3yujHfA5KL7L1q3roQ54Jpqy6jIMgAfIEo8iNnql/pEfn6dibD+rV5676kUPWLpOaw+FkOfToB1V+5HTglxdHrr84Uf2g3wM88vSjPx/NBtinQGsxY4zppb/0Z34xK6gi0Kf6XYDWnxxWjrCqnqhCvSh5dh/G7lVn40NXMh5wV7WhsxX2616/9NHLzuzlec973qLXox/16MWRH+u4ILzalXZzwlboHPtITk1LeW1Vv7EUkJH7UR+MyHghtilQceZ2eiCdLGQsyXQNxTbIAeXNUUdRdp++WLOTox+kztx3SDMufJGAbX4JDn6E1+sbla/Yyu9Q781AdD+WtnAhOPRCMyE6lcM00a3ErJxF/s/8zM9cPkez9WOM8qxgTESTz2Rzjcx+reh1d57k1wnpniPNizjbU6uebEEZgivdTV4rCU6A43rsYx+7TCRGg4fer3jFK5YynH5dlSMQHAQSk5qxWgVZpXDsjNoPhWpwyLUajbQ4EhPav2QFfo1qxSe40Ytj87koPazC1ScQCBhWntpr0mhLHGYMP0j94L4+VyRvT354clU3p23ya5P+4awECMGB7uwHUmaGLp9MbeQ8OVvPfUxcOTNnysbCQoFN+Ls/frTleISjohM7YQMJXPg5D+Ognx1zWFiwl8iH2aSPHvqADgLSK87s6LVnbWcbD33YQzGd0cK88D3sYQ8/G8sHLC9+zRfzyJ+51rbUU+uuSH2hQJ97oWwnr70WKZkDszJBTZ/x7XnWfnZtHmQOJeBlzII6hiFpyptbP/3TP73Iy9FWbUtQn3NfiSzBwU6SDZJjXNWTMmuInPsT0qYZLT2Th4r6XPNddagBEgBMdIacDhcYvAAT4W1JOQorMZPUFjOo8ruzrHlQ617LtwrMqtAqw/Y1L8+qDLrnHFndHIPVRCVnrmRZsXAkdaJ2ksex1PzRfa6VlDOZBSIrPTrpNxMhX+sgzsWK2G6HI2Hs+t2k49zs1Dg2TniEXm/HWh6s5SfNVV8LiPT3D8FwxAmYvn7hjAXVmZxKHZypCc2m6sTu4IT0SZwIXrbgqITj1b/sVF9zFo6Q9K3jJPpxqsqSUY8jg6pf7nua8o4u9IWVrx3CMjZ4zsiXSQvfWcB45NncYW/6yc6l21q9rzSDeZAduyCnnZ2/yhlR5gyq6M8j4FEvu9XfdDGHtK1iNO9D8pxQ2OmB8ULZNeMZoctB+I0j0jeOmMg2h9SDJ/DcKehyQzOMeK+arhNH/eG9pDNinWw1q6M5YKu5nClzWiaWIMHBWT3YXXi5Skaf1Kmz19ufR6iyGKGtrCBkspmc9KmITNtMDqE6EqsTRi2wWDEyHkZNfxjpt0fH8IQ/pA8FMjsCq1iGaJWn37Iy5hDpyMlqC0cm0NKNDLrb7eQ4xHiQI6/XOcKevFk+jHiMCb0cZ2iPftWH2ihACGQ9mNbyHZVnjbfmp2/Zgl2EPuIc9CGHbXwd97ABjps9CA7s1JizA3rHvmqd+pd8JNC5xtGAMsZMHWxQwLFqpUt1NkDuAx/0wMX+jHeth8zIVY8x7vVVeWk7HnONDtoRmcnP8xZG5fZQYPGYP/YXvSE8lXcEbdQGPsQJAJsyfvq31rdF+PUDAuOgL8lnh6j3ZaD8DLMyNxO9rcfSGs4964h5rbDBNslNKJPPRDDpMnCZhJycQbC1NxFHK6NZPWt89dmV4VmBC1hx8FaMZMQRgWe8tvyMxEqE0THC5NORs9AWbcsKFGY6QL3fgno4TI7Dn4bQP85mrY6W8+kyCVw5NroKgHSnozzpArO+Fhj0gbEZIfq5hk7BWvmkc3QcsmNGL+YFOatA7wKspKNj2lhl5bmnd6zx6R/9xEnqNztFOoC+Z7fGmK3oQ8h7CeOdhU6XzZasOgWQkCBkl0kmWwftim3ZMTi+NF/eyEGe1X8m9Vz2XXfe2BFlMUA/Zcgzpq7RLTZO98ylyHGP9K3yNTigPQhvqNqga1B5RpCu/+zK7SDMx6pLHfcZGRfvfHydxL/oH+WCtHcLZOlXwd746Tv9k7Gq6DrUtI7Kdxm6lRjpE9r8w3ujqwHSsXFEJoDJl8EPX2AADUh1atU4gjz3tGoAnquBBHjoow4rFs6SQWRlEODjYE1UQYLxWpWnTmmObazOyXAGXIMeuI7uod5D8nu6fuNUvDTlLK1iBQe6x4mBcnTW38rQz1Wb5NErzkw6R+JaUetXTn7IeHB2nZLuik+9dKhjEUR+JeAcvTPxXTr7ULevr37hF37h/GgMwl/7eIQqf40PjLGdFN3ZJ9sEdXKujgvZi2MPK1P9xxErxx6MRxYMAYfCLvy7A35D4Fe+fhPgTNyXQe7Znzrox5lptwWGhYjF0agPtVtdsWs83tfop+///u9f/jS2HZd/EEc93ic4hrRLrrYNnms7EKfY+67TMdjDH7n6gE1z9NoobWRDHfgEF31n/OouboTUN6Lkk6dvc4S4R4+KKu8qEblXTZfFnbWD1oT2juQ0TDLGaFXAEXBqKY9fHgdjQAysaxxSHA4evMhzdULy8uweqn7RF5FvlWg1bqJbiYWnGhW5Jo9VLNmcgHyOWprzZufj2mZLbNVbdw4Vtf49qHzab7cgMDBU7xTsADIJ6Am5alccv7Ta14w+q198KdOhHzk4gZFzdN5eSVqopucrD6vkjMMe0EubvFjPP9vISTpG80UXR1rHdaR3+rf23QiVTzs5fg6WDpyLuqzuBSVt8u6Gs6KbdxAWAPoOuUfKkkcveusHL/85ZeP2/Oc/f3Hc0j37mEA/sW8wRmyRg+YkOeygtye6B2QIpOr4oR/6oUVf9mns1CdYsFU2nLJIf1qIqYtT5ly1YwspX8fAfZ5H6TMK6j3ZFZ1vRKBc5m/P688zpG7jgTd+Ql+l3TOs6X27I207hirO3zn0jFogFOggnWvC6XDBwWTqvAZBlOaQOFiTkXGbYFY+JpSJRo5zXw4DOWqR7usNE5mzNiE4UzJN/tRR9QrUFYfOsGpwABOdHOkmobrVQy8kMNgx+GLIi8ysOqHX53mkS02HypN77dY/jpEcwVhl1hVkDJER60M6czIcjmtk0Y8MY4GPw6ggB5GjvZwHR6M/XeN0ch+Sz6G6pyuHE2e+heimLT5W8H26DxY8k+t4yZiyI0hbUy40wxqfAJojTHbAOeafo2R3fn8gzTsROxu7RzLoov/0LQJ6abdyVu3yfYVmx8E+2aozdTIEJAsPZaKTYC9AQpxRAru+QO5r+9kAeY5SlGGP5NDXMZ1g45jKzkgbU1dgfiQdkRH5I8irhJ8MdoT05x4Kf6Wa3vmPJW1CdIuu9X4N6YvaV+n7Th01vfLdbLoZqPUN92kzRVKI8XAweXHHkPvXI+HhdAwo58XordyssH7sx35s+WTQBOOATD7/VKBfdfpqxwQ2oW3h/S0WZTiTTPqOOtB0spLmAKpO8hiRFbgAQR9pJh+HZfdg4nJi/sGRvBjOZEYQQ0xaqKYHyavwnEmvPXYvHKiruuic9uAzMfBxUngE4+gO2po0PCYM1HrJ8czp4fWCL19mWTnXL7U8V7J7srPRF2TUiei5UlB57CrtHKzSBUDjJ+BbCFgE4O3lZ9jDp7/YpqvgwLGyMXWxR/3lH5bxaaujPH1Ch6wo9SNKGwRGNmkRoSynrU1x/MbOV2POx82FBBZ64vNSGoxLxjbj29uTPIstso030v92shYtdgRsFXG6QeSoJ3PEuIen1hdebcSvjeameWfHggSgXPdQynUyb1GeR2WPocgQmI0J3WPz0NtZKRildazl3QpUndfoqnAhOOwRnknEmXKwVrEmgHJ1khssE5RTM0GtwE0cky7vH/AxdAbM0E0qEwyZUJyRY6kEBJPRpHGF1IXqs8mVwNDzOAzHDVbDZFmxm3CchEluRegzTC/RTMo6iSvS1lEdue9IPtLmnA0LrPqRzuTWfjSxBRGrRPdWqZwG3sh0r0/INDbVYQT46Jq6Mm6V4ohC+h/JM4aCbu1XtAU8Ap6jHS8WvXCnqwDt+CrBYYbUs6e+5FvdCwL6Q19xqupN4DO+gpW/0ZRdIR3YrDL0DcjEw0YsGJSXpp/Zj/cV7NXVp7uceMZGPymrr8lFMGpHHXNEB/1kvHLuLjCRZ2yyEKiOP1CP+RJbSr0jyDfHOFwLMX/i23sOZLHmSOuqSR17qJfz955cn/vc5x6++7u/+/B93/d9y/sXAU0b0nczJM84a3fQy1Q5a/JuV0T/Y6ljCQ6jjFqgFzaxrTI4eVvcOHiIQeLxWSCnz9FzthwNw2bwjNvEzcs6E8G22T87aKKZuBw3fpPMapccjqo7qErSo4P7qlP0ci4s4NCb0zDhOQvOS3Cgl4mY8muIHiNEp9xX6C/tdo0zcm+ym9iu9LWSZfx5aU1XDkiZyFTO5CAPCYBr4Njs2JxZdzJmIf1knAUmiwHl6JR2hSpm6ZyavjXG9LcQYAdZZVfMZFRUnspHP07TipJsgcFvbjK+AgRHz47YYB0/zxl3cgK8ytPdIsL4WGCQb9Fj18BW/Y5CO5VNeWNjDI2n+4quu3t1h9i5cdZP5oc0OqqXPONc9Qyk1aBR66joeZHJlvQhMsdRbOs6KXWGen50iT6udI4/2ItRv+3pp1tBNxO97s3fOYzuGbuVt0lSv4gwQKIyB+zs3sqQYQsMJiQ+qy2DiQyQ7SZHxGH4x0Rcs0pV1uQgN6so5WYIL4PJNpPOMRz6Cgp2LeRYjdGprqLVo0w1ntxLH/XHLD3ozyDNJKeb/mTsJoRgyilzbtLoymnbZXBszsgdzaRNoK1Wy9oXRKdQoC12Io51HNt18svwkKM+L0L9tsIY0aE7OBjVMwLHa+cj8AsUju3s1mr5NRlrPNK0zcS3Y3X+z47q0YzxZX/6vcrSl2wnNkdOrSP5+pdDEhgES/LYEIfN5rJ6xe9KjjLmQ3YlkHrlS6t9Ki31q5NsxF49u9I/8vAFkRvIJ4s+0WlE2i2w+QsHT3jCEw5f8iVfcviyL/uyw5d/+ZcfnvSkJx2+8iu/crmO6Cu+4isu0IhnL3VZI8L3VV/1VYenPvWpi352a3TPvB0RpK9d9eOMpyLptxJdz1PpFJx7mAjoHRTUfBOEE2NUnGucnAki75WvfOXiXDg9qzWrLiv/rHgQcIBeEjoPNtHyQjYgE7YGLc/KKmOSpg55yedsBTWTlZPgONRLfgwHwp+yVUbHLG+WFtIXVqGO2ujKmXkp7kXti1/84uXdi37kmJFdjr9jbyWcfgmUt6rXBmNCdkfqrfedkke+CRRnJK06mloGbSHlc65NV7tDtsEuZlirp6a50s24C3zqYFvswTgLGHjoHkpZ97kKJqjbAjs2NvlcVbAWHAQ7/aNddncCLttSRt+BtlqQxB4r1JGVOnD47gUUOqxR2gPu0x5IXnjpGKizEtCVfdkFWcjlfZQrsrueUXi2eDvfsRQZORrMTtCOzeIu/T2DfsiOIYvO2m+5r5T0+wN627YIhr9zgMrI0HSqDmbAAoAJw6B0NOM3GQUE55a+z7YKNni+rmB0HBYZJgnj56itRE0e17zDwFPrjgHnWtHzDDhdya+TMTo7h+Y41JcVGYPJZITUW40HBfW+ovKGp99XcCxe9OojddlBWbkLEnYBVup+A2H3pe/0o8nB2WljZCNtNR7aYDyyioLKFxKEE7QzyZCVvGfXSiaklb6FQGxhhlpPHR9jazfJyTpeJNfE7sd3tXxHzQtFH06Vk7aq9x4jY6xvBAw8td8qIkdg0H91lQ9keSHtBbrPcAXtyLFIckQnOBg3acqqD0lje2R24DNuAgrd8dEduTeHzA/5jvbYhLrMNenJy7wJtIVNabs6omuQ50o1fYa0qda1hiqv9skpBFU3bQxt6Q3qN8/BAkr/BMqmjhEi/3ahmwH1XFiCrlWuczkuL66s9E0iW3WTMX/+wREEA9bxVob+dIKXdXFoMVowGJwUB8n5mXC+QDCZTCT5rpw3I696GWTBxITJxEAcDcdootUJYxKZUI5rTHROwGrDxDS5TcJg1gejdM8xzhFS/6gcx2Xn4KsZZ+L01Sa6MF46cngcssDAQXMY2q5OsjP5lTE2ZDq2UX6mlzTjIWBz+I77XHMvPR8FcN4h5+r6TPn0dyAtFNR8/Z/fTmiXT0GtBO3aYhdr/QhrefqAk8ynpe4dV5FvfNkkW6o65j6k79ijMvrSgke6drjqM+/H2Ix+Nx76w65OUMdjPPGlHMKfIyi7pOzE5BlfixVzyhjaRarXPPIln/dMcWR2K35s91M/9VMLP7vQJgHL8R9Z5IIy6mMvCViV9qCXQXWc6viOAh8ewGcOswH9ln7Zg8hg8ykTXZB+CdX0TqBuY4FXP1ugGPPk35fQ23cs7cUSHGaFqsBMQA7ZYOdIxKDnc1Qd79jD7wMEhrw/yODFuAyKieXsmWN0NYFMsnxlwhhcUYIFeM7xBIcfx06uYEWulaIJnm2kK+drApk0dPS5qvsgRh8K+vNejMr1NPp6z/K4xz1uOTflfEwERiz4CpqctB2DcgKxdoB2pY+Miz7h3IyLANmRupHxwIM4EnUJrMg9ko7Cl4mEIm8LdNPnHJux1TZHAsZcECOz93uVm+fYDRhLcmMP4FmfedfAHvSrAGSctYEOQS0H6Ue6eH9gDNggGyJXvRyJHRWZdjx2WT6cIJ9sY+KIkr3rK/0L2htb9DGFAJsjHu0iX1kkmJk3dODUzQdtMv6CtjEhS/DQJvUL5GSbB/oF6CtfH5Bjfqpnht7HoaQH7vWTYMPe6BHZyavIs/7RFgFaOahyR1A2AUcfWDSy79oOPKEt4IkP0Da2l2Pu6OK6RfcXjNo2orue9rSnXfj3HJIR1HsDxritWhi7ThYgEONmrCifoTJoEyXGFkOxBScrhi9PgPE+gCxylbPKt3piGOT7vlw5vOQIBPhNhtSRycLx4+fwQL5VHQcaXU1mRkJOdVThr20PpDE2V8bKIXHa9BXk6Gc1qa2cCdl4Z7KU008ms36lH51NCk6KXoxYPXgd5WUn5tmEU59dkdW/zzQF5NTX6956rkhe8l3Vm/ug5gf6iCPRN45krOCNNSfLPrQ5soKU7+kQR6B/EeALr7Fwz7lzwupiX8aYPek3/VWRcQRXctmOYGa3xH7YljHQp2yNTAGYTGPGftQRWxIc6EG28fOOwtj4EyJ208ZWvvroQ7a5Qmcy9A35rgKOa+QjNkYHixv3dAwvefrBsZRgzGb0d17Ypp0jWoO2sGdjaNdiTtqhmZ/qNJbZESH82e2b63Y25qV2Gp8+DiMor5/0oT9VYmzMD+3oOtf7EZRVv/ebfIff2wjy9I4sOo9Q68r97UbXhbue+tSnXvj3HDqS5spJmRAMkjEzSo6WkTJcBmoS4WP0jCATgdFa+ThecL5uhSefEzdIDNokwi/NYBlIjoWR4yFDUHAExSmawOrMCkBZcjkk9yYzg5RPJuOyMsuE4jDom8CQdtZr4Lmn0ZFudNKWBAdn6yYTI1Tvliz60VNf6kfO36RwZGCnZhKafPK0KRMETFIOyMqIwXOK5KXfO4HrLB/1vJTJtd/XZ8hEM94Cl7E1TnYMHF+CeUfKQ5WddFf9awVoVa5P4pSyWja2WUioM7uB6pCqvBB92FfeIZAlABgLdZDv3ni6shvBgA2qzyIgAU/7BUaO1JGrdLtD40cW4KETWeTQ1djSV725slNzTR3IvbbhVUaaKxvWjswRNmixZafmJTP90+4Ral90slAREBwLGk/t0kfmmfmWAJe2KaN97NaPVwWqjAm+yA1vJf2H9I1n85yM7IyNJcR+evkRmRtsUHCgsy+cHGfXeRSb7YiM3N+OiI7H0haWHp4xJy0dpzNNiqymPLvnjBiGNNcMbJXJaLMdNbBWUIyHkTEwRsNZm5wxQCs4MFGVjXEyFHqYkOoGOqrPhLKCVl+MF+iF10RFdKUnXaJnv4L7+gxJQzHmyKlp7iuS3yGNLnSkmyBmEpBhguuT6qzwa5+2OV4TiAQFwcmYKDfDSK9gTb+a1/nqxEq6CemoUXAzqTkpDiKBK4islKtykx6dHZPkl7bug/DEHqv9SZ/VhyqU08ecqQDENgV/fU1G7AUpmzFTbwIDCFwctPLgWJCzxw/6K6QMGSH9wzZjqwlEoRz9yQ+vctHJFR97ATbCPuoYddT+qGT1zva8A8m7DnXbdQvy5HrX6O9LGWf9lLLuzVXjZV5bGAhsdJVf6w3qvXYgZf1DTXSxULSA1L9r7emgiyMwAZt96Bt6QNdljfbyjeh2xEjPSvc6VoJkBu4zWCh54auU9PAlzTPDtspxVstZiN5WRgaL48hnb1ZYjMJKw0S1IpaunC2yyWaLbsKZHKkrdZg0AoiJwcmSLy98EN36c3hqXkXlsYrlpKyQOQhtYYi20uBHUybqGlJHrY9cE49M7fV3iexC9EkcjHoEPwGTwZt8AoT+gLQXqs4z2spHI54KzyatwCBoWakJ6nTTjnqkMiofSK98ZFq9Op7gjDhMDsoVX0UtN9IXwShd37IX/WwRIzDYKfSdB+DPtRJwRGzAObtA73iRM2WX0PnBvXa60jtUebcIUsbxmNV+jsK0aa0/OtgXh+/zXYGBXeUf8zL3jKd5pR5Bw702Ch7aYf4JGpx5Pqhgp6mv1t2vkHv1WgRmoQH8Q2RVqqhpgoLxsIMBv3Q3VzOm+GbBpsrJ9RREznXRdeDCzBpVNKt8xqfDY4Q1HXEOggAjQwzMQFutMSxpAkC26q7SBJEEBsTYBYZubOo1AQ08fvmM1EpjC1XPyKzoea4xKE7K5FC3yWGFpD2c+whdVoU2kKGNnIoXj16Akl9XO3GY6hQUtFl9o/6fOYXQWn6VBfUe8kwfDkVQM4kddXGunIIx1iaywjuiCs+CpLEzhj6T9o/MO0bTD9o60wVqmzpqWniQvmMzFjCCj3vB36o1CG+/h7RBPygjsHCm7Ng4df4OeV3v3M+oQxpnak5pDxuxSKLTiH8E7TB2PqUW4I2BOeh9lvnIvo0puxN07G4FIkehyuYYx67DrhH/aLw6lEV0zT3SHuPh3nGZEwf3kH7oVJFFnL5wQpHd9/0Jvf2dTsF5cBgJmKX19J6W5xGflYBJhxgMynNN72mVTLS6lQ5Sp9U6Y+Jg8TKOIDxBfa7pQeePwYJ0To9jFszcMzwTiVPUjoouq6LmaRsj1gbkPqscwOdZXdqoPitUafKqg4nMjr35ue8YldXPnIJzds5CALfLM7nxxmlyNp04lNwLMBya1SJn4BPOZz/72cuuQZ9aDRtXMBZVj65XHa+KzhdIYz8ceoJa+Eb8I+DTZmPDgZInbU2XXDttITy1jDnCHgUnDtERWQ0OIx0CPMr4MaZdg8Bs5y4wkGmBxz6RNrJBgcR7QLsI46u8IzU7KIskttmDXmzBWFvZuyqnPpQ5S1djnsWWnYjdaG1DZM7AtuzulROs6E2fiug2ovsDRu1aI9j8x36CPHfDWuOtmPHNeDtm5Q1yDxJgQpqcVi0cyYgHqowK6TN+fcC4TRBHDiaNI7AEL2f/nLr8lJnJGuV5FkRNRPKqbtEVeZFpJxVnOZLVscaTvFF+6hzl59nkc87s+Mfk5lzlSUdWfI5rTNSQ56T5osRq05GUnYJ/3MYfYHvOc56zHG3g0WaTW99GHxjpFSRvjSoEWeOa9zjp247MhS7HmLE7QbseBQaVP2UqRmkV8kfjkXvpdpr6imMUHOJswzMjbTIGjoQcw9DfzpWsLD4QcNYWLmzVEadxs0IXFDwLHPqQHUc2sgAw5nYcFgDez+RegEHkJKCpV6BTl2e2pD3RYw3q0wcCmCCkPXuPN4PKd6vpZmGp72w1du7tR5WvpfW8Y8tXjNLgmPSkMSpGwQDcQxx1cJn6IpP8GLz7+py0NT1HGOWRJb3npZ2ZtDOcmgdb+UAPK32B4XnPe95ytVr0YUBW3nSka3TuMNlNYhOYLA7KhBYwPFtlCsBf93Vft3wWylmNdJM2S59hlEdHOtVxXZNRoY2o6uJKzl7srWsEunrf4S+XctiOJr/4i794cYzy0v9Vt4Dj9nXQN37jNy5t8HeVnvjEJy7BUjBIoCPDCt9fSv2Wb/mWxeE+4xnPOHzhF37hcrz0bd/2bct4+ltIjqKye9KnPjTxr+gJ9gJpdvfylbGLsPP2IlqQAwHBX2RVTh1+PGqRsGX7ZAly3/Vd37X0yVOe8pTDF3zBFyyBq0JbRyA78tfquS8g474XRx0r1Y6CWtkWb3BMWk9P2iw9MAkZjaugEIOGUXk4Nh2kpy73+qOnVXjuaZD0WR55PS/p2jcqm7SeHqzlwTH5JpaVoj+f7DiJU/feIf9uh78T9YIXvGD5Xt29tKT7O1LIn11Jml2Cv1PkCMEKUr9qp1W8FXk96oHoUnXawha/9Lo7mfF14DP2VtPV7shZQ+o4pq6glks9OdbybDw4/TjA7iQ8h6z69bsydsQcu1V73X2HBGx8diacvyMbAURdgrt05bLzUj/5bMMn7e7V6WWxI0PO27Gkr6N8aOGYSTk86iZH8BCU1L0F5fDblbAjx7/ZCXbUdnW6v2DUthnB0cdKFaM0mPGOZM54O2Zpe9LzPOINMjnQFmayZvLX+I8tA0mv+dF7rVywJnet/Fq+FZoJ6zjND6+8iHWsgjiYEfkSTb4rfmfbflnvV+O+9PJC3pdafjlsFenZi1YO6BhUvWf6V1wVr2dOLQ476GXQXuwpqz4OXXCwMrdC5yA57dj4SAbnjdduw33epeVoM3zKy+dwOXPjrj4BCfIewW4gizNl1J9g4p3O533e5y27GmXlOYJiDz4IsLJP36nX1aKAPLIT6GaIjnRxhAXqFMDqgiq0hs57q+hmYqnzpS996QVv2JWYKTXjG/GfKhOughfkZVLMcExdMEqvacfKg1PzIPnaCVv8EJ7L1MsJOP7xJRFHgaycZ6jy3Hf5VX9k9Yey8ssRRRxElVHvK0ZpFVv5x/TpCKeUO7WuwJ+deNaznrU4ZMcwgqzjIW2Jg4S0jYP2vug7v/M7lxfS/mz3V3/1Vy8BuQcHvFb43/zN37yU8a/qPfOZz1y+Ekw6p/8N3/ANy3sxZe0UBBN6OYbyOTvH7R/t8Tns0572tMV5e7ntCMxLcMdK6lPWv5v9vd/7vUsAcTzkgwftgN5XbIOOjrj840B09ENEAck7Ovxpt+ss2OCL7F7HfQ1p715cWNL0xo86o3ZWUJ+rAlu8FaP0Wdpe3oqtjpmVPzZ9C2vljskbtUfaXgMgb6sNWzzJ5zhMajsGv2mw6rcD8G9PVJIWqmnKdOIY7CScPbvn2LzD4FSgtjV6hPbimDKXkX1quVOQssaEY/WVDwfqJa8V+8xGkp53PlbpnLuyHGfeBVgI4OOsvTvwMtnOQuBWBm+VX1fpFgx2BHgFETtAR0TK2C1w2vS1QxRQujyy3HP6FaO+Cp/gYOEiKPpAQv2RV8uNZETv+wvSnkprWILDiHFUcMQz4guqkcBM5l65ozRIuvp6nRUzmdeVPtJnpN9MZkVkpfyMP7K28juqXnvK13z3Jq7JbFVvAnLineRzCK5oxBPK0RFHZZKTz7nYlfjqyYR39TzSqaLrusZbcSrvHn7oZfaWg1FZVGEcHPPpa45cn6W/OjhhAcV5fJxw3ptxsN4B2BE4nvIuwHsJv2UxNo4BBXT14Td+9Sgq9Rk/HyrY/eEViLybICPHPerFl6AgGLkH1+xM5Y3aEcgXwLy7slsRkBwr0SsBLoic6BoKevpl6XbCSL/Q5r8EB7O0jhFfhQEZDUrFZeTO+Ebpx/AGp/CP8mofQPTv6R2n1AXJ21t2pMee8p2ny0meSZ7JP4LJ6yjE8YJ/G4QT8hKTE5HuiMDLbg5qLTjUtFF+R3iumjc4pQz0cnvLCrD5zFqQ1Z9W6nH6XRZnHudtfLxT8KEBB+srNEc6PjEWaPyWxaen3hX5EsouzxdknK8FAiIvjlg9ZArojh/9KQy/hfASmhPPuyTBx98Uky54CBTR187FDkYQqXpXpE3qYiv+fIdA5CgqXz4laG3Nt+tCdLxqumpsHivtSYNT+AxOH6C9aRVrdW3pULGWfqycU2QdWwZOzYO9+TOemj/jgeQZQxPeS09OivPhGHJcAXjxyRMQrFgFCKtWK1YrTb/cNenjPKr86JK0LRzLH8QmRxRU2Xvl9zJ7y1WkjL5xVJPjOF8IOV7S1+Ghr3sOkxPGz+ELKN4H5O8Z5WskwZhzR3j864SO/BwL2XWQ4+rlNLnGNgFccPc1m9+vCC5kG1/1KONzVQFMuvvohjh7tkKWnRBdIfkhUE4w9G5DgHBE5ceY+gDw1XGaIfLuK6j9sIe2cKljJTim7IhvxtsxSoMZ72XTk7aXH7bSjykD15m3p+xsAo3KczhZ2WVX4FrJxHZGbSfgk1Xk189WilaonL1yVoackXNiTkZA8K06Hvf4rAL9KCpHETBrU0V0H7VhhD18VV7lpdesD4NZ2T3oZUOBe6tmXy05yxeUOXWr9xqMEaeO9Lv3Af6WFwfMeVvF4xHQ/c7Ay2pyH/vYxy5HSsYoq3FkTHLExEmzCRAc7DYEG+PoE1YOH7+FgBfOdoQWAYKNXQib0YeueN0LDuqbQT3qsIhgQ/4WlKBnZ6IcWwyi84h6fn8e0X0JI/0r3fU1X/M1q/+eQ7AnbVR2lAaztGPKz9I7rkIGnCJnlA5bZY7Ng1PzYJaftOSPeExYjsPxg0kfR8EZcQ6Z5D6RtGJ0LOT4QL5VI2fvOINjwhtwAmRb8QoMVqocjReljgm8YMzxxQxV75HuHTP+7uRHPDOEp5YJ7cUpZfHom/S/4yBOWP/50oezxJO2RaZ0uwSwg5NvZS9I+IGjoOHPXvsAwT1na1WecTeexto7Dk7ZOMmnQ3YE6hfcBYH8kputIJ+0+ljBAiA6eZmeP7ktcOWFtvzwAF3obIdid5mPG3z9FF7113JJG6HzbSH8N4uuExeCw6iykRKztI5Z2jG8HWvle/oxvHDd6XCVZSB511W2XkeQZ0L6G0jf8z3fs6zYTHBOgDOyOjQxpTlOwOfFoKMLL0vdOxcXHDgDRyEQpyaACCjOp/MH3wQGK2Er1nqsFHgOBZ0nqLwznmAvX1B595aBlKt0LFLGVR8JolbknCZHy2kLAHHolZ/TzXi4eh9gDAUCxzQcuqMkuw8O2Phz8HYAwNFy0GyBfM7eWCkvMBlv4+7dBjKudJHO6ftCzT29lU9gsxOQ5rcRXjCrL/rH4QsyAqAjJbsXOxvy8WbHkDJByo8gL7y1zO2C6HcM7cV5cBgV6mkz4afywYh3bxqspXecIuOYdFhLP0XWZfJOKQs9f8RbeUw6xxX+3WOrfbsHX4hYOTpDtkp01p0/t/34xz9++cZdcODk8726YJCJS6bdiHcNXoJyLJyCs2M7CM4uzgOiT3TqqOlbvB34Zs4jqDJDFf25Yq3cHvTyXYY+0rdW7wKEox0BgNOU3svit1PgyPW14MB5K8/h+3pJ8BcYBAEBG1+CQ654jaF8AcUYkiHQOO6xc0gAkp/gzx7UTxd2ICCxHQsNP5j0+TPdYiso46N9bM4OwwJEYNJWCG+noKdHflDv78uobVyju57+9Kd/k5uKZFb0Z7gMH1w27dj0EY5Jn8mGWd6x6XAdebCnbJxtR/JDFSaw1Z2JbkVqledoIX98kOOQZjWXSe9YyQpP0OBAOCmBBb93F44w7DKQspyHv6ljxWmy46vOYaRXsIenYsQ/Cg6dZwvhq+X2loVeLrQH+kr/cqqcrfcOno1XxgRc06/6WADGJxg78/dewCLADsTOwVdKVufVWbsaI4HDIsHYcvzS5LEXfIKFOtSvjuiBB8hXJ1vxUQLH7zjLOxSyKi+Z+NmSXSZZdiACEeANf+7vi3QzMXzn0LEnbab8LG1P+VEajNJgxntV6SMcKweOlQWn5sExZTtf8nt6Bcdpslpd2jVw7CawiWzlxrFzFCatF9LeM3AanvOXPK1O7SpM8Jxtc2IciB2I4wI/rsOXHcOaTl3vNV7o/BUJDJVnxDdCL7O3HJxaLujlq7NPcHV8Y+yC8Aa1PEdtRe6IUFBxtGSMHQ0Zp8rrWVAwto6xPKtXmjHGU+XHySddnxtz9uTX02zGV1d2DRYhqS/l8Fug5Id+7M+iJEEEcj0Vly1/FaDDsXQq7njZy152viTqgkaCL5MGt1JmcFnZwbFlrlIWrOXBqWX36pJnk9JEthr1R/Ss9v2ZZ0cA8jh0gcCXKHYFJrkjBRMbOY82mR054PPC2spPeY7IH+yzw3jyk5+8vFy0Sq2Tfgtx7rC3TFD544j2opa1soVZ/cfq1bGnvH6gh7FCynDWcbTyXSMraeAqWOdYSf8bVw6Y09c3tSx+wcTRkw8KHENx7I56+nFgvdIvREe7TXZj5+EFuDrp2+tL/wo8CE/46JJ2hP/NuDfSR8Gyc6idHIw68bJpPX1vGszS9vLCMfwzXliTc0w6bOWNsFYGtmRulZ0hZasMBmV16BzbKs836hy6YwhHS/WzxBxl+IKE47fitHI14fF7+ewvsgoOjo+8lzDp7S6sWAUa9Vo5CiTVwUSfEZK/xlMx498qX8t13u6c1nj34JTy4eU0Bd+6A4uM2T3gFdQ5auPmyEaQiAyoV7sT460+jt44e78gvcrOfZ4h9z5LNe7ZCdC5BocKafLId62oddzOdCvRdVneOdydd46Rkj0tAjpO5YNZ2lXwHps+wrFy4FhZcIo8OFUm7Mmv1wpbfis8q3sO3sreBLWC48QdN9kdWEkiDoOzFEQ8cxwmMzmCCxlWif5yqwkv6AgOghAINtXJQF/1HIu0f9S+YJS3pxzQLzxbvCPUek4pH8SBuoZmMqXVoKacoCIgdCc9Inn4BHNfFzmKskiQF4zucyXfUaOgkrJkQi0H/RmkIXLyfLsjOm/RzcAdL3/5y89n1ajSW5UGl+WF65IBs3S4yjJws/NglD9Kc9zg+MB7BI5fQOD0BQmfOAoOdgZ2Dpy8r06QoGCy+zrFH1sz+XOmbddgpSjA4PUbCrwchV1HPq0ManCoOq4Fja32V+ANHQtlcuyxt/wp9VTMyq/J3QqwaQfCW4PDGsIfxz5DlZMyKScv+fLWZPV24I2s/884tv3nwWE0wHvSRjxwqjy4rEy4ivQZL1xVvXCV9QSn1gd78isPJ58Xj4IApyEtq0zPVvkmtWMmQUQQwEOOXYVPGF1BmgCjDHhPkV2DAFLzttAnxFbbKjrvlnMLRnVsTcxj9Oo4pexMxzVZaUOueMPvulUe9vAE7AXi3FNuTUZ0ezNOQ+2/JTiMOrqn7eGB2aBdpvxlZcLtlg6n5K2VgVPrg735nS8G5RoHWidwvTfh7QacI6ecMpy9IIIvFOCrvMmrPDPUuvdgjXctOGzVEf2DY3TquEzZIDJy7fqdiqrbSM9j6qk7hD3juCZ7q+zthqsaj9NxOPwfb5LfshWRD6cAAAAASUVORK5CYII=)\n"
      ],
      "metadata": {
        "id": "qadkhw-OyclT"
      }
    },
    {
      "cell_type": "code",
      "source": [
        "def KL_divergence(teacher_logits, student_logits):\n",
        "  p_teacher = F.softmax(teacher_logits, dim=1)\n",
        "  p_student = F.log_softmax(student_logits, dim=1)\n",
        "  loss = F.kl_div(p_student, p_teacher, reduction='batchmean')\n",
        "  return loss"
      ],
      "metadata": {
        "id": "MNsLDMNobL6s"
      },
      "execution_count": 47,
      "outputs": []
    },
    {
      "cell_type": "code",
      "source": [
        "student_model = NormalModel().to(device)\n",
        "optimizer = torch.optim.Adam(student_model.parameters(), lr=0.001)\n",
        "for epoch in range(5):\n",
        "    student_model.train()\n",
        "\n",
        "    for images, labels in train_loader:\n",
        "      optimizer.zero_grad()\n",
        "      student_logits = student_model(images.to(device))\n",
        "      teacher_logits = cnn_model(images.to(device)).detach()\n",
        "      # print(student_logits.shape, teacher_logits.shape)\n",
        "      loss = KL_divergence(student_logits, teacher_logits)\n",
        "      loss.backward()\n",
        "      optimizer.step()\n",
        "    print(f\"Epoch [{epoch+1}/{n_epochs}] {evaluate(cnn_model)}\")\n",
        ""
      ],
      "metadata": {
        "colab": {
          "base_uri": "https://localhost:8080/"
        },
        "id": "0rZ3M9DNgIQe",
        "outputId": "12830913-d433-4278-80cc-ad8324ff9c86"
      },
      "execution_count": 49,
      "outputs": [
        {
          "output_type": "stream",
          "name": "stdout",
          "text": [
            "Test Accuracy 98.35%\n",
            "Epoch [1/5] None\n",
            "Test Accuracy 98.35%\n",
            "Epoch [2/5] None\n",
            "Test Accuracy 98.35%\n",
            "Epoch [3/5] None\n",
            "Test Accuracy 98.35%\n",
            "Epoch [4/5] None\n",
            "Test Accuracy 98.35%\n",
            "Epoch [5/5] None\n"
          ]
        }
      ]
    },
    {
      "cell_type": "markdown",
      "source": [
        "Its cearly visible that the Accuracy of the Student model is same as Teacher model with less model complexity"
      ],
      "metadata": {
        "id": "Cb80MOfFy6Dd"
      }
    }
  ]
}