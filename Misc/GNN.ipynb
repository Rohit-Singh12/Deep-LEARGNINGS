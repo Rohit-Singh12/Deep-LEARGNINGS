{
  "nbformat": 4,
  "nbformat_minor": 0,
  "metadata": {
    "colab": {
      "provenance": [],
      "authorship_tag": "ABX9TyO7+jAiXmZ5dlQ2kgbdRdhh",
      "include_colab_link": true
    },
    "kernelspec": {
      "name": "python3",
      "display_name": "Python 3"
    },
    "language_info": {
      "name": "python"
    }
  },
  "cells": [
    {
      "cell_type": "markdown",
      "metadata": {
        "id": "view-in-github",
        "colab_type": "text"
      },
      "source": [
        "<a href=\"https://colab.research.google.com/github/Rohit-Singh12/Deep-LEARGNINGS/blob/main/Misc/GNN.ipynb\" target=\"_parent\"><img src=\"https://colab.research.google.com/assets/colab-badge.svg\" alt=\"Open In Colab\"/></a>"
      ]
    },
    {
      "cell_type": "code",
      "source": [
        "!pip install torch_geometric"
      ],
      "metadata": {
        "id": "Qow8IFEY8g7U",
        "colab": {
          "base_uri": "https://localhost:8080/"
        },
        "outputId": "32534169-9e66-42f8-c7b8-572e4ac9beda"
      },
      "execution_count": 32,
      "outputs": [
        {
          "output_type": "stream",
          "name": "stdout",
          "text": [
            "Requirement already satisfied: torch_geometric in /usr/local/lib/python3.11/dist-packages (2.6.1)\n",
            "Requirement already satisfied: aiohttp in /usr/local/lib/python3.11/dist-packages (from torch_geometric) (3.11.15)\n",
            "Requirement already satisfied: fsspec in /usr/local/lib/python3.11/dist-packages (from torch_geometric) (2025.3.2)\n",
            "Requirement already satisfied: jinja2 in /usr/local/lib/python3.11/dist-packages (from torch_geometric) (3.1.6)\n",
            "Requirement already satisfied: numpy in /usr/local/lib/python3.11/dist-packages (from torch_geometric) (2.0.2)\n",
            "Requirement already satisfied: psutil>=5.8.0 in /usr/local/lib/python3.11/dist-packages (from torch_geometric) (5.9.5)\n",
            "Requirement already satisfied: pyparsing in /usr/local/lib/python3.11/dist-packages (from torch_geometric) (3.2.3)\n",
            "Requirement already satisfied: requests in /usr/local/lib/python3.11/dist-packages (from torch_geometric) (2.32.3)\n",
            "Requirement already satisfied: tqdm in /usr/local/lib/python3.11/dist-packages (from torch_geometric) (4.67.1)\n",
            "Requirement already satisfied: aiohappyeyeballs>=2.3.0 in /usr/local/lib/python3.11/dist-packages (from aiohttp->torch_geometric) (2.6.1)\n",
            "Requirement already satisfied: aiosignal>=1.1.2 in /usr/local/lib/python3.11/dist-packages (from aiohttp->torch_geometric) (1.3.2)\n",
            "Requirement already satisfied: attrs>=17.3.0 in /usr/local/lib/python3.11/dist-packages (from aiohttp->torch_geometric) (25.3.0)\n",
            "Requirement already satisfied: frozenlist>=1.1.1 in /usr/local/lib/python3.11/dist-packages (from aiohttp->torch_geometric) (1.6.0)\n",
            "Requirement already satisfied: multidict<7.0,>=4.5 in /usr/local/lib/python3.11/dist-packages (from aiohttp->torch_geometric) (6.4.3)\n",
            "Requirement already satisfied: propcache>=0.2.0 in /usr/local/lib/python3.11/dist-packages (from aiohttp->torch_geometric) (0.3.1)\n",
            "Requirement already satisfied: yarl<2.0,>=1.17.0 in /usr/local/lib/python3.11/dist-packages (from aiohttp->torch_geometric) (1.20.0)\n",
            "Requirement already satisfied: MarkupSafe>=2.0 in /usr/local/lib/python3.11/dist-packages (from jinja2->torch_geometric) (3.0.2)\n",
            "Requirement already satisfied: charset-normalizer<4,>=2 in /usr/local/lib/python3.11/dist-packages (from requests->torch_geometric) (3.4.1)\n",
            "Requirement already satisfied: idna<4,>=2.5 in /usr/local/lib/python3.11/dist-packages (from requests->torch_geometric) (3.10)\n",
            "Requirement already satisfied: urllib3<3,>=1.21.1 in /usr/local/lib/python3.11/dist-packages (from requests->torch_geometric) (2.4.0)\n",
            "Requirement already satisfied: certifi>=2017.4.17 in /usr/local/lib/python3.11/dist-packages (from requests->torch_geometric) (2025.4.26)\n"
          ]
        }
      ]
    },
    {
      "cell_type": "code",
      "source": [
        "from torch_geometric.datasets import KarateClub"
      ],
      "metadata": {
        "id": "Z6KAySVvUBgP"
      },
      "execution_count": 33,
      "outputs": []
    },
    {
      "cell_type": "code",
      "source": [
        "dataset = KarateClub()"
      ],
      "metadata": {
        "id": "Il-P3F0tUXUT"
      },
      "execution_count": 34,
      "outputs": []
    },
    {
      "cell_type": "code",
      "source": [
        "dataset.num_classes"
      ],
      "metadata": {
        "colab": {
          "base_uri": "https://localhost:8080/"
        },
        "id": "TiV1gMAWUbAJ",
        "outputId": "2e721354-be92-4d48-d36d-02d16ff9bafb"
      },
      "execution_count": 35,
      "outputs": [
        {
          "output_type": "execute_result",
          "data": {
            "text/plain": [
              "4"
            ]
          },
          "metadata": {},
          "execution_count": 35
        }
      ]
    },
    {
      "cell_type": "code",
      "source": [
        "dataset.num_features"
      ],
      "metadata": {
        "colab": {
          "base_uri": "https://localhost:8080/"
        },
        "id": "eyjThv1rUzSS",
        "outputId": "20833a1a-d32d-4d30-dafe-4b316f3eae52"
      },
      "execution_count": 36,
      "outputs": [
        {
          "output_type": "execute_result",
          "data": {
            "text/plain": [
              "34"
            ]
          },
          "metadata": {},
          "execution_count": 36
        }
      ]
    },
    {
      "cell_type": "code",
      "source": [
        "graph = dataset[0]"
      ],
      "metadata": {
        "id": "ySLofmfXUjtw"
      },
      "execution_count": 37,
      "outputs": []
    },
    {
      "cell_type": "code",
      "source": [
        "graph"
      ],
      "metadata": {
        "colab": {
          "base_uri": "https://localhost:8080/"
        },
        "id": "7BytJoYdUrR_",
        "outputId": "6dea171a-3bbe-4048-f24b-2679dccd770c"
      },
      "execution_count": 38,
      "outputs": [
        {
          "output_type": "execute_result",
          "data": {
            "text/plain": [
              "Data(x=[34, 34], edge_index=[2, 156], y=[34], train_mask=[34])"
            ]
          },
          "metadata": {},
          "execution_count": 38
        }
      ]
    },
    {
      "cell_type": "code",
      "source": [
        "graph.edge_index"
      ],
      "metadata": {
        "colab": {
          "base_uri": "https://localhost:8080/"
        },
        "id": "Kg8EV82GV1oB",
        "outputId": "20395c96-355d-4ab0-ddd1-27fc47795340"
      },
      "execution_count": 39,
      "outputs": [
        {
          "output_type": "execute_result",
          "data": {
            "text/plain": [
              "tensor([[ 0,  0,  0,  0,  0,  0,  0,  0,  0,  0,  0,  0,  0,  0,  0,  0,  1,  1,\n",
              "          1,  1,  1,  1,  1,  1,  1,  2,  2,  2,  2,  2,  2,  2,  2,  2,  2,  3,\n",
              "          3,  3,  3,  3,  3,  4,  4,  4,  5,  5,  5,  5,  6,  6,  6,  6,  7,  7,\n",
              "          7,  7,  8,  8,  8,  8,  8,  9,  9, 10, 10, 10, 11, 12, 12, 13, 13, 13,\n",
              "         13, 13, 14, 14, 15, 15, 16, 16, 17, 17, 18, 18, 19, 19, 19, 20, 20, 21,\n",
              "         21, 22, 22, 23, 23, 23, 23, 23, 24, 24, 24, 25, 25, 25, 26, 26, 27, 27,\n",
              "         27, 27, 28, 28, 28, 29, 29, 29, 29, 30, 30, 30, 30, 31, 31, 31, 31, 31,\n",
              "         31, 32, 32, 32, 32, 32, 32, 32, 32, 32, 32, 32, 32, 33, 33, 33, 33, 33,\n",
              "         33, 33, 33, 33, 33, 33, 33, 33, 33, 33, 33, 33],\n",
              "        [ 1,  2,  3,  4,  5,  6,  7,  8, 10, 11, 12, 13, 17, 19, 21, 31,  0,  2,\n",
              "          3,  7, 13, 17, 19, 21, 30,  0,  1,  3,  7,  8,  9, 13, 27, 28, 32,  0,\n",
              "          1,  2,  7, 12, 13,  0,  6, 10,  0,  6, 10, 16,  0,  4,  5, 16,  0,  1,\n",
              "          2,  3,  0,  2, 30, 32, 33,  2, 33,  0,  4,  5,  0,  0,  3,  0,  1,  2,\n",
              "          3, 33, 32, 33, 32, 33,  5,  6,  0,  1, 32, 33,  0,  1, 33, 32, 33,  0,\n",
              "          1, 32, 33, 25, 27, 29, 32, 33, 25, 27, 31, 23, 24, 31, 29, 33,  2, 23,\n",
              "         24, 33,  2, 31, 33, 23, 26, 32, 33,  1,  8, 32, 33,  0, 24, 25, 28, 32,\n",
              "         33,  2,  8, 14, 15, 18, 20, 22, 23, 29, 30, 31, 33,  8,  9, 13, 14, 15,\n",
              "         18, 19, 20, 22, 23, 26, 27, 28, 29, 30, 31, 32]])"
            ]
          },
          "metadata": {},
          "execution_count": 39
        }
      ]
    },
    {
      "cell_type": "code",
      "source": [
        "from torch_geometric.utils import to_networkx\n",
        "import networkx as nx\n",
        "import matplotlib.pyplot as plt\n",
        "import torch"
      ],
      "metadata": {
        "id": "P4q1trfJV3n-"
      },
      "execution_count": 40,
      "outputs": []
    },
    {
      "cell_type": "code",
      "source": [
        "G = to_networkx(graph, to_undirected=True)"
      ],
      "metadata": {
        "id": "-2WX9AQpWPYI"
      },
      "execution_count": 41,
      "outputs": []
    },
    {
      "cell_type": "code",
      "source": [
        "plt.figure(figsize=(9,6))\n",
        "nx.draw_networkx(\n",
        "    G,\n",
        "    pos=nx.spring_layout(G, seed=42),\n",
        "    node_size=400,\n",
        "    node_color=graph.y,\n",
        "    cmap=\"Set2\",\n",
        "    edge_color=\"orange\",\n",
        "    font_size=10,\n",
        "    font_color = \"black\"\n",
        ")\n",
        "plt.show()"
      ],
      "metadata": {
        "colab": {
          "base_uri": "https://localhost:8080/",
          "height": 499
        },
        "id": "R1bv4gP-WUQ0",
        "outputId": "026e14c9-2a7d-4738-dcce-802c893ae035"
      },
      "execution_count": 42,
      "outputs": [
        {
          "output_type": "display_data",
          "data": {
            "text/plain": [
              "<Figure size 900x600 with 1 Axes>"
            ],
            "image/png": "[encoded data removed]"
          },
          "metadata": {}
        }
      ]
    },
    {
      "cell_type": "code",
      "source": [
        "graph.y"
      ],
      "metadata": {
        "colab": {
          "base_uri": "https://localhost:8080/"
        },
        "id": "JIWMj9DkWi75",
        "outputId": "db92d7b1-a5cf-4fcc-9ccc-a6add4ce7719"
      },
      "execution_count": 43,
      "outputs": [
        {
          "output_type": "execute_result",
          "data": {
            "text/plain": [
              "tensor([1, 1, 1, 1, 3, 3, 3, 1, 0, 1, 3, 1, 1, 1, 0, 0, 3, 1, 0, 1, 0, 1, 0, 0,\n",
              "        2, 2, 0, 0, 2, 0, 0, 2, 0, 0])"
            ]
          },
          "metadata": {},
          "execution_count": 43
        }
      ]
    },
    {
      "cell_type": "code",
      "source": [
        "graph.train_mask.sum()"
      ],
      "metadata": {
        "colab": {
          "base_uri": "https://localhost:8080/"
        },
        "id": "xN79FKyaW0ac",
        "outputId": "2e4e9b28-7a3b-41b3-8336-0f2278c082e1"
      },
      "execution_count": 44,
      "outputs": [
        {
          "output_type": "execute_result",
          "data": {
            "text/plain": [
              "tensor(4)"
            ]
          },
          "metadata": {},
          "execution_count": 44
        }
      ]
    },
    {
      "cell_type": "code",
      "source": [
        "graph.is_directed()"
      ],
      "metadata": {
        "colab": {
          "base_uri": "https://localhost:8080/"
        },
        "id": "wf9b_JsFW8kB",
        "outputId": "225b5d5c-e059-45e3-89a2-c61c54e929cc"
      },
      "execution_count": 45,
      "outputs": [
        {
          "output_type": "execute_result",
          "data": {
            "text/plain": [
              "False"
            ]
          },
          "metadata": {},
          "execution_count": 45
        }
      ]
    },
    {
      "cell_type": "code",
      "source": [
        "graph.has_self_loops()"
      ],
      "metadata": {
        "colab": {
          "base_uri": "https://localhost:8080/"
        },
        "id": "YWX8wxfTX_xE",
        "outputId": "61f2f3d1-bf87-4f4c-cdb2-a953ebb50bc6"
      },
      "execution_count": 46,
      "outputs": [
        {
          "output_type": "execute_result",
          "data": {
            "text/plain": [
              "False"
            ]
          },
          "metadata": {},
          "execution_count": 46
        }
      ]
    },
    {
      "cell_type": "code",
      "source": [
        "graph.has_isolated_nodes()"
      ],
      "metadata": {
        "colab": {
          "base_uri": "https://localhost:8080/"
        },
        "id": "HGOfr2GVYHvk",
        "outputId": "684f23f4-079e-4fd4-93d6-6781f6350657"
      },
      "execution_count": 47,
      "outputs": [
        {
          "output_type": "execute_result",
          "data": {
            "text/plain": [
              "False"
            ]
          },
          "metadata": {},
          "execution_count": 47
        }
      ]
    },
    {
      "cell_type": "code",
      "source": [
        "import torch.nn as nn\n",
        "import torch_geometric.nn as tgnn\n",
        "\n",
        "class GraphNetwork(nn.Module):\n",
        "  def __init__(self):\n",
        "    super().__init__()\n",
        "    self.gcn = tgnn.GCNConv(34, 10)\n",
        "    self.fc1 = nn.Linear(10, 4)\n",
        "\n",
        "  def forward(self, x, edge_index):\n",
        "    hidden = self.gcn(x, edge_index)\n",
        "    output = torch.relu(self.fc1(hidden))\n",
        "    return hidden, output"
      ],
      "metadata": {
        "id": "rH3Ex83zYMq3"
      },
      "execution_count": 48,
      "outputs": []
    },
    {
      "cell_type": "code",
      "source": [
        "model = GraphNetwork()\n",
        "criterion = torch.nn.CrossEntropyLoss()\n",
        "optimizer = torch.optim.Adam(model.parameters(), lr=1e-3)"
      ],
      "metadata": {
        "id": "56fP2TUQcVDv"
      },
      "execution_count": 49,
      "outputs": []
    },
    {
      "cell_type": "code",
      "source": [
        "from sklearn.metrics import accuracy_score\n",
        "epochs_outputs = []\n",
        "\n",
        "for epoch in range(100):\n",
        "  optimizer.zero_grad()\n",
        "  hidden, output = model(graph.x, graph.edge_index)\n",
        "  loss = criterion(output, graph.y)\n",
        "  acc = accuracy_score(output.argmax(dim=1),graph.y)\n",
        "  loss.backward()\n",
        "  optimizer.step()\n",
        "  epochs_outputs.append(output.argmax(dim=1))\n",
        "  if (epoch == 0) or (epoch+1) % 10 == 0:\n",
        "    print(f'Epoch {epoch+1} | Loss: {loss:.2f} | Acc: {acc*100:.2f}%')"
      ],
      "metadata": {
        "colab": {
          "base_uri": "https://localhost:8080/"
        },
        "id": "qdIsgaYmch8_",
        "outputId": "c0efde40-e885-4b75-b5c6-8fb926795ee3"
      },
      "execution_count": 50,
      "outputs": [
        {
          "output_type": "stream",
          "name": "stdout",
          "text": [
            "Epoch 1 | Loss: 1.39 | Acc: 32.35%\n",
            "Epoch 10 | Loss: 1.38 | Acc: 35.29%\n",
            "Epoch 20 | Loss: 1.36 | Acc: 35.29%\n",
            "Epoch 30 | Loss: 1.35 | Acc: 35.29%\n",
            "Epoch 40 | Loss: 1.34 | Acc: 35.29%\n",
            "Epoch 50 | Loss: 1.33 | Acc: 35.29%\n",
            "Epoch 60 | Loss: 1.32 | Acc: 35.29%\n",
            "Epoch 70 | Loss: 1.31 | Acc: 35.29%\n",
            "Epoch 80 | Loss: 1.29 | Acc: 35.29%\n",
            "Epoch 90 | Loss: 1.28 | Acc: 35.29%\n",
            "Epoch 100 | Loss: 1.27 | Acc: 41.18%\n"
          ]
        }
      ]
    },
    {
      "cell_type": "code",
      "source": [
        "graph.y"
      ],
      "metadata": {
        "colab": {
          "base_uri": "https://localhost:8080/"
        },
        "id": "bUMoz7Rgd4Fn",
        "outputId": "daf87cab-5b33-46c6-8c68-97ad96a9119e"
      },
      "execution_count": 51,
      "outputs": [
        {
          "output_type": "execute_result",
          "data": {
            "text/plain": [
              "tensor([1, 1, 1, 1, 3, 3, 3, 1, 0, 1, 3, 1, 1, 1, 0, 0, 3, 1, 0, 1, 0, 1, 0, 0,\n",
              "        2, 2, 0, 0, 2, 0, 0, 2, 0, 0])"
            ]
          },
          "metadata": {},
          "execution_count": 51
        }
      ]
    },
    {
      "cell_type": "code",
      "source": [
        "from torch_geometric.datasets import CoraFull"
      ],
      "metadata": {
        "id": "AWer89wTfpr1"
      },
      "execution_count": 52,
      "outputs": []
    },
    {
      "cell_type": "code",
      "source": [
        "dataset = CoraFull(root='./')"
      ],
      "metadata": {
        "colab": {
          "base_uri": "https://localhost:8080/"
        },
        "id": "h90rLTo1yWDN",
        "outputId": "c9e93163-0939-4990-903a-abffa941ad32"
      },
      "execution_count": 53,
      "outputs": [
        {
          "output_type": "stream",
          "name": "stderr",
          "text": [
            "Downloading https://github.com/abojchevski/graph2gauss/raw/master/data/cora.npz\n",
            "Processing...\n",
            "Done!\n"
          ]
        }
      ]
    },
    {
      "cell_type": "code",
      "source": [
        "len(dataset)"
      ],
      "metadata": {
        "colab": {
          "base_uri": "https://localhost:8080/"
        },
        "id": "WmnGJ1t0yYh3",
        "outputId": "9edf2d0c-c998-49e7-a801-2285921eb3dd"
      },
      "execution_count": 54,
      "outputs": [
        {
          "output_type": "execute_result",
          "data": {
            "text/plain": [
              "1"
            ]
          },
          "metadata": {},
          "execution_count": 54
        }
      ]
    },
    {
      "cell_type": "code",
      "source": [
        "graph = dataset[0]"
      ],
      "metadata": {
        "id": "qD3u8bmDyyOE"
      },
      "execution_count": 55,
      "outputs": []
    },
    {
      "cell_type": "code",
      "source": [
        "graph"
      ],
      "metadata": {
        "colab": {
          "base_uri": "https://localhost:8080/"
        },
        "id": "DZ83sEVqy0hV",
        "outputId": "5e63eade-aa23-44ad-fdac-240443a05eaa"
      },
      "execution_count": 59,
      "outputs": [
        {
          "output_type": "execute_result",
          "data": {
            "text/plain": [
              "Data(x=[19793, 8710], edge_index=[2, 126842], y=[19793])"
            ]
          },
          "metadata": {},
          "execution_count": 59
        }
      ]
    },
    {
      "cell_type": "code",
      "source": [
        "dataset.num_classes"
      ],
      "metadata": {
        "colab": {
          "base_uri": "https://localhost:8080/"
        },
        "id": "Ipgbu5z4y1E3",
        "outputId": "2d8e262b-e20f-4e09-af25-5fe9f9027989"
      },
      "execution_count": 61,
      "outputs": [
        {
          "output_type": "execute_result",
          "data": {
            "text/plain": [
              "70"
            ]
          },
          "metadata": {},
          "execution_count": 61
        }
      ]
    },
    {
      "cell_type": "code",
      "source": [
        "import torch\n",
        "import torch.nn as nn\n",
        "import torch_geometric.nn as tgnn"
      ],
      "metadata": {
        "id": "utLFnq8Fy5mr"
      },
      "execution_count": 63,
      "outputs": []
    },
    {
      "cell_type": "code",
      "source": [
        "class GCNModel(nn.Module):\n",
        "  def __init__(self, input_dim, hidden_dim, output_dim):\n",
        "    super().__init__()\n",
        "    self.gcn1 = tgnn.GCNConv(input_dim, hidden_dim)\n",
        "    self.gcn2 = tgnn.GCNConv(hidden_dim, hidden_dim)\n",
        "    self.fc1 = nn.Linear(hidden_dim, output_dim)\n",
        "\n",
        "  def forward(self, x, edge_index):\n",
        "    hidden = torch.relu(self.gcn1(x, edge_index))\n",
        "    hidden = torch.relu(self.gcn2(hidden, edge_index))\n",
        "    output = self.fc1(hidden)\n",
        "    return hidden, output\n",
        "\n"
      ],
      "metadata": {
        "id": "GECkE8olzNAf"
      },
      "execution_count": 72,
      "outputs": []
    },
    {
      "cell_type": "code",
      "source": [
        "class GATModel(nn.Module):\n",
        "  def __init__(self, input_dim, hidden_dim, output_dim, heads):\n",
        "    super().__init__()\n",
        "    self.gcn1 = tgnn.GATConv(input_dim, hidden_dim, heads=heads)\n",
        "    self.gcn2 = tgnn.GATConv(hidden_dim*heads, hidden_dim, heads=heads)\n",
        "    self.fc1 = nn.Linear(hidden_dim*heads, output_dim)\n",
        "\n",
        "  def forward(self, x, edge_index):\n",
        "    hidden = torch.relu(self.gcn1(x, edge_index))\n",
        "    hidden = torch.relu(self.gcn2(hidden, edge_index))\n",
        "    output = self.fc1(hidden)\n",
        "\n",
        "    return hidden, output\n",
        "\n"
      ],
      "metadata": {
        "id": "XS7WfvjY0Wru"
      },
      "execution_count": 83,
      "outputs": []
    },
    {
      "cell_type": "code",
      "source": [
        "class GATv2Model(nn.Module):\n",
        "  def __init__(self, input_dim, hidden_dim, output_dim, heads):\n",
        "    super().__init__()\n",
        "    self.gcn1 = tgnn.GATv2Conv(input_dim, hidden_dim, heads=heads)\n",
        "    self.gcn2 = tgnn.GATv2Conv(hidden_dim*heads, hidden_dim, heads=heads)\n",
        "    self.fc1 = nn.Linear(hidden_dim*heads, output_dim)\n",
        "\n",
        "  def forward(self, x, edge_index):\n",
        "    hidden = torch.relu(self.gcn1(x, edge_index))\n",
        "    hidden = torch.relu(self.gcn2(hidden, edge_index))\n",
        "    output = self.fc1(hidden)\n",
        "\n",
        "    return hidden, output"
      ],
      "metadata": {
        "id": "iuuarxkg1Pk5"
      },
      "execution_count": 80,
      "outputs": []
    },
    {
      "cell_type": "code",
      "source": [
        "from sklearn.metrics import accuracy_score\n",
        "def train_model(model, graph, optimizer, criterion, epochs):\n",
        "  for epoch in range(epochs):\n",
        "    optimizer.zero_grad()\n",
        "    hidden, output = model(graph.x, graph.edge_index)\n",
        "    loss = criterion(output, graph.y)\n",
        "    acc = accuracy_score(output.argmax(dim=1), graph.y)\n",
        "    loss.backward()\n",
        "    optimizer.step()\n",
        "\n",
        "    print(f'Epoch {epoch+1} | Loss: {loss:.2f} | Acc: {acc*100:.2f}%')"
      ],
      "metadata": {
        "id": "0SzpZWBR1YRG"
      },
      "execution_count": 81,
      "outputs": []
    },
    {
      "cell_type": "code",
      "source": [
        "graph"
      ],
      "metadata": {
        "colab": {
          "base_uri": "https://localhost:8080/"
        },
        "id": "GORZC0te2vez",
        "outputId": "e089d3ad-0af7-453d-bd7b-a8f1294813ab"
      },
      "execution_count": 76,
      "outputs": [
        {
          "output_type": "execute_result",
          "data": {
            "text/plain": [
              "Data(x=[19793, 8710], edge_index=[2, 126842], y=[19793])"
            ]
          },
          "metadata": {},
          "execution_count": 76
        }
      ]
    },
    {
      "cell_type": "code",
      "source": [
        "from time import time\n",
        "model = GCNModel(dataset.num_features, 100, dataset.num_classes)\n",
        "\n",
        "criterion = torch.nn.CrossEntropyLoss()\n",
        "optimizer = torch.optim.Adam(model.parameters(), lr=0.005)\n",
        "\n",
        "start = time()\n",
        "train_model(model, graph, optimizer, criterion, 30)\n",
        "print(f\"Training time = {time()-start}\")"
      ],
      "metadata": {
        "colab": {
          "base_uri": "https://localhost:8080/"
        },
        "id": "wnG8mkNL2YNq",
        "outputId": "a5145a84-8fcb-4b3d-d883-918ca57c13a1"
      },
      "execution_count": 77,
      "outputs": [
        {
          "output_type": "stream",
          "name": "stdout",
          "text": [
            "Epoch 1 | Loss: 4.25 | Acc: 1.83%\n",
            "Epoch 2 | Loss: 4.16 | Acc: 10.49%\n",
            "Epoch 3 | Loss: 4.02 | Acc: 10.97%\n",
            "Epoch 4 | Loss: 3.88 | Acc: 10.52%\n",
            "Epoch 5 | Loss: 3.77 | Acc: 11.02%\n",
            "Epoch 6 | Loss: 3.61 | Acc: 18.82%\n",
            "Epoch 7 | Loss: 3.45 | Acc: 24.78%\n",
            "Epoch 8 | Loss: 3.29 | Acc: 35.30%\n",
            "Epoch 9 | Loss: 3.11 | Acc: 40.01%\n",
            "Epoch 10 | Loss: 2.92 | Acc: 43.16%\n",
            "Epoch 11 | Loss: 2.72 | Acc: 46.08%\n",
            "Epoch 12 | Loss: 2.53 | Acc: 49.30%\n",
            "Epoch 13 | Loss: 2.34 | Acc: 52.79%\n",
            "Epoch 14 | Loss: 2.16 | Acc: 55.88%\n",
            "Epoch 15 | Loss: 1.99 | Acc: 57.99%\n",
            "Epoch 16 | Loss: 1.84 | Acc: 60.54%\n",
            "Epoch 17 | Loss: 1.70 | Acc: 62.35%\n",
            "Epoch 18 | Loss: 1.58 | Acc: 63.48%\n",
            "Epoch 19 | Loss: 1.48 | Acc: 64.76%\n",
            "Epoch 20 | Loss: 1.39 | Acc: 65.89%\n",
            "Epoch 21 | Loss: 1.30 | Acc: 67.47%\n",
            "Epoch 22 | Loss: 1.23 | Acc: 68.57%\n",
            "Epoch 23 | Loss: 1.18 | Acc: 69.48%\n",
            "Epoch 24 | Loss: 1.13 | Acc: 70.51%\n",
            "Epoch 25 | Loss: 1.07 | Acc: 71.45%\n",
            "Epoch 26 | Loss: 1.03 | Acc: 72.46%\n",
            "Epoch 27 | Loss: 0.99 | Acc: 73.13%\n",
            "Epoch 28 | Loss: 0.96 | Acc: 73.94%\n",
            "Epoch 29 | Loss: 0.92 | Acc: 74.46%\n",
            "Epoch 30 | Loss: 0.89 | Acc: 74.87%\n",
            "Training time = 60.6645450592041\n"
          ]
        }
      ]
    },
    {
      "cell_type": "code",
      "source": [
        "model = GATModel(dataset.num_features, 100, dataset.num_classes, 4)\n",
        "criterion = nn.CrossEntropyLoss()\n",
        "optimizer = torch.optim.Adam(model.parameters(), lr=0.005)\n",
        "\n",
        "start = time()\n",
        "train_model(model, graph, optimizer, criterion, 30)\n",
        "print(f\"Training time = {time()-start}\")"
      ],
      "metadata": {
        "colab": {
          "base_uri": "https://localhost:8080/"
        },
        "id": "wHxo1kQV2iXS",
        "outputId": "61a096ce-dcce-48e6-b97f-4890b4ad81c0"
      },
      "execution_count": 84,
      "outputs": [
        {
          "output_type": "stream",
          "name": "stdout",
          "text": [
            "Epoch 1 | Loss: 4.25 | Acc: 0.81%\n",
            "Epoch 2 | Loss: 4.04 | Acc: 6.85%\n",
            "Epoch 3 | Loss: 4.13 | Acc: 7.90%\n",
            "Epoch 4 | Loss: 3.69 | Acc: 17.63%\n",
            "Epoch 5 | Loss: 3.64 | Acc: 20.54%\n",
            "Epoch 6 | Loss: 3.44 | Acc: 27.53%\n",
            "Epoch 7 | Loss: 3.13 | Acc: 31.74%\n",
            "Epoch 8 | Loss: 2.79 | Acc: 40.32%\n",
            "Epoch 9 | Loss: 2.48 | Acc: 44.66%\n",
            "Epoch 10 | Loss: 2.20 | Acc: 50.07%\n",
            "Epoch 11 | Loss: 1.92 | Acc: 57.98%\n",
            "Epoch 12 | Loss: 1.73 | Acc: 58.60%\n",
            "Epoch 13 | Loss: 1.55 | Acc: 61.32%\n",
            "Epoch 14 | Loss: 1.42 | Acc: 64.08%\n",
            "Epoch 15 | Loss: 1.30 | Acc: 65.95%\n",
            "Epoch 16 | Loss: 1.22 | Acc: 67.02%\n",
            "Epoch 17 | Loss: 1.14 | Acc: 68.92%\n",
            "Epoch 18 | Loss: 1.06 | Acc: 70.72%\n",
            "Epoch 19 | Loss: 0.99 | Acc: 72.57%\n",
            "Epoch 20 | Loss: 0.93 | Acc: 73.97%\n",
            "Epoch 21 | Loss: 0.87 | Acc: 75.38%\n",
            "Epoch 22 | Loss: 0.80 | Acc: 76.54%\n",
            "Epoch 23 | Loss: 0.76 | Acc: 77.49%\n",
            "Epoch 24 | Loss: 0.70 | Acc: 78.58%\n",
            "Epoch 25 | Loss: 0.66 | Acc: 79.61%\n",
            "Epoch 26 | Loss: 0.62 | Acc: 80.99%\n",
            "Epoch 27 | Loss: 0.58 | Acc: 81.90%\n",
            "Epoch 28 | Loss: 0.54 | Acc: 82.83%\n",
            "Epoch 29 | Loss: 0.51 | Acc: 83.50%\n",
            "Epoch 30 | Loss: 0.48 | Acc: 84.38%\n",
            "Training time = 210.54531168937683\n"
          ]
        }
      ]
    },
    {
      "cell_type": "code",
      "source": [
        "model = GATv2Model(dataset.num_features, 100, dataset.num_classes, 4)\n",
        "\n",
        "criterion = torch.nn.CrossEntropyLoss()\n",
        "optimizer = torch.optim.Adam(model.parameters(), lr=0.005)\n",
        "\n",
        "start = time()\n",
        "train_model(model, graph, optimizer, criterion, 30)\n",
        "print(f\"Training time = {time()-start}\")"
      ],
      "metadata": {
        "colab": {
          "base_uri": "https://localhost:8080/"
        },
        "id": "y0k_296Q4ija",
        "outputId": "30233f9a-d8e8-4285-e427-dc881451100b"
      },
      "execution_count": 85,
      "outputs": [
        {
          "output_type": "stream",
          "name": "stdout",
          "text": [
            "Epoch 1 | Loss: 4.25 | Acc: 0.79%\n",
            "Epoch 2 | Loss: 4.03 | Acc: 6.68%\n",
            "Epoch 3 | Loss: 4.01 | Acc: 4.86%\n",
            "Epoch 4 | Loss: 3.63 | Acc: 24.86%\n",
            "Epoch 5 | Loss: 3.49 | Acc: 32.50%\n",
            "Epoch 6 | Loss: 3.19 | Acc: 35.06%\n",
            "Epoch 7 | Loss: 2.84 | Acc: 37.73%\n",
            "Epoch 8 | Loss: 2.50 | Acc: 45.13%\n",
            "Epoch 9 | Loss: 2.18 | Acc: 52.16%\n",
            "Epoch 10 | Loss: 1.90 | Acc: 56.59%\n",
            "Epoch 11 | Loss: 1.69 | Acc: 60.54%\n",
            "Epoch 12 | Loss: 1.53 | Acc: 63.55%\n",
            "Epoch 13 | Loss: 1.36 | Acc: 65.24%\n",
            "Epoch 14 | Loss: 1.27 | Acc: 66.95%\n",
            "Epoch 15 | Loss: 1.19 | Acc: 68.26%\n",
            "Epoch 16 | Loss: 1.08 | Acc: 70.50%\n",
            "Epoch 17 | Loss: 1.01 | Acc: 72.43%\n",
            "Epoch 18 | Loss: 0.93 | Acc: 74.05%\n",
            "Epoch 19 | Loss: 0.86 | Acc: 75.61%\n",
            "Epoch 20 | Loss: 0.79 | Acc: 77.12%\n",
            "Epoch 21 | Loss: 0.74 | Acc: 78.42%\n",
            "Epoch 22 | Loss: 0.69 | Acc: 79.62%\n",
            "Epoch 23 | Loss: 0.64 | Acc: 80.70%\n",
            "Epoch 24 | Loss: 0.58 | Acc: 82.32%\n",
            "Epoch 25 | Loss: 0.54 | Acc: 83.24%\n",
            "Epoch 26 | Loss: 0.50 | Acc: 84.31%\n",
            "Epoch 27 | Loss: 0.46 | Acc: 85.23%\n",
            "Epoch 28 | Loss: 0.42 | Acc: 86.27%\n",
            "Epoch 29 | Loss: 0.39 | Acc: 87.36%\n",
            "Epoch 30 | Loss: 0.36 | Acc: 88.32%\n",
            "Training time = 440.40130496025085\n"
          ]
        }
      ]
    },
    {
      "cell_type": "code",
      "source": [],
      "metadata": {
        "id": "-kBEGUUV5ksN"
      },
      "execution_count": null,
      "outputs": []
    }
  ]
}