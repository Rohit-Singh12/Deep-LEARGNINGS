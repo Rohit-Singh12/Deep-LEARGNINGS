{
  "nbformat": 4,
  "nbformat_minor": 0,
  "metadata": {
    "colab": {
      "provenance": [],
      "gpuType": "T4",
      "include_colab_link": true
    },
    "kernelspec": {
      "name": "python3",
      "display_name": "Python 3"
    },
    "language_info": {
      "name": "python"
    },
    "accelerator": "GPU"
  },
  "cells": [
    {
      "cell_type": "markdown",
      "metadata": {
        "id": "view-in-github",
        "colab_type": "text"
      },
      "source": [
        "<a href=\"https://colab.research.google.com/github/Rohit-Singh12/Deep-LEARGNINGS/blob/main/Misc/MemoryPinning_fixed.ipynb\" target=\"_parent\"><img src=\"https://colab.research.google.com/assets/colab-badge.svg\" alt=\"Open In Colab\"/></a>"
      ]
    },
    {
      "cell_type": "markdown",
      "source": [
        "# Memory Pinning\n",
        "Memory pinning improved performance by reducing the time required from transfering the data from CPU to GPU.\n",
        "\n",
        "When using a GPU, PyTorch needs to transfer your training data from CPU memory to GPU memory (**VRAM**).\n",
        "\n",
        "Normally:\n",
        "**Data is in pagable memory, and transferring it to GPU is slower.**\n",
        "\n",
        "With memory pinning, **Data is allocated in page-locked (pinned) memory, which allows faster DMA (Direct Memory Access) transfers to GPU.**"
      ],
      "metadata": {
        "id": "MBsyVIZNbIQC"
      }
    },
    {
      "cell_type": "code",
      "execution_count": null,
      "metadata": {
        "colab": {
          "base_uri": "https://localhost:8080/"
        },
        "id": "ea_7ofgzbHfC",
        "outputId": "2701d290-7cf5-4811-d6ef-cb1a99713140"
      },
      "outputs": [
        {
          "output_type": "stream",
          "name": "stdout",
          "text": [
            "Collecting pytorch-lightning\n",
            "  Downloading pytorch_lightning-2.5.1.post0-py3-none-any.whl.metadata (20 kB)\n",
            "Requirement already satisfied: torchvision in /usr/local/lib/python3.11/dist-packages (0.21.0+cu124)\n",
            "Requirement already satisfied: torch>=2.1.0 in /usr/local/lib/python3.11/dist-packages (from pytorch-lightning) (2.6.0+cu124)\n",
            "Requirement already satisfied: tqdm>=4.57.0 in /usr/local/lib/python3.11/dist-packages (from pytorch-lightning) (4.67.1)\n",
            "Requirement already satisfied: PyYAML>=5.4 in /usr/local/lib/python3.11/dist-packages (from pytorch-lightning) (6.0.2)\n",
            "Requirement already satisfied: fsspec>=2022.5.0 in /usr/local/lib/python3.11/dist-packages (from fsspec[http]>=2022.5.0->pytorch-lightning) (2025.3.2)\n",
            "Collecting torchmetrics>=0.7.0 (from pytorch-lightning)\n",
            "  Downloading torchmetrics-1.7.1-py3-none-any.whl.metadata (21 kB)\n",
            "Requirement already satisfied: packaging>=20.0 in /usr/local/lib/python3.11/dist-packages (from pytorch-lightning) (24.2)\n",
            "Requirement already satisfied: typing-extensions>=4.4.0 in /usr/local/lib/python3.11/dist-packages (from pytorch-lightning) (4.13.2)\n",
            "Collecting lightning-utilities>=0.10.0 (from pytorch-lightning)\n",
            "  Downloading lightning_utilities-0.14.3-py3-none-any.whl.metadata (5.6 kB)\n",
            "Requirement already satisfied: numpy in /usr/local/lib/python3.11/dist-packages (from torchvision) (2.0.2)\n",
            "Requirement already satisfied: pillow!=8.3.*,>=5.3.0 in /usr/local/lib/python3.11/dist-packages (from torchvision) (11.2.1)\n",
            "Requirement already satisfied: filelock in /usr/local/lib/python3.11/dist-packages (from torch>=2.1.0->pytorch-lightning) (3.18.0)\n",
            "Requirement already satisfied: networkx in /usr/local/lib/python3.11/dist-packages (from torch>=2.1.0->pytorch-lightning) (3.4.2)\n",
            "Requirement already satisfied: jinja2 in /usr/local/lib/python3.11/dist-packages (from torch>=2.1.0->pytorch-lightning) (3.1.6)\n",
            "Collecting nvidia-cuda-nvrtc-cu12==12.4.127 (from torch>=2.1.0->pytorch-lightning)\n",
            "  Downloading nvidia_cuda_nvrtc_cu12-12.4.127-py3-none-manylinux2014_x86_64.whl.metadata (1.5 kB)\n",
            "Collecting nvidia-cuda-runtime-cu12==12.4.127 (from torch>=2.1.0->pytorch-lightning)\n",
            "  Downloading nvidia_cuda_runtime_cu12-12.4.127-py3-none-manylinux2014_x86_64.whl.metadata (1.5 kB)\n",
            "Collecting nvidia-cuda-cupti-cu12==12.4.127 (from torch>=2.1.0->pytorch-lightning)\n",
            "  Downloading nvidia_cuda_cupti_cu12-12.4.127-py3-none-manylinux2014_x86_64.whl.metadata (1.6 kB)\n",
            "Collecting nvidia-cudnn-cu12==9.1.0.70 (from torch>=2.1.0->pytorch-lightning)\n",
            "  Downloading nvidia_cudnn_cu12-9.1.0.70-py3-none-manylinux2014_x86_64.whl.metadata (1.6 kB)\n",
            "Collecting nvidia-cublas-cu12==12.4.5.8 (from torch>=2.1.0->pytorch-lightning)\n",
            "  Downloading nvidia_cublas_cu12-12.4.5.8-py3-none-manylinux2014_x86_64.whl.metadata (1.5 kB)\n",
            "Collecting nvidia-cufft-cu12==11.2.1.3 (from torch>=2.1.0->pytorch-lightning)\n",
            "  Downloading nvidia_cufft_cu12-11.2.1.3-py3-none-manylinux2014_x86_64.whl.metadata (1.5 kB)\n",
            "Collecting nvidia-curand-cu12==10.3.5.147 (from torch>=2.1.0->pytorch-lightning)\n",
            "  Downloading nvidia_curand_cu12-10.3.5.147-py3-none-manylinux2014_x86_64.whl.metadata (1.5 kB)\n",
            "Collecting nvidia-cusolver-cu12==11.6.1.9 (from torch>=2.1.0->pytorch-lightning)\n",
            "  Downloading nvidia_cusolver_cu12-11.6.1.9-py3-none-manylinux2014_x86_64.whl.metadata (1.6 kB)\n",
            "Collecting nvidia-cusparse-cu12==12.3.1.170 (from torch>=2.1.0->pytorch-lightning)\n",
            "  Downloading nvidia_cusparse_cu12-12.3.1.170-py3-none-manylinux2014_x86_64.whl.metadata (1.6 kB)\n",
            "Requirement already satisfied: nvidia-cusparselt-cu12==0.6.2 in /usr/local/lib/python3.11/dist-packages (from torch>=2.1.0->pytorch-lightning) (0.6.2)\n",
            "Requirement already satisfied: nvidia-nccl-cu12==2.21.5 in /usr/local/lib/python3.11/dist-packages (from torch>=2.1.0->pytorch-lightning) (2.21.5)\n",
            "Requirement already satisfied: nvidia-nvtx-cu12==12.4.127 in /usr/local/lib/python3.11/dist-packages (from torch>=2.1.0->pytorch-lightning) (12.4.127)\n",
            "Collecting nvidia-nvjitlink-cu12==12.4.127 (from torch>=2.1.0->pytorch-lightning)\n",
            "  Downloading nvidia_nvjitlink_cu12-12.4.127-py3-none-manylinux2014_x86_64.whl.metadata (1.5 kB)\n",
            "Requirement already satisfied: triton==3.2.0 in /usr/local/lib/python3.11/dist-packages (from torch>=2.1.0->pytorch-lightning) (3.2.0)\n",
            "Requirement already satisfied: sympy==1.13.1 in /usr/local/lib/python3.11/dist-packages (from torch>=2.1.0->pytorch-lightning) (1.13.1)\n",
            "Requirement already satisfied: mpmath<1.4,>=1.1.0 in /usr/local/lib/python3.11/dist-packages (from sympy==1.13.1->torch>=2.1.0->pytorch-lightning) (1.3.0)\n",
            "Requirement already satisfied: aiohttp!=4.0.0a0,!=4.0.0a1 in /usr/local/lib/python3.11/dist-packages (from fsspec[http]>=2022.5.0->pytorch-lightning) (3.11.15)\n",
            "Requirement already satisfied: setuptools in /usr/local/lib/python3.11/dist-packages (from lightning-utilities>=0.10.0->pytorch-lightning) (75.2.0)\n",
            "Requirement already satisfied: aiohappyeyeballs>=2.3.0 in /usr/local/lib/python3.11/dist-packages (from aiohttp!=4.0.0a0,!=4.0.0a1->fsspec[http]>=2022.5.0->pytorch-lightning) (2.6.1)\n",
            "Requirement already satisfied: aiosignal>=1.1.2 in /usr/local/lib/python3.11/dist-packages (from aiohttp!=4.0.0a0,!=4.0.0a1->fsspec[http]>=2022.5.0->pytorch-lightning) (1.3.2)\n",
            "Requirement already satisfied: attrs>=17.3.0 in /usr/local/lib/python3.11/dist-packages (from aiohttp!=4.0.0a0,!=4.0.0a1->fsspec[http]>=2022.5.0->pytorch-lightning) (25.3.0)\n",
            "Requirement already satisfied: frozenlist>=1.1.1 in /usr/local/lib/python3.11/dist-packages (from aiohttp!=4.0.0a0,!=4.0.0a1->fsspec[http]>=2022.5.0->pytorch-lightning) (1.6.0)\n",
            "Requirement already satisfied: multidict<7.0,>=4.5 in /usr/local/lib/python3.11/dist-packages (from aiohttp!=4.0.0a0,!=4.0.0a1->fsspec[http]>=2022.5.0->pytorch-lightning) (6.4.3)\n",
            "Requirement already satisfied: propcache>=0.2.0 in /usr/local/lib/python3.11/dist-packages (from aiohttp!=4.0.0a0,!=4.0.0a1->fsspec[http]>=2022.5.0->pytorch-lightning) (0.3.1)\n",
            "Requirement already satisfied: yarl<2.0,>=1.17.0 in /usr/local/lib/python3.11/dist-packages (from aiohttp!=4.0.0a0,!=4.0.0a1->fsspec[http]>=2022.5.0->pytorch-lightning) (1.20.0)\n",
            "Requirement already satisfied: MarkupSafe>=2.0 in /usr/local/lib/python3.11/dist-packages (from jinja2->torch>=2.1.0->pytorch-lightning) (3.0.2)\n",
            "Requirement already satisfied: idna>=2.0 in /usr/local/lib/python3.11/dist-packages (from yarl<2.0,>=1.17.0->aiohttp!=4.0.0a0,!=4.0.0a1->fsspec[http]>=2022.5.0->pytorch-lightning) (3.10)\n",
            "Downloading pytorch_lightning-2.5.1.post0-py3-none-any.whl (823 kB)\n",
            "\u001b[2K   \u001b[90m━━━━━━━━━━━━━━━━━━━━━━━━━━━━━━━━━━━━━━━━\u001b[0m \u001b[32m823.1/823.1 kB\u001b[0m \u001b[31m12.5 MB/s\u001b[0m eta \u001b[36m0:00:00\u001b[0m\n",
            "\u001b[?25hDownloading nvidia_cublas_cu12-12.4.5.8-py3-none-manylinux2014_x86_64.whl (363.4 MB)\n",
            "\u001b[2K   \u001b[90m━━━━━━━━━━━━━━━━━━━━━━━━━━━━━━━━━━━━━━━━\u001b[0m \u001b[32m363.4/363.4 MB\u001b[0m \u001b[31m4.2 MB/s\u001b[0m eta \u001b[36m0:00:00\u001b[0m\n",
            "\u001b[?25hDownloading nvidia_cuda_cupti_cu12-12.4.127-py3-none-manylinux2014_x86_64.whl (13.8 MB)\n",
            "\u001b[2K   \u001b[90m━━━━━━━━━━━━━━━━━━━━━━━━━━━━━━━━━━━━━━━━\u001b[0m \u001b[32m13.8/13.8 MB\u001b[0m \u001b[31m53.2 MB/s\u001b[0m eta \u001b[36m0:00:00\u001b[0m\n",
            "\u001b[?25hDownloading nvidia_cuda_nvrtc_cu12-12.4.127-py3-none-manylinux2014_x86_64.whl (24.6 MB)\n",
            "\u001b[2K   \u001b[90m━━━━━━━━━━━━━━━━━━━━━━━━━━━━━━━━━━━━━━━━\u001b[0m \u001b[32m24.6/24.6 MB\u001b[0m \u001b[31m48.0 MB/s\u001b[0m eta \u001b[36m0:00:00\u001b[0m\n",
            "\u001b[?25hDownloading nvidia_cuda_runtime_cu12-12.4.127-py3-none-manylinux2014_x86_64.whl (883 kB)\n",
            "\u001b[2K   \u001b[90m━━━━━━━━━━━━━━━━━━━━━━━━━━━━━━━━━━━━━━━━\u001b[0m \u001b[32m883.7/883.7 kB\u001b[0m \u001b[31m40.5 MB/s\u001b[0m eta \u001b[36m0:00:00\u001b[0m\n",
            "\u001b[?25hDownloading nvidia_cudnn_cu12-9.1.0.70-py3-none-manylinux2014_x86_64.whl (664.8 MB)\n",
            "\u001b[2K   \u001b[90m━━━━━━━━━━━━━━━━━━━━━━━━━━━━━━━━━━━━━━━━\u001b[0m \u001b[32m664.8/664.8 MB\u001b[0m \u001b[31m1.9 MB/s\u001b[0m eta \u001b[36m0:00:00\u001b[0m\n",
            "\u001b[?25hDownloading nvidia_cufft_cu12-11.2.1.3-py3-none-manylinux2014_x86_64.whl (211.5 MB)\n",
            "\u001b[2K   \u001b[90m━━━━━━━━━━━━━━━━━━━━━━━━━━━━━━━━━━━━━━━━\u001b[0m \u001b[32m211.5/211.5 MB\u001b[0m \u001b[31m7.0 MB/s\u001b[0m eta \u001b[36m0:00:00\u001b[0m\n",
            "\u001b[?25hDownloading nvidia_curand_cu12-10.3.5.147-py3-none-manylinux2014_x86_64.whl (56.3 MB)\n",
            "\u001b[2K   \u001b[90m━━━━━━━━━━━━━━━━━━━━━━━━━━━━━━━━━━━━━━━━\u001b[0m \u001b[32m56.3/56.3 MB\u001b[0m \u001b[31m13.0 MB/s\u001b[0m eta \u001b[36m0:00:00\u001b[0m\n",
            "\u001b[?25hDownloading nvidia_cusolver_cu12-11.6.1.9-py3-none-manylinux2014_x86_64.whl (127.9 MB)\n",
            "\u001b[2K   \u001b[90m━━━━━━━━━━━━━━━━━━━━━━━━━━━━━━━━━━━━━━━━\u001b[0m \u001b[32m127.9/127.9 MB\u001b[0m \u001b[31m7.4 MB/s\u001b[0m eta \u001b[36m0:00:00\u001b[0m\n",
            "\u001b[?25hDownloading nvidia_cusparse_cu12-12.3.1.170-py3-none-manylinux2014_x86_64.whl (207.5 MB)\n",
            "\u001b[2K   \u001b[90m━━━━━━━━━━━━━━━━━━━━━━━━━━━━━━━━━━━━━━━━\u001b[0m \u001b[32m207.5/207.5 MB\u001b[0m \u001b[31m5.5 MB/s\u001b[0m eta \u001b[36m0:00:00\u001b[0m\n",
            "\u001b[?25hDownloading nvidia_nvjitlink_cu12-12.4.127-py3-none-manylinux2014_x86_64.whl (21.1 MB)\n",
            "\u001b[2K   \u001b[90m━━━━━━━━━━━━━━━━━━━━━━━━━━━━━━━━━━━━━━━━\u001b[0m \u001b[32m21.1/21.1 MB\u001b[0m \u001b[31m60.8 MB/s\u001b[0m eta \u001b[36m0:00:00\u001b[0m\n",
            "\u001b[?25hDownloading lightning_utilities-0.14.3-py3-none-any.whl (28 kB)\n",
            "Downloading torchmetrics-1.7.1-py3-none-any.whl (961 kB)\n",
            "\u001b[2K   \u001b[90m━━━━━━━━━━━━━━━━━━━━━━━━━━━━━━━━━━━━━━━━\u001b[0m \u001b[32m961.5/961.5 kB\u001b[0m \u001b[31m56.2 MB/s\u001b[0m eta \u001b[36m0:00:00\u001b[0m\n",
            "\u001b[?25hInstalling collected packages: nvidia-nvjitlink-cu12, nvidia-curand-cu12, nvidia-cufft-cu12, nvidia-cuda-runtime-cu12, nvidia-cuda-nvrtc-cu12, nvidia-cuda-cupti-cu12, nvidia-cublas-cu12, lightning-utilities, nvidia-cusparse-cu12, nvidia-cudnn-cu12, nvidia-cusolver-cu12, torchmetrics, pytorch-lightning\n",
            "  Attempting uninstall: nvidia-nvjitlink-cu12\n",
            "    Found existing installation: nvidia-nvjitlink-cu12 12.5.82\n",
            "    Uninstalling nvidia-nvjitlink-cu12-12.5.82:\n",
            "      Successfully uninstalled nvidia-nvjitlink-cu12-12.5.82\n",
            "  Attempting uninstall: nvidia-curand-cu12\n",
            "    Found existing installation: nvidia-curand-cu12 10.3.6.82\n",
            "    Uninstalling nvidia-curand-cu12-10.3.6.82:\n",
            "      Successfully uninstalled nvidia-curand-cu12-10.3.6.82\n",
            "  Attempting uninstall: nvidia-cufft-cu12\n",
            "    Found existing installation: nvidia-cufft-cu12 11.2.3.61\n",
            "    Uninstalling nvidia-cufft-cu12-11.2.3.61:\n",
            "      Successfully uninstalled nvidia-cufft-cu12-11.2.3.61\n",
            "  Attempting uninstall: nvidia-cuda-runtime-cu12\n",
            "    Found existing installation: nvidia-cuda-runtime-cu12 12.5.82\n",
            "    Uninstalling nvidia-cuda-runtime-cu12-12.5.82:\n",
            "      Successfully uninstalled nvidia-cuda-runtime-cu12-12.5.82\n",
            "  Attempting uninstall: nvidia-cuda-nvrtc-cu12\n",
            "    Found existing installation: nvidia-cuda-nvrtc-cu12 12.5.82\n",
            "    Uninstalling nvidia-cuda-nvrtc-cu12-12.5.82:\n",
            "      Successfully uninstalled nvidia-cuda-nvrtc-cu12-12.5.82\n",
            "  Attempting uninstall: nvidia-cuda-cupti-cu12\n",
            "    Found existing installation: nvidia-cuda-cupti-cu12 12.5.82\n",
            "    Uninstalling nvidia-cuda-cupti-cu12-12.5.82:\n",
            "      Successfully uninstalled nvidia-cuda-cupti-cu12-12.5.82\n",
            "  Attempting uninstall: nvidia-cublas-cu12\n",
            "    Found existing installation: nvidia-cublas-cu12 12.5.3.2\n",
            "    Uninstalling nvidia-cublas-cu12-12.5.3.2:\n",
            "      Successfully uninstalled nvidia-cublas-cu12-12.5.3.2\n",
            "  Attempting uninstall: nvidia-cusparse-cu12\n",
            "    Found existing installation: nvidia-cusparse-cu12 12.5.1.3\n",
            "    Uninstalling nvidia-cusparse-cu12-12.5.1.3:\n",
            "      Successfully uninstalled nvidia-cusparse-cu12-12.5.1.3\n",
            "  Attempting uninstall: nvidia-cudnn-cu12\n",
            "    Found existing installation: nvidia-cudnn-cu12 9.3.0.75\n",
            "    Uninstalling nvidia-cudnn-cu12-9.3.0.75:\n",
            "      Successfully uninstalled nvidia-cudnn-cu12-9.3.0.75\n",
            "  Attempting uninstall: nvidia-cusolver-cu12\n",
            "    Found existing installation: nvidia-cusolver-cu12 11.6.3.83\n",
            "    Uninstalling nvidia-cusolver-cu12-11.6.3.83:\n",
            "      Successfully uninstalled nvidia-cusolver-cu12-11.6.3.83\n",
            "Successfully installed lightning-utilities-0.14.3 nvidia-cublas-cu12-12.4.5.8 nvidia-cuda-cupti-cu12-12.4.127 nvidia-cuda-nvrtc-cu12-12.4.127 nvidia-cuda-runtime-cu12-12.4.127 nvidia-cudnn-cu12-9.1.0.70 nvidia-cufft-cu12-11.2.1.3 nvidia-curand-cu12-10.3.5.147 nvidia-cusolver-cu12-11.6.1.9 nvidia-cusparse-cu12-12.3.1.170 nvidia-nvjitlink-cu12-12.4.127 pytorch-lightning-2.5.1.post0 torchmetrics-1.7.1\n"
          ]
        }
      ],
      "source": [
        "!pip install pytorch-lightning torchvision"
      ]
    },
    {
      "cell_type": "code",
      "source": [
        "import torch\n",
        "import torch.nn as nn\n",
        "import torch.nn.functional as F\n",
        "from torchvision import transforms\n",
        "from torchvision.datasets import FashionMNIST\n",
        "from torch.utils.data import DataLoader, random_split\n",
        "import pytorch_lightning as pl"
      ],
      "metadata": {
        "id": "5GwylZ4hbNLa"
      },
      "execution_count": null,
      "outputs": []
    },
    {
      "cell_type": "code",
      "source": [
        "transform = transforms.Compose([\n",
        "    transforms.ToTensor(),\n",
        "    transforms.Normalize((0.5,), (0.5,))\n",
        "])"
      ],
      "metadata": {
        "id": "pJQfy33BbPlx"
      },
      "execution_count": null,
      "outputs": []
    },
    {
      "cell_type": "code",
      "source": [
        "full_train = FashionMNIST(root='data', train=True, download=True, transform=transform)"
      ],
      "metadata": {
        "colab": {
          "base_uri": "https://localhost:8080/"
        },
        "id": "8Z77__Q4bR8B",
        "outputId": "0af64d85-1021-4717-c9a0-0d983aed2b24"
      },
      "execution_count": null,
      "outputs": [
        {
          "output_type": "stream",
          "name": "stderr",
          "text": [
            "100%|██████████| 26.4M/26.4M [00:03<00:00, 7.73MB/s]\n",
            "100%|██████████| 29.5k/29.5k [00:00<00:00, 136kB/s]\n",
            "100%|██████████| 4.42M/4.42M [00:01<00:00, 2.67MB/s]\n",
            "100%|██████████| 5.15k/5.15k [00:00<00:00, 25.2MB/s]\n"
          ]
        }
      ]
    },
    {
      "cell_type": "code",
      "source": [
        "import matplotlib.pyplot as plt\n",
        "\n",
        "img = full_train.data[0]\n",
        "img = img.squeeze()\n",
        "plt.imshow(img, cmap='gray')"
      ],
      "metadata": {
        "colab": {
          "base_uri": "https://localhost:8080/",
          "height": 448
        },
        "id": "S9gWGIPvbT4K",
        "outputId": "d0e2fe1c-3f71-4131-b620-f38b7604b507"
      },
      "execution_count": null,
      "outputs": [
        {
          "output_type": "execute_result",
          "data": {
            "text/plain": [
              "<matplotlib.image.AxesImage at 0x7f618c9b6c90>"
            ]
          },
          "metadata": {},
          "execution_count": 5
        },
        {
          "output_type": "display_data",
          "data": {
            "text/plain": [
              "<Figure size 640x480 with 1 Axes>"
            ],
            "image/png": "[encoded data removed]"
          },
          "metadata": {}
        }
      ]
    },
    {
      "cell_type": "code",
      "source": [
        "len(full_train)"
      ],
      "metadata": {
        "colab": {
          "base_uri": "https://localhost:8080/"
        },
        "id": "jRc8fOt2bVco",
        "outputId": "73e8dd4c-2bf8-40a2-8a09-b63e61f3075e"
      },
      "execution_count": null,
      "outputs": [
        {
          "output_type": "execute_result",
          "data": {
            "text/plain": [
              "60000"
            ]
          },
          "metadata": {},
          "execution_count": 6
        }
      ]
    },
    {
      "cell_type": "code",
      "source": [
        "train_set, val_set = random_split(full_train, [54000, 6000])"
      ],
      "metadata": {
        "id": "G4PbNQErbYEm"
      },
      "execution_count": null,
      "outputs": []
    },
    {
      "cell_type": "code",
      "source": [
        "batch_size = 64"
      ],
      "metadata": {
        "id": "OVZQXyDfbZdK"
      },
      "execution_count": null,
      "outputs": []
    },
    {
      "cell_type": "code",
      "source": [
        "train_set = DataLoader(train_set, batch_size=batch_size, shuffle=True)"
      ],
      "metadata": {
        "id": "jcpSeH6Qbb-6"
      },
      "execution_count": null,
      "outputs": []
    },
    {
      "cell_type": "code",
      "source": [
        "val_set = DataLoader(val_set, batch_size=batch_size)"
      ],
      "metadata": {
        "id": "HOc6OKS3bdqb"
      },
      "execution_count": null,
      "outputs": []
    },
    {
      "cell_type": "code",
      "source": [
        "test_set = FashionMNIST('root', train=False, transform=transform, download=True)"
      ],
      "metadata": {
        "colab": {
          "base_uri": "https://localhost:8080/"
        },
        "id": "TLMgqEnwbgfL",
        "outputId": "53fa1668-356a-49cf-ed91-5ab41a3570bf"
      },
      "execution_count": null,
      "outputs": [
        {
          "output_type": "stream",
          "name": "stderr",
          "text": [
            "100%|██████████| 26.4M/26.4M [00:03<00:00, 6.76MB/s]\n",
            "100%|██████████| 29.5k/29.5k [00:00<00:00, 146kB/s]\n",
            "100%|██████████| 4.42M/4.42M [00:01<00:00, 2.67MB/s]\n",
            "100%|██████████| 5.15k/5.15k [00:00<00:00, 10.4MB/s]\n"
          ]
        }
      ]
    },
    {
      "cell_type": "code",
      "source": [
        "test_set = DataLoader(test_set, batch_size=batch_size, shuffle=True)"
      ],
      "metadata": {
        "id": "iV3NHv5pbiqh"
      },
      "execution_count": null,
      "outputs": []
    },
    {
      "cell_type": "code",
      "source": [
        "full_train.classes, len(full_train.classes)"
      ],
      "metadata": {
        "colab": {
          "base_uri": "https://localhost:8080/"
        },
        "id": "aww6KZIdbkP9",
        "outputId": "569140f6-1f16-40b0-e733-a0e815e67ac8"
      },
      "execution_count": null,
      "outputs": [
        {
          "output_type": "execute_result",
          "data": {
            "text/plain": [
              "(['T-shirt/top',\n",
              "  'Trouser',\n",
              "  'Pullover',\n",
              "  'Dress',\n",
              "  'Coat',\n",
              "  'Sandal',\n",
              "  'Shirt',\n",
              "  'Sneaker',\n",
              "  'Bag',\n",
              "  'Ankle boot'],\n",
              " 10)"
            ]
          },
          "metadata": {},
          "execution_count": 13
        }
      ]
    },
    {
      "cell_type": "code",
      "source": [
        "class Model(pl.LightningModule):\n",
        "  def __init__(self):\n",
        "    super().__init__()\n",
        "    self.conv1 = nn.Conv2d(in_channels=1, out_channels=32, kernel_size=3, padding=1)\n",
        "    self.conv2 = nn.Conv2d(in_channels=32, out_channels=64, kernel_size=3, padding=1)\n",
        "    self.max_pool = nn.MaxPool2d(2, 2) #output [batch_size, 64, 14, 14]\n",
        "    self.fc1 = nn.Linear(64*14*14, 128)\n",
        "    self.fc2 = nn.Linear(128, 10)\n",
        "\n",
        "  def forward(self, x):\n",
        "    x = F.relu(self.conv1(x))\n",
        "    x = F.relu(self.conv2(x))\n",
        "    x = self.max_pool(x)\n",
        "    #flatten the x\n",
        "    x = x.view(x.size(0), -1)\n",
        "    x = F.relu(self.fc1(x))\n",
        "    x = F.relu(self.fc2(x))\n",
        "    return x\n",
        "\n",
        "  def configure_optimizers(self):\n",
        "    return torch.optim.Adam(self.parameters(), lr=1e-3)\n",
        "\n",
        "  def training_step(self, batch, batch_idx):\n",
        "    X, y = batch\n",
        "    # print(f\"Device: {X.device}\")\n",
        "    y_hat = self(X)\n",
        "    loss = F.cross_entropy(y_hat, y)\n",
        "    acc = (y_hat.argmax(dim=1) == y).float().mean()\n",
        "    self.log('train_loss', loss, prog_bar=True)\n",
        "    self.log('train_acc', acc, prog_bar=True)\n",
        "    return loss\n",
        "\n",
        "  def validation_step(self, batch, batch_size):\n",
        "    X, y = batch\n",
        "    y_hat = self(X)\n",
        "    loss = F.cross_entropy(y_hat, y)\n",
        "    acc = (y_hat.argmax(dim=1) ==y).float().mean()\n",
        "    self.log(\"val_acc\", acc, prog_bar=True)\n",
        "\n",
        "  def test_step(self, batch, batch_size):\n",
        "    X, y = batch\n",
        "    y_hat = self(X)\n",
        "    loss = F.cross_entropy(y_hat, y)\n",
        "    acc = (y_hat.argmax(dim=1)==y).float().mean()\n",
        "    self.log(\"test_acc\", acc, prog_bar=True)\n",
        "\n"
      ],
      "metadata": {
        "id": "KhjzYJCsbl1x"
      },
      "execution_count": null,
      "outputs": []
    },
    {
      "cell_type": "code",
      "source": [
        "model = Model()\n",
        "trainer = pl.Trainer(\n",
        "    max_epochs=10,\n",
        "    accelerator='gpu',\n",
        "    devices=1,\n",
        "    profiler='simple'\n",
        ")"
      ],
      "metadata": {
        "colab": {
          "base_uri": "https://localhost:8080/"
        },
        "id": "8LHMYbmFbokD",
        "outputId": "1b6c91b7-aa4a-48a4-9232-067bca54a7d9"
      },
      "execution_count": null,
      "outputs": [
        {
          "output_type": "stream",
          "name": "stderr",
          "text": [
            "INFO:pytorch_lightning.utilities.rank_zero:Using default `ModelCheckpoint`. Consider installing `litmodels` package to enable `LitModelCheckpoint` for automatic upload to the Lightning model registry.\n",
            "INFO:pytorch_lightning.utilities.rank_zero:GPU available: True (cuda), used: True\n",
            "INFO:pytorch_lightning.utilities.rank_zero:TPU available: False, using: 0 TPU cores\n",
            "INFO:pytorch_lightning.utilities.rank_zero:HPU available: False, using: 0 HPUs\n"
          ]
        }
      ]
    },
    {
      "cell_type": "code",
      "source": [
        "trainer.fit(model, train_dataloaders=train_set, val_dataloaders=val_set)"
      ],
      "metadata": {
        "colab": {
          "base_uri": "https://localhost:8080/",
          "height": 1000,
          "referenced_widgets": [
            "95967622807d4f79be8213fe49b6cac9",
            "9bee746c6f944aa59a0ae7e74e67ae86",
            "03f725cc96a34805a1eac20edd6da3fe",
            "da9672a93b7044a797d7ab5d841bbe69",
            "3b3620faa3ce4f64a0a6c3b65689e3de",
            "771ee02852194a05af68007c6c858223",
            "89debb11d0674c46a5a4246b940d4b74",
            "a13fda67d3b74c21ac4379dc26cbdd77",
            "d82acd0da6dd4c19a4673ca4b469f83f",
            "49cf730d146941199f0334acc1a8eeaf",
            "ada9cee91f9a4bf1bbbd84876f2d28d1",
            "5f8045564dda4e70ac3dea0b3f80d63b",
            "729d10e03c3e4b818ac35f2115b04add",
            "a957f9657dae45c5933544b8316d50c2",
            "6bd0c310fe464093a083400de44a657d",
            "aa842a823210484596926e982210d272",
            "2977bc20dbc74261b978e4579383845b",
            "198d3e99425c4eb8abdbefbb26604e5a",
            "9104849e07c54ec1ab655ab2839e1052",
            "417c28ae624c487588046f37a8635dac",
            "30a5a69cd0df4521bff059ac2cc7b1b7",
            "d3599dcb841446debfc449c6e0852e6b",
            "1c04a8b428a24260a96e6c0b32d2ea62",
            "7fbf3cd43b424f3696a733d942e94267",
            "bcf64786a5184ce58c7bdeed6d9aef87",
            "4e09d45a787b426f91dfd14955e49272",
            "fbfeabfab2504890bcbf2c1ed21cb021",
            "1530714358b44afd97ee1e3436b5881a",
            "55ddade52d874c0bb177ce403f921c7b",
            "d3c5b8e1b42c4278bc9a6a764b62c540",
            "bad74ae6aa20474da5321319d023d284",
            "c991b21f0a46445c9ca697359e2ebe27",
            "5766a7f77e55443b8bcaa0b89e760a43",
            "7d5605f0546840eeae3e7efc33e886d7",
            "5e37871abfc9490abd1a9957690156ef",
            "7dced19025ec453798a8b0fff2c2417b",
            "5dc7f428e55842fc909999143bdf650e",
            "e9c4996d8a7e4338b4c2f66c985587fd",
            "998478eeb2b04263b33e5641581abb10",
            "a3ddc811b45247ebadcc2b4bd58905a4",
            "b778bd7cc2944c30b4221b5bd9473f13",
            "091f40ceb2154e078c356e13c6bb27a2",
            "15998bdf93b74dd3af6ff8ffa69fe19c",
            "421c8dbcb2d64a70b0b27b7eb156d01f",
            "dd9ea853d7e940209441837d7d875145",
            "7bd6504e6b9749c6b4cb86a5dfb9c97d",
            "ec51c5ca823340fbbb6740c5ed35787e",
            "4727bc4b05aa441bacb09d125b28a003",
            "f2ffc3babacf41eeaeff4ef5ae68cff0",
            "8fcc1e17196c47fcb8a3caacefefb366",
            "408b2af6738a4dc4b65a8d8bd5c9a002",
            "e79a6a93b65642f28ab70416d52a09e1",
            "941e044c01a7426a9e95621989db1853",
            "4cd58127e6904df3805601dc91b596ce",
            "2f83ff77c7ac4b1baa2e588eb9d83c9a",
            "9b6a162048df474fb87fe462c8d2631d",
            "2c2f6a7924e54828ad3939d8e76f6dbf",
            "126d98f757e647bd9bff282f9c78e89d",
            "7a4e17fe728744848b73921aef674d32",
            "977dc24ee3a34678b0b074442289c0e7",
            "d1325080852746dab16b660573c87b59",
            "e1a915393cc04701971d662a9f2ea7a5",
            "53032348abf14e24b507702f21582edb",
            "fe98b9ce55164e969aa401ab60c8419a",
            "e357abb1a39e42009a8ef65c2b8f9fee",
            "6fec766f8a68496a953ffd5f257c4a52",
            "120f6b2cd10d452c8b3f2e5a8cba28ea",
            "cad923cc4027499981d887f4f0d924d4",
            "f0d378dce2ea487287acde9362a2ece0",
            "8ac2a443a36143cbb9e9f12c3fb159f7",
            "0faf5110ce6141c2b0a7fe7dd7cf0cd8",
            "e7bcca6f379c40b8b0480be06e79783b",
            "cc161969986a4d6eacd62f0cc97728a5",
            "c3e8840e29ef4b2e8226e7e5c3f33074",
            "7bcde0016f734bdd9d0f0e298b5d1583",
            "46780d7fab1c4d038168d550348d78d0",
            "801d43e86f3c4563af1f09cb3b62b814",
            "98bcc8dfdef94f1785102701ad702d47",
            "55f1e2eb12e9433ba60321650cf7d3af",
            "c287dcd09dcd49f5925f5531d68e4bbb",
            "d3b8d21109534f30990132d89e726995",
            "0b03d572a50a41618c48a43ef86d611d",
            "3218a0ead3f74229aca0f64d49536649",
            "b09a981a680844e89d779d8b40ffe352",
            "4b3a1496e8c64ef1b88949af74a5da32",
            "58e0ec17d53c4de0b71620487bea9a86",
            "8dd444b364eb4534bea161f20b5773a6",
            "e89f6a7af14c4f2d8beda408270c428b",
            "c1ba1455ee3c4993add4e5c41143f017",
            "c6bd4098a94a434bb6578fca31bb0994",
            "5fca4e2a7f944e399b2877910b760e30",
            "b078d1ce6e764286a008496a6a248f73",
            "6e8df0d94ccb459baf749bf352761eb4",
            "34cf9594021b40b98dbb74994d015eb4",
            "54e9375d4f7342d7954cc7b00b2e95c1",
            "3d5d73ccfc10420c9dbc25a1999a5833",
            "06d9a24bb4d94113adbe6c09fa5133de",
            "f6fe9e48cd3f408b8d1a63b929fa79fd",
            "42ea66b564704e15a5bdaba9c4909e7e",
            "84f5078651f94ee79b7f4955b5d6e828",
            "3f7f86f0ad324c89b2215831ab041301",
            "62d0272706b648a6b31b905a72cbbad8",
            "47ad5244bc9449d883f8fe010abfe2df",
            "889e095a55664d6fb5bb481e5f43f47d",
            "66e46195deb049ee9bed0af674e4ede2",
            "fc4b6fa777b544f7be1bcf238e8b3b67",
            "ad2d466fc7504e00902b2c5086d7b474",
            "7c2c5796a61b44dfb9508d443084beff",
            "cbbe53e3c307418c8f4515b3155b2a33",
            "dd06148b2bd04e85b94b62d5dc4a842f",
            "58e1b2f95eb545b3ac09a01d3100af1d",
            "2f1c8c63a10d479a98a3896d67817d50",
            "ffd8126ffad649e6a8a4bb6b9ab4a840",
            "a65e08a4de5d4ed8880aa7b35e989890",
            "21f14195aad54c189ad08015b81795ee",
            "1ad3e12b10c6481884fb3b6186836080",
            "bcbe20d8b84b460da397f03c4a99b541",
            "14ce3968bbda47bf8ce377631a1ea3f8",
            "6f3750ad84a8423cbe9757f404d1b15b",
            "6e06c72fd6474e95b3c2194940e705fa",
            "412281ca5178426b9bd1f47e48257527",
            "0bf87500b89a4d37aaf061e8b0928f43",
            "92a8563ca63d43819617d8a9fecf87dc",
            "85366910e52d4994b040e77cfae8802d",
            "6460454868af43e8a7a691b68fdff206",
            "29f33edd16ca4ee4a30e9f76b7e04d41",
            "de6101621caf46f9abd2d9facc8957f0",
            "94c199f0701046538b87d737a37071a7",
            "6e107faf04434685bcbd4ded8cd32f7e",
            "21c5c6a2e41541fbaf42826a81638634",
            "de109ec154264df6b8a4c87d239d1044",
            "8e256a653dae45c5935db4af159fc76d"
          ]
        },
        "id": "uPiZ8lzXbp2y",
        "outputId": "f8e85706-6b16-45e3-bb44-97e6b442240b"
      },
      "execution_count": null,
      "outputs": [
        {
          "output_type": "stream",
          "name": "stderr",
          "text": [
            "INFO:pytorch_lightning.accelerators.cuda:LOCAL_RANK: 0 - CUDA_VISIBLE_DEVICES: [0]\n",
            "INFO:pytorch_lightning.callbacks.model_summary:\n",
            "  | Name     | Type      | Params | Mode \n",
            "-----------------------------------------------\n",
            "0 | conv1    | Conv2d    | 320    | train\n",
            "1 | conv2    | Conv2d    | 18.5 K | train\n",
            "2 | max_pool | MaxPool2d | 0      | train\n",
            "3 | fc1      | Linear    | 1.6 M  | train\n",
            "4 | fc2      | Linear    | 1.3 K  | train\n",
            "-----------------------------------------------\n",
            "1.6 M     Trainable params\n",
            "0         Non-trainable params\n",
            "1.6 M     Total params\n",
            "6.503     Total estimated model params size (MB)\n",
            "5         Modules in train mode\n",
            "0         Modules in eval mode\n"
          ]
        },
        {
          "output_type": "display_data",
          "data": {
            "text/plain": [
              "Sanity Checking: |          | 0/? [00:00<?, ?it/s]"
            ],
            "application/vnd.jupyter.widget-view+json": {
              "version_major": 2,
              "version_minor": 0,
              "model_id": "95967622807d4f79be8213fe49b6cac9"
            }
          },
          "metadata": {}
        },
        {
          "output_type": "display_data",
          "data": {
            "text/plain": [
              "Training: |          | 0/? [00:00<?, ?it/s]"
            ],
            "application/vnd.jupyter.widget-view+json": {
              "version_major": 2,
              "version_minor": 0,
              "model_id": "5f8045564dda4e70ac3dea0b3f80d63b"
            }
          },
          "metadata": {}
        },
        {
          "output_type": "display_data",
          "data": {
            "text/plain": [
              "Validation: |          | 0/? [00:00<?, ?it/s]"
            ],
            "application/vnd.jupyter.widget-view+json": {
              "version_major": 2,
              "version_minor": 0,
              "model_id": "1c04a8b428a24260a96e6c0b32d2ea62"
            }
          },
          "metadata": {}
        },
        {
          "output_type": "display_data",
          "data": {
            "text/plain": [
              "Validation: |          | 0/? [00:00<?, ?it/s]"
            ],
            "application/vnd.jupyter.widget-view+json": {
              "version_major": 2,
              "version_minor": 0,
              "model_id": "7d5605f0546840eeae3e7efc33e886d7"
            }
          },
          "metadata": {}
        },
        {
          "output_type": "display_data",
          "data": {
            "text/plain": [
              "Validation: |          | 0/? [00:00<?, ?it/s]"
            ],
            "application/vnd.jupyter.widget-view+json": {
              "version_major": 2,
              "version_minor": 0,
              "model_id": "dd9ea853d7e940209441837d7d875145"
            }
          },
          "metadata": {}
        },
        {
          "output_type": "display_data",
          "data": {
            "text/plain": [
              "Validation: |          | 0/? [00:00<?, ?it/s]"
            ],
            "application/vnd.jupyter.widget-view+json": {
              "version_major": 2,
              "version_minor": 0,
              "model_id": "9b6a162048df474fb87fe462c8d2631d"
            }
          },
          "metadata": {}
        },
        {
          "output_type": "display_data",
          "data": {
            "text/plain": [
              "Validation: |          | 0/? [00:00<?, ?it/s]"
            ],
            "application/vnd.jupyter.widget-view+json": {
              "version_major": 2,
              "version_minor": 0,
              "model_id": "120f6b2cd10d452c8b3f2e5a8cba28ea"
            }
          },
          "metadata": {}
        },
        {
          "output_type": "display_data",
          "data": {
            "text/plain": [
              "Validation: |          | 0/? [00:00<?, ?it/s]"
            ],
            "application/vnd.jupyter.widget-view+json": {
              "version_major": 2,
              "version_minor": 0,
              "model_id": "98bcc8dfdef94f1785102701ad702d47"
            }
          },
          "metadata": {}
        },
        {
          "output_type": "display_data",
          "data": {
            "text/plain": [
              "Validation: |          | 0/? [00:00<?, ?it/s]"
            ],
            "application/vnd.jupyter.widget-view+json": {
              "version_major": 2,
              "version_minor": 0,
              "model_id": "c1ba1455ee3c4993add4e5c41143f017"
            }
          },
          "metadata": {}
        },
        {
          "output_type": "display_data",
          "data": {
            "text/plain": [
              "Validation: |          | 0/? [00:00<?, ?it/s]"
            ],
            "application/vnd.jupyter.widget-view+json": {
              "version_major": 2,
              "version_minor": 0,
              "model_id": "84f5078651f94ee79b7f4955b5d6e828"
            }
          },
          "metadata": {}
        },
        {
          "output_type": "display_data",
          "data": {
            "text/plain": [
              "Validation: |          | 0/? [00:00<?, ?it/s]"
            ],
            "application/vnd.jupyter.widget-view+json": {
              "version_major": 2,
              "version_minor": 0,
              "model_id": "58e1b2f95eb545b3ac09a01d3100af1d"
            }
          },
          "metadata": {}
        },
        {
          "output_type": "display_data",
          "data": {
            "text/plain": [
              "Validation: |          | 0/? [00:00<?, ?it/s]"
            ],
            "application/vnd.jupyter.widget-view+json": {
              "version_major": 2,
              "version_minor": 0,
              "model_id": "0bf87500b89a4d37aaf061e8b0928f43"
            }
          },
          "metadata": {}
        },
        {
          "output_type": "stream",
          "name": "stderr",
          "text": [
            "INFO:pytorch_lightning.utilities.rank_zero:`Trainer.fit` stopped: `max_epochs=10` reached.\n",
            "INFO:pytorch_lightning.profilers.profiler:FIT Profiler Report\n",
            "\n",
            "--------------------------------------------------------------------------------------------------------------------------------------------------------------------------------------------------------------------------------------------------------------------------\n",
            "|  Action                                                                                                                                                         \t|  Mean duration (s)\t|  Num calls      \t|  Total time (s) \t|  Percentage %   \t|\n",
            "--------------------------------------------------------------------------------------------------------------------------------------------------------------------------------------------------------------------------------------------------------------------------\n",
            "|  Total                                                                                                                                                          \t|  -              \t|  317421         \t|  199.26         \t|  100 %          \t|\n",
            "--------------------------------------------------------------------------------------------------------------------------------------------------------------------------------------------------------------------------------------------------------------------------\n",
            "|  run_training_epoch                                                                                                                                             \t|  18.98          \t|  10             \t|  189.8          \t|  95.249         \t|\n",
            "|  [_TrainingEpochLoop].train_dataloader_next                                                                                                                     \t|  0.013679       \t|  8440           \t|  115.45         \t|  57.94          \t|\n",
            "|  run_training_batch                                                                                                                                             \t|  0.0039271      \t|  8440           \t|  33.145         \t|  16.634         \t|\n",
            "|  [LightningModule]Model.optimizer_step                                                                                                                          \t|  0.003866       \t|  8440           \t|  32.629         \t|  16.375         \t|\n",
            "|  [Strategy]SingleDeviceStrategy.training_step                                                                                                                   \t|  0.0018552      \t|  8440           \t|  15.658         \t|  7.858          \t|\n",
            "|  [_EvaluationLoop].val_next                                                                                                                                     \t|  0.013375       \t|  942            \t|  12.599         \t|  6.3228         \t|\n",
            "|  [Strategy]SingleDeviceStrategy.backward                                                                                                                        \t|  0.0011122      \t|  8440           \t|  9.3873         \t|  4.711          \t|\n",
            "|  [Strategy]SingleDeviceStrategy.batch_to_device                                                                                                                 \t|  0.00018294     \t|  9382           \t|  1.7164         \t|  0.86136        \t|\n",
            "|  [Strategy]SingleDeviceStrategy.validation_step                                                                                                                 \t|  0.001815       \t|  942            \t|  1.7097         \t|  0.85803        \t|\n",
            "|  [Callback]TQDMProgressBar.on_train_batch_end                                                                                                                   \t|  0.00019677     \t|  8440           \t|  1.6608         \t|  0.83346        \t|\n",
            "|  [LightningModule]Model.transfer_batch_to_device                                                                                                                \t|  0.00014564     \t|  9382           \t|  1.3664         \t|  0.68571        \t|\n",
            "|  [LightningModule]Model.optimizer_zero_grad                                                                                                                     \t|  0.00010363     \t|  8440           \t|  0.87462        \t|  0.43893        \t|\n",
            "|  [Callback]ModelCheckpoint{'monitor': None, 'mode': 'min', 'every_n_train_steps': 0, 'every_n_epochs': 1, 'train_time_interval': None}.on_train_epoch_end       \t|  0.059998       \t|  10             \t|  0.59998        \t|  0.3011         \t|\n",
            "|  save_checkpoint                                                                                                                                                \t|  0.05531        \t|  10             \t|  0.5531         \t|  0.27757        \t|\n",
            "|  [Callback]ModelCheckpoint{'monitor': None, 'mode': 'min', 'every_n_train_steps': 0, 'every_n_epochs': 1, 'train_time_interval': None}.setup                    \t|  0.36293        \t|  1              \t|  0.36293        \t|  0.18213        \t|\n",
            "|  [Callback]TQDMProgressBar.on_validation_start                                                                                                                  \t|  0.016151       \t|  11             \t|  0.17766        \t|  0.089156       \t|\n",
            "|  [Callback]ModelCheckpoint{'monitor': None, 'mode': 'min', 'every_n_train_steps': 0, 'every_n_epochs': 1, 'train_time_interval': None}.on_train_batch_end       \t|  1.8131e-05     \t|  8440           \t|  0.15303        \t|  0.076797       \t|\n",
            "|  [LightningModule]Model.configure_gradient_clipping                                                                                                             \t|  1.7982e-05     \t|  8440           \t|  0.15177        \t|  0.076166       \t|\n",
            "|  [Callback]TQDMProgressBar.on_validation_batch_end                                                                                                              \t|  5.2277e-05     \t|  942            \t|  0.049245       \t|  0.024713       \t|\n",
            "|  [Callback]TQDMProgressBar.on_after_backward                                                                                                                    \t|  2.8996e-06     \t|  8440           \t|  0.024473       \t|  0.012282       \t|\n",
            "|  [Callback]TQDMProgressBar.on_before_zero_grad                                                                                                                  \t|  2.5995e-06     \t|  8440           \t|  0.02194        \t|  0.01101        \t|\n",
            "|  [Callback]TQDMProgressBar.on_validation_batch_start                                                                                                            \t|  2.3017e-05     \t|  942            \t|  0.021682       \t|  0.010881       \t|\n",
            "|  [Callback]TQDMProgressBar.on_validation_end                                                                                                                    \t|  0.0017885      \t|  11             \t|  0.019674       \t|  0.0098733      \t|\n",
            "|  [Callback]TQDMProgressBar.on_before_backward                                                                                                                   \t|  2.1778e-06     \t|  8440           \t|  0.018381       \t|  0.0092243      \t|\n",
            "|  [Callback]TQDMProgressBar.on_train_start                                                                                                                       \t|  0.016026       \t|  1              \t|  0.016026       \t|  0.0080427      \t|\n",
            "|  [Callback]TQDMProgressBar.on_train_batch_start                                                                                                                 \t|  1.8888e-06     \t|  8440           \t|  0.015941       \t|  0.008          \t|\n",
            "|  [Callback]TQDMProgressBar.on_sanity_check_start                                                                                                                \t|  0.015757       \t|  1              \t|  0.015757       \t|  0.0079077      \t|\n",
            "|  [LightningModule]Model.on_before_batch_transfer                                                                                                                \t|  1.5172e-06     \t|  9382           \t|  0.014234       \t|  0.0071435      \t|\n",
            "|  [Callback]ModelSummary.on_train_batch_end                                                                                                                      \t|  1.634e-06      \t|  8440           \t|  0.013791       \t|  0.0069211      \t|\n",
            "|  [Callback]TQDMProgressBar.on_before_optimizer_step                                                                                                             \t|  1.5288e-06     \t|  8440           \t|  0.012903       \t|  0.0064752      \t|\n",
            "|  [Callback]ModelCheckpoint{'monitor': None, 'mode': 'min', 'every_n_train_steps': 0, 'every_n_epochs': 1, 'train_time_interval': None}.on_after_backward        \t|  1.4396e-06     \t|  8440           \t|  0.012151       \t|  0.0060978      \t|\n",
            "|  [Callback]TQDMProgressBar.on_train_epoch_start                                                                                                                 \t|  0.0010889      \t|  10             \t|  0.010889       \t|  0.0054648      \t|\n",
            "|  [Callback]ModelSummary.on_after_backward                                                                                                                       \t|  1.263e-06      \t|  8440           \t|  0.01066        \t|  0.0053496      \t|\n",
            "|  [Callback]ModelSummary.on_train_batch_start                                                                                                                    \t|  1.2439e-06     \t|  8440           \t|  0.010499       \t|  0.0052687      \t|\n",
            "|  [Callback]ModelSummary.on_before_zero_grad                                                                                                                     \t|  1.1512e-06     \t|  8440           \t|  0.0097162      \t|  0.0048761      \t|\n",
            "|  [Callback]ModelCheckpoint{'monitor': None, 'mode': 'min', 'every_n_train_steps': 0, 'every_n_epochs': 1, 'train_time_interval': None}.on_train_batch_start     \t|  1.151e-06      \t|  8440           \t|  0.0097148      \t|  0.0048754      \t|\n",
            "|  [LightningModule]Model.on_after_batch_transfer                                                                                                                 \t|  1.0052e-06     \t|  9382           \t|  0.0094307      \t|  0.0047328      \t|\n",
            "|  [Callback]ModelCheckpoint{'monitor': None, 'mode': 'min', 'every_n_train_steps': 0, 'every_n_epochs': 1, 'train_time_interval': None}.on_before_zero_grad      \t|  1.1098e-06     \t|  8440           \t|  0.0093668      \t|  0.0047007      \t|\n",
            "|  [LightningModule]Model.on_after_backward                                                                                                                       \t|  1.0642e-06     \t|  8440           \t|  0.0089822      \t|  0.0045077      \t|\n",
            "|  [Callback]ModelSummary.on_before_backward                                                                                                                      \t|  1.0518e-06     \t|  8440           \t|  0.0088774      \t|  0.0044551      \t|\n",
            "|  [Callback]ModelCheckpoint{'monitor': None, 'mode': 'min', 'every_n_train_steps': 0, 'every_n_epochs': 1, 'train_time_interval': None}.on_before_backward       \t|  1.0231e-06     \t|  8440           \t|  0.008635       \t|  0.0043335      \t|\n",
            "|  [Callback]ModelSummary.on_before_optimizer_step                                                                                                                \t|  9.9774e-07     \t|  8440           \t|  0.0084209      \t|  0.004226       \t|\n",
            "|  [LightningModule]Model.on_before_zero_grad                                                                                                                     \t|  9.8322e-07     \t|  8440           \t|  0.0082984      \t|  0.0041645      \t|\n",
            "|  [Callback]ModelCheckpoint{'monitor': None, 'mode': 'min', 'every_n_train_steps': 0, 'every_n_epochs': 1, 'train_time_interval': None}.on_before_optimizer_step \t|  9.7708e-07     \t|  8440           \t|  0.0082466      \t|  0.0041385      \t|\n",
            "|  [LightningModule]Model.on_train_batch_end                                                                                                                      \t|  9.6179e-07     \t|  8440           \t|  0.0081175      \t|  0.0040737      \t|\n",
            "|  [LightningModule]Model.on_train_batch_start                                                                                                                    \t|  8.2137e-07     \t|  8440           \t|  0.0069324      \t|  0.003479       \t|\n",
            "|  [LightningModule]Model.on_before_optimizer_step                                                                                                                \t|  8.1852e-07     \t|  8440           \t|  0.0069083      \t|  0.0034669      \t|\n",
            "|  [LightningModule]Model.on_before_backward                                                                                                                      \t|  7.8031e-07     \t|  8440           \t|  0.0065858      \t|  0.0033051      \t|\n",
            "|  [Strategy]SingleDeviceStrategy.on_train_batch_start                                                                                                            \t|  6.8924e-07     \t|  8440           \t|  0.0058172      \t|  0.0029194      \t|\n",
            "|  [Callback]TQDMProgressBar.on_train_epoch_end                                                                                                                   \t|  0.00057538     \t|  10             \t|  0.0057538      \t|  0.0028875      \t|\n",
            "|  [Callback]ModelSummary.on_validation_batch_end                                                                                                                 \t|  1.6533e-06     \t|  942            \t|  0.0015574      \t|  0.00078156     \t|\n",
            "|  [Callback]ModelSummary.on_validation_batch_start                                                                                                               \t|  1.5531e-06     \t|  942            \t|  0.001463       \t|  0.0007342      \t|\n",
            "|  [Callback]ModelSummary.on_fit_start                                                                                                                            \t|  0.0012319      \t|  1              \t|  0.0012319      \t|  0.00061821     \t|\n",
            "|  [LightningModule]Model.on_validation_model_zero_grad                                                                                                           \t|  0.0001212      \t|  10             \t|  0.001212       \t|  0.00060823     \t|\n",
            "|  [Callback]ModelCheckpoint{'monitor': None, 'mode': 'min', 'every_n_train_steps': 0, 'every_n_epochs': 1, 'train_time_interval': None}.on_validation_batch_end  \t|  1.2406e-06     \t|  942            \t|  0.0011686      \t|  0.00058647     \t|\n",
            "|  [Callback]ModelCheckpoint{'monitor': None, 'mode': 'min', 'every_n_train_steps': 0, 'every_n_epochs': 1, 'train_time_interval': None}.on_validation_batch_start\t|  1.237e-06      \t|  942            \t|  0.0011653      \t|  0.00058479     \t|\n",
            "|  [Callback]TQDMProgressBar.on_train_end                                                                                                                         \t|  0.0011063      \t|  1              \t|  0.0011063      \t|  0.0005552      \t|\n",
            "|  [LightningModule]Model.on_validation_batch_end                                                                                                                 \t|  9.8407e-07     \t|  942            \t|  0.00092699     \t|  0.00046521     \t|\n",
            "|  [LightningModule]Model.on_validation_batch_start                                                                                                               \t|  8.7722e-07     \t|  942            \t|  0.00082634     \t|  0.0004147      \t|\n",
            "|  [LightningModule]Model.on_validation_model_eval                                                                                                                \t|  5.2606e-05     \t|  11             \t|  0.00057867     \t|  0.0002904      \t|\n",
            "|  [Callback]ModelCheckpoint{'monitor': None, 'mode': 'min', 'every_n_train_steps': 0, 'every_n_epochs': 1, 'train_time_interval': None}.on_validation_end        \t|  4.4904e-05     \t|  11             \t|  0.00049394     \t|  0.00024788     \t|\n",
            "|  [LightningModule]Model.configure_optimizers                                                                                                                    \t|  0.00020904     \t|  1              \t|  0.00020904     \t|  0.0001049      \t|\n",
            "|  [Callback]ModelSummary.on_validation_start                                                                                                                     \t|  4.3389e-06     \t|  11             \t|  4.7728e-05     \t|  2.3952e-05     \t|\n",
            "|  [Callback]TQDMProgressBar.on_save_checkpoint                                                                                                                   \t|  4.5798e-06     \t|  10             \t|  4.5798e-05     \t|  2.2984e-05     \t|\n",
            "|  [Callback]ModelSummary.on_train_epoch_start                                                                                                                    \t|  4.4128e-06     \t|  10             \t|  4.4128e-05     \t|  2.2146e-05     \t|\n",
            "|  [Callback]ModelSummary.on_validation_end                                                                                                                       \t|  3.7211e-06     \t|  11             \t|  4.0932e-05     \t|  2.0542e-05     \t|\n",
            "|  [Callback]ModelSummary.on_train_epoch_end                                                                                                                      \t|  3.6791e-06     \t|  10             \t|  3.6791e-05     \t|  1.8463e-05     \t|\n",
            "|  [Callback]TQDMProgressBar.on_validation_epoch_end                                                                                                              \t|  2.9414e-06     \t|  11             \t|  3.2355e-05     \t|  1.6237e-05     \t|\n",
            "|  [Callback]TQDMProgressBar.on_validation_epoch_start                                                                                                            \t|  1.9024e-06     \t|  11             \t|  2.0926e-05     \t|  1.0502e-05     \t|\n",
            "|  [Callback]ModelCheckpoint{'monitor': None, 'mode': 'min', 'every_n_train_steps': 0, 'every_n_epochs': 1, 'train_time_interval': None}.on_save_checkpoint       \t|  1.8804e-06     \t|  10             \t|  1.8804e-05     \t|  9.4368e-06     \t|\n",
            "|  [Callback]ModelCheckpoint{'monitor': None, 'mode': 'min', 'every_n_train_steps': 0, 'every_n_epochs': 1, 'train_time_interval': None}.on_validation_start      \t|  1.6848e-06     \t|  11             \t|  1.8533e-05     \t|  9.3008e-06     \t|\n",
            "|  [LightningModule]Model.on_train_epoch_end                                                                                                                      \t|  1.8115e-06     \t|  10             \t|  1.8115e-05     \t|  9.091e-06      \t|\n",
            "|  [Callback]ModelCheckpoint{'monitor': None, 'mode': 'min', 'every_n_train_steps': 0, 'every_n_epochs': 1, 'train_time_interval': None}.on_validation_epoch_end  \t|  1.6351e-06     \t|  11             \t|  1.7986e-05     \t|  9.0262e-06     \t|\n",
            "|  [Callback]ModelSummary.on_save_checkpoint                                                                                                                      \t|  1.7082e-06     \t|  10             \t|  1.7082e-05     \t|  8.5726e-06     \t|\n",
            "|  [Callback]ModelSummary.on_validation_epoch_end                                                                                                                 \t|  1.4953e-06     \t|  11             \t|  1.6448e-05     \t|  8.2544e-06     \t|\n",
            "|  [LightningModule]Model.on_validation_start                                                                                                                     \t|  1.4815e-06     \t|  11             \t|  1.6296e-05     \t|  8.1781e-06     \t|\n",
            "|  [LightningModule]Model.on_validation_end                                                                                                                       \t|  1.4719e-06     \t|  11             \t|  1.6191e-05     \t|  8.1254e-06     \t|\n",
            "|  [Callback]ModelSummary.on_validation_epoch_start                                                                                                               \t|  1.4343e-06     \t|  11             \t|  1.5777e-05     \t|  7.9177e-06     \t|\n",
            "|  [LightningModule]Model.on_validation_epoch_end                                                                                                                 \t|  1.3996e-06     \t|  11             \t|  1.5396e-05     \t|  7.7265e-06     \t|\n",
            "|  [Callback]ModelCheckpoint{'monitor': None, 'mode': 'min', 'every_n_train_steps': 0, 'every_n_epochs': 1, 'train_time_interval': None}.on_validation_epoch_start\t|  1.3595e-06     \t|  11             \t|  1.4954e-05     \t|  7.5046e-06     \t|\n",
            "|  [LightningModule]Model.on_validation_epoch_start                                                                                                               \t|  1.2179e-06     \t|  11             \t|  1.3397e-05     \t|  6.7233e-06     \t|\n",
            "|  [Strategy]SingleDeviceStrategy.on_validation_end                                                                                                               \t|  1.191e-06      \t|  11             \t|  1.3101e-05     \t|  6.5747e-06     \t|\n",
            "|  [Strategy]SingleDeviceStrategy.on_validation_start                                                                                                             \t|  1.1751e-06     \t|  11             \t|  1.2926e-05     \t|  6.4869e-06     \t|\n",
            "|  [LightningModule]Model.on_train_epoch_start                                                                                                                    \t|  1.2551e-06     \t|  10             \t|  1.2551e-05     \t|  6.2987e-06     \t|\n",
            "|  [Callback]ModelCheckpoint{'monitor': None, 'mode': 'min', 'every_n_train_steps': 0, 'every_n_epochs': 1, 'train_time_interval': None}.on_train_epoch_start     \t|  1.1637e-06     \t|  10             \t|  1.1637e-05     \t|  5.84e-06       \t|\n",
            "|  [LightningModule]Model.on_save_checkpoint                                                                                                                      \t|  1.1121e-06     \t|  10             \t|  1.1121e-05     \t|  5.5811e-06     \t|\n",
            "|  [Callback]TQDMProgressBar.on_sanity_check_end                                                                                                                  \t|  9.159e-06      \t|  1              \t|  9.159e-06      \t|  4.5964e-06     \t|\n",
            "|  [Callback]TQDMProgressBar.on_fit_end                                                                                                                           \t|  7.377e-06      \t|  1              \t|  7.377e-06      \t|  3.7021e-06     \t|\n",
            "|  [Callback]TQDMProgressBar.setup                                                                                                                                \t|  6.392e-06      \t|  1              \t|  6.392e-06      \t|  3.2078e-06     \t|\n",
            "|  [Callback]ModelSummary.on_train_end                                                                                                                            \t|  5.943e-06      \t|  1              \t|  5.943e-06      \t|  2.9825e-06     \t|\n",
            "|  [Callback]ModelCheckpoint{'monitor': None, 'mode': 'min', 'every_n_train_steps': 0, 'every_n_epochs': 1, 'train_time_interval': None}.on_fit_start             \t|  5.712e-06      \t|  1              \t|  5.712e-06      \t|  2.8666e-06     \t|\n",
            "|  [Callback]ModelSummary.on_train_start                                                                                                                          \t|  4.672e-06      \t|  1              \t|  4.672e-06      \t|  2.3446e-06     \t|\n",
            "|  [Callback]ModelSummary.on_sanity_check_start                                                                                                                   \t|  4.645e-06      \t|  1              \t|  4.645e-06      \t|  2.3311e-06     \t|\n",
            "|  [Callback]ModelCheckpoint{'monitor': None, 'mode': 'min', 'every_n_train_steps': 0, 'every_n_epochs': 1, 'train_time_interval': None}.on_train_start           \t|  3.904e-06      \t|  1              \t|  3.904e-06      \t|  1.9592e-06     \t|\n",
            "|  [Callback]ModelCheckpoint{'monitor': None, 'mode': 'min', 'every_n_train_steps': 0, 'every_n_epochs': 1, 'train_time_interval': None}.on_sanity_check_end      \t|  3.643e-06      \t|  1              \t|  3.643e-06      \t|  1.8282e-06     \t|\n",
            "|  [LightningModule]Model.configure_callbacks                                                                                                                     \t|  3.073e-06      \t|  1              \t|  3.073e-06      \t|  1.5422e-06     \t|\n",
            "|  [Callback]TQDMProgressBar.teardown                                                                                                                             \t|  2.929e-06      \t|  1              \t|  2.929e-06      \t|  1.4699e-06     \t|\n",
            "|  [Callback]TQDMProgressBar.on_fit_start                                                                                                                         \t|  2.577e-06      \t|  1              \t|  2.577e-06      \t|  1.2933e-06     \t|\n",
            "|  [Callback]ModelSummary.on_sanity_check_end                                                                                                                     \t|  2.406e-06      \t|  1              \t|  2.406e-06      \t|  1.2074e-06     \t|\n",
            "|  [LightningModule]Model.on_fit_start                                                                                                                            \t|  2.137e-06      \t|  1              \t|  2.137e-06      \t|  1.0724e-06     \t|\n",
            "|  [Callback]ModelCheckpoint{'monitor': None, 'mode': 'min', 'every_n_train_steps': 0, 'every_n_epochs': 1, 'train_time_interval': None}.on_sanity_check_start    \t|  2.079e-06      \t|  1              \t|  2.079e-06      \t|  1.0433e-06     \t|\n",
            "|  [Callback]ModelSummary.on_fit_end                                                                                                                              \t|  2.067e-06      \t|  1              \t|  2.067e-06      \t|  1.0373e-06     \t|\n",
            "|  [Callback]ModelCheckpoint{'monitor': None, 'mode': 'min', 'every_n_train_steps': 0, 'every_n_epochs': 1, 'train_time_interval': None}.on_train_end             \t|  2.036e-06      \t|  1              \t|  2.036e-06      \t|  1.0218e-06     \t|\n",
            "|  [Callback]ModelSummary.setup                                                                                                                                   \t|  1.995e-06      \t|  1              \t|  1.995e-06      \t|  1.0012e-06     \t|\n",
            "|  [LightningModule]Model.teardown                                                                                                                                \t|  1.905e-06      \t|  1              \t|  1.905e-06      \t|  9.5602e-07     \t|\n",
            "|  [LightningModule]Model.on_fit_end                                                                                                                              \t|  1.894e-06      \t|  1              \t|  1.894e-06      \t|  9.505e-07      \t|\n",
            "|  [LightningModule]Model.setup                                                                                                                                   \t|  1.881e-06      \t|  1              \t|  1.881e-06      \t|  9.4398e-07     \t|\n",
            "|  [Callback]ModelCheckpoint{'monitor': None, 'mode': 'min', 'every_n_train_steps': 0, 'every_n_epochs': 1, 'train_time_interval': None}.teardown                 \t|  1.77e-06       \t|  1              \t|  1.77e-06       \t|  8.8827e-07     \t|\n",
            "|  [LightningModule]Model.on_train_end                                                                                                                            \t|  1.629e-06      \t|  1              \t|  1.629e-06      \t|  8.1751e-07     \t|\n",
            "|  [LightningModule]Model.on_train_start                                                                                                                          \t|  1.616e-06      \t|  1              \t|  1.616e-06      \t|  8.1099e-07     \t|\n",
            "|  [Callback]ModelSummary.teardown                                                                                                                                \t|  1.592e-06      \t|  1              \t|  1.592e-06      \t|  7.9894e-07     \t|\n",
            "|  [Callback]ModelCheckpoint{'monitor': None, 'mode': 'min', 'every_n_train_steps': 0, 'every_n_epochs': 1, 'train_time_interval': None}.on_fit_end               \t|  1.476e-06      \t|  1              \t|  1.476e-06      \t|  7.4073e-07     \t|\n",
            "|  [Strategy]SingleDeviceStrategy.on_train_start                                                                                                                  \t|  1.132e-06      \t|  1              \t|  1.132e-06      \t|  5.6809e-07     \t|\n",
            "|  [Strategy]SingleDeviceStrategy.on_train_end                                                                                                                    \t|  1.122e-06      \t|  1              \t|  1.122e-06      \t|  5.6307e-07     \t|\n",
            "--------------------------------------------------------------------------------------------------------------------------------------------------------------------------------------------------------------------------------------------------------------------------\n",
            "\n"
          ]
        }
      ]
    },
    {
      "cell_type": "code",
      "source": [
        "trainer.test(model, dataloaders=train_set)"
      ],
      "metadata": {
        "colab": {
          "base_uri": "https://localhost:8080/",
          "height": 1000,
          "referenced_widgets": [
            "b4b05e8aadac496ab76ce6dfcf24797f",
            "6a695f72e7f14c9784960ec120c7e51a",
            "5272fdb0664745c4a3c5be8892f1e989",
            "0c613a4ed7d142c19af1bb22d9d1ee40",
            "bcd5ad09c01142e0bb2109d9087b498c",
            "af5e3dbad495403f8ba3d7da14d1bde4",
            "0f16d45743e448729d3d39fe6a2f55f1",
            "a26a7bf1cd0c400a8cb03d16ab5b22d1",
            "2030fe08ecab48e7a1d8a41625103339",
            "316e665e098b448ea9727c47e7ce6a43",
            "215b906e0676449da156b0f0b677c8a3"
          ]
        },
        "id": "A-yFXRUVbrXM",
        "outputId": "f105660e-9bfa-447f-db6a-97af29eb9e1f"
      },
      "execution_count": null,
      "outputs": [
        {
          "output_type": "stream",
          "name": "stderr",
          "text": [
            "INFO:pytorch_lightning.accelerators.cuda:LOCAL_RANK: 0 - CUDA_VISIBLE_DEVICES: [0]\n",
            "/usr/local/lib/python3.11/dist-packages/pytorch_lightning/trainer/connectors/data_connector.py:476: Your `test_dataloader`'s sampler has shuffling enabled, it is strongly recommended that you turn shuffling off for val/test dataloaders.\n"
          ]
        },
        {
          "output_type": "display_data",
          "data": {
            "text/plain": [
              "Testing: |          | 0/? [00:00<?, ?it/s]"
            ],
            "application/vnd.jupyter.widget-view+json": {
              "version_major": 2,
              "version_minor": 0,
              "model_id": "b4b05e8aadac496ab76ce6dfcf24797f"
            }
          },
          "metadata": {}
        },
        {
          "output_type": "display_data",
          "data": {
            "text/plain": [
              "┏━━━━━━━━━━━━━━━━━━━━━━━━━━━┳━━━━━━━━━━━━━━━━━━━━━━━━━━━┓\n",
              "┃\u001b[1m \u001b[0m\u001b[1m       Test metric       \u001b[0m\u001b[1m \u001b[0m┃\u001b[1m \u001b[0m\u001b[1m      DataLoader 0       \u001b[0m\u001b[1m \u001b[0m┃\n",
              "┡━━━━━━━━━━━━━━━━━━━━━━━━━━━╇━━━━━━━━━━━━━━━━━━━━━━━━━━━┩\n",
              "│\u001b[36m \u001b[0m\u001b[36m        test_acc         \u001b[0m\u001b[36m \u001b[0m│\u001b[35m \u001b[0m\u001b[35m   0.5937777757644653    \u001b[0m\u001b[35m \u001b[0m│\n",
              "└───────────────────────────┴───────────────────────────┘\n"
            ],
            "text/html": [
              "<pre style=\"white-space:pre;overflow-x:auto;line-height:normal;font-family:Menlo,'DejaVu Sans Mono',consolas,'Courier New',monospace\">┏━━━━━━━━━━━━━━━━━━━━━━━━━━━┳━━━━━━━━━━━━━━━━━━━━━━━━━━━┓\n",
              "┃<span style=\"font-weight: bold\">        Test metric        </span>┃<span style=\"font-weight: bold\">       DataLoader 0        </span>┃\n",
              "┡━━━━━━━━━━━━━━━━━━━━━━━━━━━╇━━━━━━━━━━━━━━━━━━━━━━━━━━━┩\n",
              "│<span style=\"color: #008080; text-decoration-color: #008080\">         test_acc          </span>│<span style=\"color: #800080; text-decoration-color: #800080\">    0.5937777757644653     </span>│\n",
              "└───────────────────────────┴───────────────────────────┘\n",
              "</pre>\n"
            ]
          },
          "metadata": {}
        },
        {
          "output_type": "stream",
          "name": "stderr",
          "text": [
            "INFO:pytorch_lightning.profilers.profiler:TEST Profiler Report\n",
            "\n",
            "--------------------------------------------------------------------------------------------------------------------------------------------------------------------------------------------------------------------------------------------------------------------------\n",
            "|  Action                                                                                                                                                         \t|  Mean duration (s)\t|  Num calls      \t|  Total time (s) \t|  Percentage %   \t|\n",
            "--------------------------------------------------------------------------------------------------------------------------------------------------------------------------------------------------------------------------------------------------------------------------\n",
            "|  Total                                                                                                                                                          \t|  -              \t|  329265         \t|  211.03         \t|  100 %          \t|\n",
            "--------------------------------------------------------------------------------------------------------------------------------------------------------------------------------------------------------------------------------------------------------------------------\n",
            "|  run_training_epoch                                                                                                                                             \t|  18.98          \t|  10             \t|  189.8          \t|  89.939         \t|\n",
            "|  [_TrainingEpochLoop].train_dataloader_next                                                                                                                     \t|  0.013679       \t|  8440           \t|  115.45         \t|  54.709         \t|\n",
            "|  run_training_batch                                                                                                                                             \t|  0.0039271      \t|  8440           \t|  33.145         \t|  15.706         \t|\n",
            "|  [LightningModule]Model.optimizer_step                                                                                                                          \t|  0.003866       \t|  8440           \t|  32.629         \t|  15.462         \t|\n",
            "|  [Strategy]SingleDeviceStrategy.training_step                                                                                                                   \t|  0.0018552      \t|  8440           \t|  15.658         \t|  7.4198         \t|\n",
            "|  [_EvaluationLoop].val_next                                                                                                                                     \t|  0.013375       \t|  942            \t|  12.599         \t|  5.9703         \t|\n",
            "|  [_EvaluationLoop].test_next                                                                                                                                    \t|  0.011867       \t|  844            \t|  10.016         \t|  4.7462         \t|\n",
            "|  [Strategy]SingleDeviceStrategy.backward                                                                                                                        \t|  0.0011122      \t|  8440           \t|  9.3873         \t|  4.4484         \t|\n",
            "|  [Strategy]SingleDeviceStrategy.batch_to_device                                                                                                                 \t|  0.00018326     \t|  10226          \t|  1.874          \t|  0.88805        \t|\n",
            "|  [Strategy]SingleDeviceStrategy.validation_step                                                                                                                 \t|  0.001815       \t|  942            \t|  1.7097         \t|  0.81019        \t|\n",
            "|  [Callback]TQDMProgressBar.on_train_batch_end                                                                                                                   \t|  0.00019677     \t|  8440           \t|  1.6608         \t|  0.78699        \t|\n",
            "|  [LightningModule]Model.transfer_batch_to_device                                                                                                                \t|  0.00014597     \t|  10226          \t|  1.4927         \t|  0.70733        \t|\n",
            "|  [Strategy]SingleDeviceStrategy.test_step                                                                                                                       \t|  0.0012291      \t|  844            \t|  1.0373         \t|  0.49155        \t|\n",
            "|  [LightningModule]Model.optimizer_zero_grad                                                                                                                     \t|  0.00010363     \t|  8440           \t|  0.87462        \t|  0.41446        \t|\n",
            "|  [Callback]ModelCheckpoint{'monitor': None, 'mode': 'min', 'every_n_train_steps': 0, 'every_n_epochs': 1, 'train_time_interval': None}.on_train_epoch_end       \t|  0.059998       \t|  10             \t|  0.59998        \t|  0.28431        \t|\n",
            "|  save_checkpoint                                                                                                                                                \t|  0.05531        \t|  10             \t|  0.5531         \t|  0.2621         \t|\n",
            "|  [Callback]ModelCheckpoint{'monitor': None, 'mode': 'min', 'every_n_train_steps': 0, 'every_n_epochs': 1, 'train_time_interval': None}.setup                    \t|  0.18151        \t|  2              \t|  0.36301        \t|  0.17202        \t|\n",
            "|  [Callback]TQDMProgressBar.on_validation_start                                                                                                                  \t|  0.016151       \t|  11             \t|  0.17766        \t|  0.084185       \t|\n",
            "|  [Callback]ModelCheckpoint{'monitor': None, 'mode': 'min', 'every_n_train_steps': 0, 'every_n_epochs': 1, 'train_time_interval': None}.on_train_batch_end       \t|  1.8131e-05     \t|  8440           \t|  0.15303        \t|  0.072516       \t|\n",
            "|  [LightningModule]Model.configure_gradient_clipping                                                                                                             \t|  1.7982e-05     \t|  8440           \t|  0.15177        \t|  0.071919       \t|\n",
            "|  [Callback]TQDMProgressBar.on_validation_batch_end                                                                                                              \t|  5.2277e-05     \t|  942            \t|  0.049245       \t|  0.023336       \t|\n",
            "|  [Callback]TQDMProgressBar.on_test_batch_end                                                                                                                    \t|  4.6643e-05     \t|  844            \t|  0.039367       \t|  0.018655       \t|\n",
            "|  [Callback]TQDMProgressBar.on_after_backward                                                                                                                    \t|  2.8996e-06     \t|  8440           \t|  0.024473       \t|  0.011597       \t|\n",
            "|  [Callback]TQDMProgressBar.on_before_zero_grad                                                                                                                  \t|  2.5995e-06     \t|  8440           \t|  0.02194        \t|  0.010397       \t|\n",
            "|  [Callback]TQDMProgressBar.on_validation_batch_start                                                                                                            \t|  2.3017e-05     \t|  942            \t|  0.021682       \t|  0.010275       \t|\n",
            "|  [Callback]TQDMProgressBar.on_test_start                                                                                                                        \t|  0.021322       \t|  1              \t|  0.021322       \t|  0.010104       \t|\n",
            "|  [Callback]TQDMProgressBar.on_validation_end                                                                                                                    \t|  0.0017885      \t|  11             \t|  0.019674       \t|  0.0093228      \t|\n",
            "|  [Callback]TQDMProgressBar.on_before_backward                                                                                                                   \t|  2.1778e-06     \t|  8440           \t|  0.018381       \t|  0.00871        \t|\n",
            "|  [Callback]TQDMProgressBar.on_train_start                                                                                                                       \t|  0.016026       \t|  1              \t|  0.016026       \t|  0.0075943      \t|\n",
            "|  [Callback]TQDMProgressBar.on_train_batch_start                                                                                                                 \t|  1.8888e-06     \t|  8440           \t|  0.015941       \t|  0.007554       \t|\n",
            "|  [Callback]TQDMProgressBar.on_sanity_check_start                                                                                                                \t|  0.015757       \t|  1              \t|  0.015757       \t|  0.0074668      \t|\n",
            "|  [LightningModule]Model.on_before_batch_transfer                                                                                                                \t|  1.5221e-06     \t|  10226          \t|  0.015565       \t|  0.0073757      \t|\n",
            "|  [Callback]ModelSummary.on_train_batch_end                                                                                                                      \t|  1.634e-06      \t|  8440           \t|  0.013791       \t|  0.0065353      \t|\n",
            "|  [Callback]TQDMProgressBar.on_before_optimizer_step                                                                                                             \t|  1.5288e-06     \t|  8440           \t|  0.012903       \t|  0.0061142      \t|\n",
            "|  [Callback]ModelCheckpoint{'monitor': None, 'mode': 'min', 'every_n_train_steps': 0, 'every_n_epochs': 1, 'train_time_interval': None}.on_after_backward        \t|  1.4396e-06     \t|  8440           \t|  0.012151       \t|  0.0057578      \t|\n",
            "|  [Callback]TQDMProgressBar.on_train_epoch_start                                                                                                                 \t|  0.0010889      \t|  10             \t|  0.010889       \t|  0.0051602      \t|\n",
            "|  [Callback]ModelSummary.on_after_backward                                                                                                                       \t|  1.263e-06      \t|  8440           \t|  0.01066        \t|  0.0050513      \t|\n",
            "|  [Callback]ModelSummary.on_train_batch_start                                                                                                                    \t|  1.2439e-06     \t|  8440           \t|  0.010499       \t|  0.0049749      \t|\n",
            "|  [LightningModule]Model.on_after_batch_transfer                                                                                                                 \t|  1.0106e-06     \t|  10226          \t|  0.010334       \t|  0.004897       \t|\n",
            "|  [Callback]ModelSummary.on_before_zero_grad                                                                                                                     \t|  1.1512e-06     \t|  8440           \t|  0.0097162      \t|  0.0046042      \t|\n",
            "|  [Callback]ModelCheckpoint{'monitor': None, 'mode': 'min', 'every_n_train_steps': 0, 'every_n_epochs': 1, 'train_time_interval': None}.on_train_batch_start     \t|  1.151e-06      \t|  8440           \t|  0.0097148      \t|  0.0046035      \t|\n",
            "|  [Callback]ModelCheckpoint{'monitor': None, 'mode': 'min', 'every_n_train_steps': 0, 'every_n_epochs': 1, 'train_time_interval': None}.on_before_zero_grad      \t|  1.1098e-06     \t|  8440           \t|  0.0093668      \t|  0.0044386      \t|\n",
            "|  [LightningModule]Model.on_after_backward                                                                                                                       \t|  1.0642e-06     \t|  8440           \t|  0.0089822      \t|  0.0042564      \t|\n",
            "|  [Callback]ModelSummary.on_before_backward                                                                                                                      \t|  1.0518e-06     \t|  8440           \t|  0.0088774      \t|  0.0042067      \t|\n",
            "|  [Callback]ModelCheckpoint{'monitor': None, 'mode': 'min', 'every_n_train_steps': 0, 'every_n_epochs': 1, 'train_time_interval': None}.on_before_backward       \t|  1.0231e-06     \t|  8440           \t|  0.008635       \t|  0.0040919      \t|\n",
            "|  [Callback]TQDMProgressBar.on_test_batch_start                                                                                                                  \t|  9.9794e-06     \t|  844            \t|  0.0084226      \t|  0.0039912      \t|\n",
            "|  [Callback]ModelSummary.on_before_optimizer_step                                                                                                                \t|  9.9774e-07     \t|  8440           \t|  0.0084209      \t|  0.0039904      \t|\n",
            "|  [LightningModule]Model.on_before_zero_grad                                                                                                                     \t|  9.8322e-07     \t|  8440           \t|  0.0082984      \t|  0.0039323      \t|\n",
            "|  [Callback]ModelCheckpoint{'monitor': None, 'mode': 'min', 'every_n_train_steps': 0, 'every_n_epochs': 1, 'train_time_interval': None}.on_before_optimizer_step \t|  9.7708e-07     \t|  8440           \t|  0.0082466      \t|  0.0039078      \t|\n",
            "|  [LightningModule]Model.on_train_batch_end                                                                                                                      \t|  9.6179e-07     \t|  8440           \t|  0.0081175      \t|  0.0038466      \t|\n",
            "|  [LightningModule]Model.on_train_batch_start                                                                                                                    \t|  8.2137e-07     \t|  8440           \t|  0.0069324      \t|  0.003285       \t|\n",
            "|  [LightningModule]Model.on_before_optimizer_step                                                                                                                \t|  8.1852e-07     \t|  8440           \t|  0.0069083      \t|  0.0032736      \t|\n",
            "|  [LightningModule]Model.on_before_backward                                                                                                                      \t|  7.8031e-07     \t|  8440           \t|  0.0065858      \t|  0.0031208      \t|\n",
            "|  [Strategy]SingleDeviceStrategy.on_train_batch_start                                                                                                            \t|  6.8924e-07     \t|  8440           \t|  0.0058172      \t|  0.0027566      \t|\n",
            "|  [Callback]TQDMProgressBar.on_train_epoch_end                                                                                                                   \t|  0.00057538     \t|  10             \t|  0.0057538      \t|  0.0027265      \t|\n",
            "|  [Callback]ModelSummary.on_validation_batch_end                                                                                                                 \t|  1.6533e-06     \t|  942            \t|  0.0015574      \t|  0.00073799     \t|\n",
            "|  [Callback]ModelSummary.on_validation_batch_start                                                                                                               \t|  1.5531e-06     \t|  942            \t|  0.001463       \t|  0.00069326     \t|\n",
            "|  [Callback]ModelSummary.on_test_batch_end                                                                                                                       \t|  1.6277e-06     \t|  844            \t|  0.0013738      \t|  0.00065101     \t|\n",
            "|  [Callback]ModelSummary.on_test_batch_start                                                                                                                     \t|  1.498e-06      \t|  844            \t|  0.0012643      \t|  0.0005991      \t|\n",
            "|  [Callback]ModelSummary.on_fit_start                                                                                                                            \t|  0.0012319      \t|  1              \t|  0.0012319      \t|  0.00058374     \t|\n",
            "|  [Callback]ModelCheckpoint{'monitor': None, 'mode': 'min', 'every_n_train_steps': 0, 'every_n_epochs': 1, 'train_time_interval': None}.on_test_batch_end        \t|  1.4465e-06     \t|  844            \t|  0.0012209      \t|  0.00057853     \t|\n",
            "|  [LightningModule]Model.on_validation_model_zero_grad                                                                                                           \t|  0.0001212      \t|  10             \t|  0.001212       \t|  0.00057432     \t|\n",
            "|  [Callback]ModelCheckpoint{'monitor': None, 'mode': 'min', 'every_n_train_steps': 0, 'every_n_epochs': 1, 'train_time_interval': None}.on_validation_batch_end  \t|  1.2406e-06     \t|  942            \t|  0.0011686      \t|  0.00055378     \t|\n",
            "|  [Callback]ModelCheckpoint{'monitor': None, 'mode': 'min', 'every_n_train_steps': 0, 'every_n_epochs': 1, 'train_time_interval': None}.on_validation_batch_start\t|  1.237e-06      \t|  942            \t|  0.0011653      \t|  0.00055218     \t|\n",
            "|  [Callback]TQDMProgressBar.on_test_end                                                                                                                          \t|  0.0011642      \t|  1              \t|  0.0011642      \t|  0.00055168     \t|\n",
            "|  [Callback]TQDMProgressBar.on_train_end                                                                                                                         \t|  0.0011063      \t|  1              \t|  0.0011063      \t|  0.00052425     \t|\n",
            "|  [Callback]ModelCheckpoint{'monitor': None, 'mode': 'min', 'every_n_train_steps': 0, 'every_n_epochs': 1, 'train_time_interval': None}.on_test_batch_start      \t|  1.1544e-06     \t|  844            \t|  0.00097434     \t|  0.00046171     \t|\n",
            "|  [LightningModule]Model.on_validation_batch_end                                                                                                                 \t|  9.8407e-07     \t|  942            \t|  0.00092699     \t|  0.00043927     \t|\n",
            "|  [LightningModule]Model.on_validation_batch_start                                                                                                               \t|  8.7722e-07     \t|  942            \t|  0.00082634     \t|  0.00039158     \t|\n",
            "|  [LightningModule]Model.on_test_batch_end                                                                                                                       \t|  9.7001e-07     \t|  844            \t|  0.00081869     \t|  0.00038795     \t|\n",
            "|  [LightningModule]Model.on_test_batch_start                                                                                                                     \t|  9.0327e-07     \t|  844            \t|  0.00076236     \t|  0.00036126     \t|\n",
            "|  [LightningModule]Model.on_validation_model_eval                                                                                                                \t|  5.2606e-05     \t|  11             \t|  0.00057867     \t|  0.00027421     \t|\n",
            "|  [Callback]ModelCheckpoint{'monitor': None, 'mode': 'min', 'every_n_train_steps': 0, 'every_n_epochs': 1, 'train_time_interval': None}.on_validation_end        \t|  4.4904e-05     \t|  11             \t|  0.00049394     \t|  0.00023406     \t|\n",
            "|  [LightningModule]Model.configure_optimizers                                                                                                                    \t|  0.00020904     \t|  1              \t|  0.00020904     \t|  9.9055e-05     \t|\n",
            "|  [LightningModule]Model.on_test_model_eval                                                                                                                      \t|  6.3901e-05     \t|  1              \t|  6.3901e-05     \t|  3.0281e-05     \t|\n",
            "|  [Callback]ModelSummary.on_validation_start                                                                                                                     \t|  4.3389e-06     \t|  11             \t|  4.7728e-05     \t|  2.2617e-05     \t|\n",
            "|  [Callback]TQDMProgressBar.on_save_checkpoint                                                                                                                   \t|  4.5798e-06     \t|  10             \t|  4.5798e-05     \t|  2.1702e-05     \t|\n",
            "|  [Callback]ModelSummary.on_train_epoch_start                                                                                                                    \t|  4.4128e-06     \t|  10             \t|  4.4128e-05     \t|  2.0911e-05     \t|\n",
            "|  [Callback]ModelSummary.on_validation_end                                                                                                                       \t|  3.7211e-06     \t|  11             \t|  4.0932e-05     \t|  1.9396e-05     \t|\n",
            "|  [Callback]ModelSummary.on_train_epoch_end                                                                                                                      \t|  3.6791e-06     \t|  10             \t|  3.6791e-05     \t|  1.7434e-05     \t|\n",
            "|  [Callback]TQDMProgressBar.on_validation_epoch_end                                                                                                              \t|  2.9414e-06     \t|  11             \t|  3.2355e-05     \t|  1.5332e-05     \t|\n",
            "|  [Callback]TQDMProgressBar.on_validation_epoch_start                                                                                                            \t|  1.9024e-06     \t|  11             \t|  2.0926e-05     \t|  9.9162e-06     \t|\n",
            "|  [Callback]ModelCheckpoint{'monitor': None, 'mode': 'min', 'every_n_train_steps': 0, 'every_n_epochs': 1, 'train_time_interval': None}.on_save_checkpoint       \t|  1.8804e-06     \t|  10             \t|  1.8804e-05     \t|  8.9106e-06     \t|\n",
            "|  [Callback]ModelCheckpoint{'monitor': None, 'mode': 'min', 'every_n_train_steps': 0, 'every_n_epochs': 1, 'train_time_interval': None}.on_validation_start      \t|  1.6848e-06     \t|  11             \t|  1.8533e-05     \t|  8.7822e-06     \t|\n",
            "|  [LightningModule]Model.on_train_epoch_end                                                                                                                      \t|  1.8115e-06     \t|  10             \t|  1.8115e-05     \t|  8.5841e-06     \t|\n",
            "|  [Callback]ModelCheckpoint{'monitor': None, 'mode': 'min', 'every_n_train_steps': 0, 'every_n_epochs': 1, 'train_time_interval': None}.on_validation_epoch_end  \t|  1.6351e-06     \t|  11             \t|  1.7986e-05     \t|  8.523e-06      \t|\n",
            "|  [Callback]ModelSummary.on_save_checkpoint                                                                                                                      \t|  1.7082e-06     \t|  10             \t|  1.7082e-05     \t|  8.0946e-06     \t|\n",
            "|  [Callback]ModelSummary.on_validation_epoch_end                                                                                                                 \t|  1.4953e-06     \t|  11             \t|  1.6448e-05     \t|  7.7942e-06     \t|\n",
            "|  [LightningModule]Model.on_validation_start                                                                                                                     \t|  1.4815e-06     \t|  11             \t|  1.6296e-05     \t|  7.7222e-06     \t|\n",
            "|  [LightningModule]Model.on_validation_end                                                                                                                       \t|  1.4719e-06     \t|  11             \t|  1.6191e-05     \t|  7.6724e-06     \t|\n",
            "|  [Callback]ModelSummary.on_validation_epoch_start                                                                                                               \t|  1.4343e-06     \t|  11             \t|  1.5777e-05     \t|  7.4762e-06     \t|\n",
            "|  [LightningModule]Model.on_validation_epoch_end                                                                                                                 \t|  1.3996e-06     \t|  11             \t|  1.5396e-05     \t|  7.2957e-06     \t|\n",
            "|  [Callback]ModelCheckpoint{'monitor': None, 'mode': 'min', 'every_n_train_steps': 0, 'every_n_epochs': 1, 'train_time_interval': None}.on_validation_epoch_start\t|  1.3595e-06     \t|  11             \t|  1.4954e-05     \t|  7.0862e-06     \t|\n",
            "|  [Callback]TQDMProgressBar.setup                                                                                                                                \t|  6.7285e-06     \t|  2              \t|  1.3457e-05     \t|  6.3769e-06     \t|\n",
            "|  [LightningModule]Model.on_validation_epoch_start                                                                                                               \t|  1.2179e-06     \t|  11             \t|  1.3397e-05     \t|  6.3484e-06     \t|\n",
            "|  [Strategy]SingleDeviceStrategy.on_validation_end                                                                                                               \t|  1.191e-06      \t|  11             \t|  1.3101e-05     \t|  6.2082e-06     \t|\n",
            "|  [Strategy]SingleDeviceStrategy.on_validation_start                                                                                                             \t|  1.1751e-06     \t|  11             \t|  1.2926e-05     \t|  6.1252e-06     \t|\n",
            "|  [LightningModule]Model.on_train_epoch_start                                                                                                                    \t|  1.2551e-06     \t|  10             \t|  1.2551e-05     \t|  5.9475e-06     \t|\n",
            "|  [Callback]ModelCheckpoint{'monitor': None, 'mode': 'min', 'every_n_train_steps': 0, 'every_n_epochs': 1, 'train_time_interval': None}.on_train_epoch_start     \t|  1.1637e-06     \t|  10             \t|  1.1637e-05     \t|  5.5144e-06     \t|\n",
            "|  [LightningModule]Model.on_save_checkpoint                                                                                                                      \t|  1.1121e-06     \t|  10             \t|  1.1121e-05     \t|  5.2699e-06     \t|\n",
            "|  [Callback]TQDMProgressBar.on_sanity_check_end                                                                                                                  \t|  9.159e-06      \t|  1              \t|  9.159e-06      \t|  4.3402e-06     \t|\n",
            "|  [Callback]ModelSummary.on_test_start                                                                                                                           \t|  7.449e-06      \t|  1              \t|  7.449e-06      \t|  3.5298e-06     \t|\n",
            "|  [Callback]TQDMProgressBar.teardown                                                                                                                             \t|  3.698e-06      \t|  2              \t|  7.396e-06      \t|  3.5047e-06     \t|\n",
            "|  [Callback]TQDMProgressBar.on_fit_end                                                                                                                           \t|  7.377e-06      \t|  1              \t|  7.377e-06      \t|  3.4957e-06     \t|\n",
            "|  [Callback]ModelSummary.on_train_end                                                                                                                            \t|  5.943e-06      \t|  1              \t|  5.943e-06      \t|  2.8162e-06     \t|\n",
            "|  [LightningModule]Model.configure_callbacks                                                                                                                     \t|  2.8715e-06     \t|  2              \t|  5.743e-06      \t|  2.7214e-06     \t|\n",
            "|  [Callback]ModelCheckpoint{'monitor': None, 'mode': 'min', 'every_n_train_steps': 0, 'every_n_epochs': 1, 'train_time_interval': None}.on_fit_start             \t|  5.712e-06      \t|  1              \t|  5.712e-06      \t|  2.7067e-06     \t|\n",
            "|  [Callback]ModelSummary.setup                                                                                                                                   \t|  2.3775e-06     \t|  2              \t|  4.755e-06      \t|  2.2532e-06     \t|\n",
            "|  [Callback]ModelSummary.on_train_start                                                                                                                          \t|  4.672e-06      \t|  1              \t|  4.672e-06      \t|  2.2139e-06     \t|\n",
            "|  [Callback]ModelSummary.on_sanity_check_start                                                                                                                   \t|  4.645e-06      \t|  1              \t|  4.645e-06      \t|  2.2011e-06     \t|\n",
            "|  [LightningModule]Model.setup                                                                                                                                   \t|  2.0615e-06     \t|  2              \t|  4.123e-06      \t|  1.9538e-06     \t|\n",
            "|  [Callback]ModelSummary.on_test_end                                                                                                                             \t|  3.944e-06      \t|  1              \t|  3.944e-06      \t|  1.8689e-06     \t|\n",
            "|  [Callback]ModelCheckpoint{'monitor': None, 'mode': 'min', 'every_n_train_steps': 0, 'every_n_epochs': 1, 'train_time_interval': None}.on_train_start           \t|  3.904e-06      \t|  1              \t|  3.904e-06      \t|  1.85e-06       \t|\n",
            "|  [Callback]ModelSummary.teardown                                                                                                                                \t|  1.873e-06      \t|  2              \t|  3.746e-06      \t|  1.7751e-06     \t|\n",
            "|  [LightningModule]Model.teardown                                                                                                                                \t|  1.8325e-06     \t|  2              \t|  3.665e-06      \t|  1.7367e-06     \t|\n",
            "|  [Callback]ModelCheckpoint{'monitor': None, 'mode': 'min', 'every_n_train_steps': 0, 'every_n_epochs': 1, 'train_time_interval': None}.on_sanity_check_end      \t|  3.643e-06      \t|  1              \t|  3.643e-06      \t|  1.7263e-06     \t|\n",
            "|  [Callback]ModelCheckpoint{'monitor': None, 'mode': 'min', 'every_n_train_steps': 0, 'every_n_epochs': 1, 'train_time_interval': None}.teardown                 \t|  1.651e-06      \t|  2              \t|  3.302e-06      \t|  1.5647e-06     \t|\n",
            "|  [Callback]TQDMProgressBar.on_test_epoch_end                                                                                                                    \t|  2.752e-06      \t|  1              \t|  2.752e-06      \t|  1.3041e-06     \t|\n",
            "|  [Callback]TQDMProgressBar.on_fit_start                                                                                                                         \t|  2.577e-06      \t|  1              \t|  2.577e-06      \t|  1.2212e-06     \t|\n",
            "|  [Callback]ModelSummary.on_sanity_check_end                                                                                                                     \t|  2.406e-06      \t|  1              \t|  2.406e-06      \t|  1.1401e-06     \t|\n",
            "|  [LightningModule]Model.on_fit_start                                                                                                                            \t|  2.137e-06      \t|  1              \t|  2.137e-06      \t|  1.0127e-06     \t|\n",
            "|  [Callback]TQDMProgressBar.on_test_epoch_start                                                                                                                  \t|  2.119e-06      \t|  1              \t|  2.119e-06      \t|  1.0041e-06     \t|\n",
            "|  [Callback]ModelCheckpoint{'monitor': None, 'mode': 'min', 'every_n_train_steps': 0, 'every_n_epochs': 1, 'train_time_interval': None}.on_sanity_check_start    \t|  2.079e-06      \t|  1              \t|  2.079e-06      \t|  9.8517e-07     \t|\n",
            "|  [Callback]ModelSummary.on_fit_end                                                                                                                              \t|  2.067e-06      \t|  1              \t|  2.067e-06      \t|  9.7949e-07     \t|\n",
            "|  [Callback]ModelCheckpoint{'monitor': None, 'mode': 'min', 'every_n_train_steps': 0, 'every_n_epochs': 1, 'train_time_interval': None}.on_train_end             \t|  2.036e-06      \t|  1              \t|  2.036e-06      \t|  9.648e-07      \t|\n",
            "|  [LightningModule]Model.on_test_end                                                                                                                             \t|  1.923e-06      \t|  1              \t|  1.923e-06      \t|  9.1125e-07     \t|\n",
            "|  [LightningModule]Model.on_fit_end                                                                                                                              \t|  1.894e-06      \t|  1              \t|  1.894e-06      \t|  8.9751e-07     \t|\n",
            "|  [LightningModule]Model.on_test_start                                                                                                                           \t|  1.89e-06       \t|  1              \t|  1.89e-06       \t|  8.9561e-07     \t|\n",
            "|  [Callback]ModelCheckpoint{'monitor': None, 'mode': 'min', 'every_n_train_steps': 0, 'every_n_epochs': 1, 'train_time_interval': None}.on_test_start            \t|  1.873e-06      \t|  1              \t|  1.873e-06      \t|  8.8756e-07     \t|\n",
            "|  [LightningModule]Model.on_test_epoch_end                                                                                                                       \t|  1.662e-06      \t|  1              \t|  1.662e-06      \t|  7.8757e-07     \t|\n",
            "|  [LightningModule]Model.on_train_end                                                                                                                            \t|  1.629e-06      \t|  1              \t|  1.629e-06      \t|  7.7193e-07     \t|\n",
            "|  [LightningModule]Model.on_train_start                                                                                                                          \t|  1.616e-06      \t|  1              \t|  1.616e-06      \t|  7.6577e-07     \t|\n",
            "|  [Callback]ModelCheckpoint{'monitor': None, 'mode': 'min', 'every_n_train_steps': 0, 'every_n_epochs': 1, 'train_time_interval': None}.on_test_epoch_start      \t|  1.606e-06      \t|  1              \t|  1.606e-06      \t|  7.6103e-07     \t|\n",
            "|  [Callback]ModelSummary.on_test_epoch_end                                                                                                                       \t|  1.6e-06        \t|  1              \t|  1.6e-06        \t|  7.5819e-07     \t|\n",
            "|  [Callback]ModelCheckpoint{'monitor': None, 'mode': 'min', 'every_n_train_steps': 0, 'every_n_epochs': 1, 'train_time_interval': None}.on_test_end              \t|  1.586e-06      \t|  1              \t|  1.586e-06      \t|  7.5156e-07     \t|\n",
            "|  [Callback]ModelCheckpoint{'monitor': None, 'mode': 'min', 'every_n_train_steps': 0, 'every_n_epochs': 1, 'train_time_interval': None}.on_test_epoch_end        \t|  1.5e-06        \t|  1              \t|  1.5e-06        \t|  7.108e-07      \t|\n",
            "|  [Callback]ModelCheckpoint{'monitor': None, 'mode': 'min', 'every_n_train_steps': 0, 'every_n_epochs': 1, 'train_time_interval': None}.on_fit_end               \t|  1.476e-06      \t|  1              \t|  1.476e-06      \t|  6.9943e-07     \t|\n",
            "|  [LightningModule]Model.on_test_epoch_start                                                                                                                     \t|  1.455e-06      \t|  1              \t|  1.455e-06      \t|  6.8948e-07     \t|\n",
            "|  [Callback]ModelSummary.on_test_epoch_start                                                                                                                     \t|  1.433e-06      \t|  1              \t|  1.433e-06      \t|  6.7905e-07     \t|\n",
            "|  [Strategy]SingleDeviceStrategy.on_test_end                                                                                                                     \t|  1.384e-06      \t|  1              \t|  1.384e-06      \t|  6.5583e-07     \t|\n",
            "|  [Strategy]SingleDeviceStrategy.on_test_start                                                                                                                   \t|  1.237e-06      \t|  1              \t|  1.237e-06      \t|  5.8618e-07     \t|\n",
            "|  [Strategy]SingleDeviceStrategy.on_train_start                                                                                                                  \t|  1.132e-06      \t|  1              \t|  1.132e-06      \t|  5.3642e-07     \t|\n",
            "|  [Strategy]SingleDeviceStrategy.on_train_end                                                                                                                    \t|  1.122e-06      \t|  1              \t|  1.122e-06      \t|  5.3168e-07     \t|\n",
            "--------------------------------------------------------------------------------------------------------------------------------------------------------------------------------------------------------------------------------------------------------------------------\n",
            "\n"
          ]
        },
        {
          "output_type": "execute_result",
          "data": {
            "text/plain": [
              "[{'test_acc': 0.5937777757644653}]"
            ]
          },
          "metadata": {},
          "execution_count": 17
        }
      ]
    },
    {
      "cell_type": "markdown",
      "source": [
        "Total Training time: **199 secs**"
      ],
      "metadata": {
        "id": "Ql-uEMtMbwwq"
      }
    },
    {
      "cell_type": "markdown",
      "source": [
        "# Memory Pinning to reduce Training Time"
      ],
      "metadata": {
        "id": "3ykNTS-ObzZZ"
      }
    },
    {
      "cell_type": "code",
      "source": [
        "class MyModel(pl.LightningModule):\n",
        "  def __init__(self):\n",
        "    super().__init__()\n",
        "    self.conv1 = nn.Conv2d(in_channels=1, out_channels=32, kernel_size=3, padding=1)\n",
        "    self.conv2 = nn.Conv2d(in_channels=32, out_channels=64, kernel_size=3, padding=1)\n",
        "    self.max_pool = nn.MaxPool2d(2, 2) #output [batch_size, 64, 14, 14]\n",
        "    self.fc1 = nn.Linear(64*14*14, 128)\n",
        "    self.fc2 = nn.Linear(128, 10)\n",
        "\n",
        "  def forward(self, x):\n",
        "    x = F.relu(self.conv1(x))\n",
        "    x = F.relu(self.conv2(x))\n",
        "    x = self.max_pool(x)\n",
        "    #flatten the x\n",
        "    x = x.view(x.size(0), -1)\n",
        "    x = F.relu(self.fc1(x))\n",
        "    x = F.relu(self.fc2(x))\n",
        "    return x\n",
        "\n",
        "  def configure_optimizers(self):\n",
        "    return torch.optim.Adam(self.parameters(), lr=1e-3)\n",
        "\n",
        "  def training_step(self, batch, batch_idx):\n",
        "    X, y = batch\n",
        "    # print(f\"Device: {X.device}\")\n",
        "    y_hat = self(X)\n",
        "    loss = F.cross_entropy(y_hat, y)\n",
        "    acc = (y_hat.argmax(dim=1) == y).float().mean()\n",
        "    self.log('train_loss', loss, prog_bar=True)\n",
        "    self.log('train_acc', acc, prog_bar=True)\n",
        "    return loss\n",
        "\n",
        "  def validation_step(self, batch, batch_size):\n",
        "    X, y = batch\n",
        "    y_hat = self(X)\n",
        "    loss = F.cross_entropy(y_hat, y)\n",
        "    acc = (y_hat.argmax(dim=1) ==y).float().mean()\n",
        "    self.log(\"val_acc\", acc, prog_bar=True)\n",
        "\n",
        "  def test_step(self, batch, batch_size):\n",
        "    X, y = batch\n",
        "    y_hat = self(X)\n",
        "    loss = F.cross_entropy(y_hat, y)\n",
        "    acc = (y_hat.argmax(dim=1)==y).float().mean()\n",
        "    self.log(\"test_acc\", acc, prog_bar=True)\n",
        "\n"
      ],
      "metadata": {
        "id": "YUE2th6_btAH"
      },
      "execution_count": null,
      "outputs": []
    },
    {
      "cell_type": "code",
      "source": [
        "train_data, val_data = random_split(full_train, [54000, 6000])\n",
        "len(train_data),len(val_data)"
      ],
      "metadata": {
        "colab": {
          "base_uri": "https://localhost:8080/"
        },
        "id": "LsWCgUC1b2N7",
        "outputId": "d915a7a3-a217-4e49-d906-27ed3abdd06b"
      },
      "execution_count": null,
      "outputs": [
        {
          "output_type": "execute_result",
          "data": {
            "text/plain": [
              "(54000, 6000)"
            ]
          },
          "metadata": {},
          "execution_count": 19
        }
      ]
    },
    {
      "cell_type": "markdown",
      "source": [
        "### To utilize memory pinning use ```pin_memory=True``` and ```num_workers>0```\n",
        "*NOTE: Make sure to set the num_workers not too high that can be handled by CPU. If you CPU has 2 logical processor, num_workers shouldn't be > 2 else it will slow down training*"
      ],
      "metadata": {
        "id": "V8wDDiPbb5n4"
      }
    },
    {
      "cell_type": "code",
      "source": [
        "train_data = DataLoader(train_data, batch_size=batch_size, shuffle=True, pin_memory=True, num_workers=2)\n",
        "val_data = DataLoader(val_data, batch_size=batch_size, pin_memory=True, num_workers=2)"
      ],
      "metadata": {
        "id": "I1Kg5UDnb3up"
      },
      "execution_count": null,
      "outputs": []
    },
    {
      "cell_type": "code",
      "source": [
        "model = MyModel()\n",
        "trainer = pl.Trainer(\n",
        "    max_epochs=10,\n",
        "    accelerator='gpu',\n",
        "    devices=1,\n",
        "    profiler='simple'\n",
        ")"
      ],
      "metadata": {
        "colab": {
          "base_uri": "https://localhost:8080/"
        },
        "id": "2mo2Yt6qb7RY",
        "outputId": "b533d98c-3043-4327-b7a8-e03c48bf04ae"
      },
      "execution_count": null,
      "outputs": [
        {
          "output_type": "stream",
          "name": "stderr",
          "text": [
            "INFO:pytorch_lightning.utilities.rank_zero:Using default `ModelCheckpoint`. Consider installing `litmodels` package to enable `LitModelCheckpoint` for automatic upload to the Lightning model registry.\n",
            "INFO:pytorch_lightning.utilities.rank_zero:GPU available: True (cuda), used: True\n",
            "INFO:pytorch_lightning.utilities.rank_zero:TPU available: False, using: 0 TPU cores\n",
            "INFO:pytorch_lightning.utilities.rank_zero:HPU available: False, using: 0 HPUs\n"
          ]
        }
      ]
    },
    {
      "cell_type": "code",
      "source": [
        "trainer.fit(model, train_dataloaders=train_data, val_dataloaders=val_data)"
      ],
      "metadata": {
        "colab": {
          "base_uri": "https://localhost:8080/",
          "height": 1000,
          "referenced_widgets": [
            "e4aa84d3368b4f208ca0c6fb064028e3",
            "d385b9c946804b19a3d88ee52b23b120",
            "3debc812d2ea4582ab99b15322d79e3e",
            "83d84b5bd7214731b91ef1adae3e2acd",
            "0e2a96a4383c4ed19cb58784326c93e9",
            "3411c02b0c8a44ae81febb38d6b966a3",
            "fd64c43b820a4e299a305210d8efe49a",
            "17e319e931684f2dbc2ebd6529e209a4",
            "b8e08a617df34d8abdbf3421acd1eeae",
            "d7602faf3c9c49ccb9bb17d9768e8b66",
            "51789445cff546189cd5d2288121b8b0",
            "e5804c9c9a2f42e2a4728c18a41ff2f7",
            "9d9c396c966242609b04bdb04eb7fa2b",
            "906b940d3c0c4a3b862bc119806baf7a",
            "ec14854bc20b4c7d8edf0e1ba49cbee0",
            "d7ae7142ac4f495ba64e1342f8ce427b",
            "4e1e1208628f48faa1cf912b3f032444",
            "2999c65b0c784b8885891fbb3cd4e56c",
            "b0a75459a87b493e8b424d258180f5af",
            "f36164de12e0470eb7a8735b2f701e7f",
            "dc5dcb61aa224252a6a7bf4ecd2a41b0",
            "add1f672f79c479cb7c029a349da492b",
            "515c5be711e14bc281becdacafa44858",
            "b503589286c64cb7be38ffca51218793",
            "44404d178b88468f8151959316cd0b51",
            "836fcbbab21c4a4d8bf5d6e286a2f392",
            "3b70d47548544b38a970f7be69b46caf",
            "0841c325e18348b7aef8352862c376c9",
            "28e62aeb3b4d4f2baabcd9e1b39e1588",
            "df5bb77f1b7f4aea92cb0d7aa69f98af",
            "7d4b0774cab14af78f4cfa70a9354eb4",
            "84ed5eec759d4f15af5d5e0e87c7d230",
            "17c92dddb7c04afb963af23f6155ce75",
            "07a8b804ddc34818917b1bab8a318628",
            "4ef38a2b0d08433c9907604881386086",
            "3829abf1b3eb4d5798a6da509c755e44",
            "4a5c1e5d6179416dacd2eba48bb5f48f",
            "44804590cb9f40dc897e8f75e524a2ad",
            "3441c8243bab4e8b8c99c95b1ddfacab",
            "e9a825476ea2401097e765deb260cf05",
            "728aa58c14f24fe792c69dd8830048e4",
            "ddf4f1cfc9c74f4db5f33d1cb97815cd",
            "057d5c3e3a8442d49a33e28d8c0a6cce",
            "b7a2a715f2ae43aebe35336eb8406ca8",
            "5349a6f83fe7404a8534878fa6c3e172",
            "d1c49f88d2dd42ddab25938bf148177c",
            "aab08f18ef384141bf362a69381c1369",
            "9073150d98174b61890bdabde96002de",
            "138a8dcea3c94d87a81cd30a52ed3dfb",
            "73130028718b4d12881f6d1fa7e52a1a",
            "efb97ced36514a07977ec4f3d9a1afc1",
            "b8d5fec39d1946d2ab9c63c1f5c72fdc",
            "278d5589dda64f0c81b5fed08f113ed7",
            "cc939cd5de484bf1bbdef1560f96b256",
            "3fd9c0891d0346ce8c0db7e010c8a458",
            "c460299607fa4d3b905a1f84fc6ac26c",
            "00cb96032d244839b6f154572a6e8907",
            "8496419e4e1c456ab2aad8f7685f982b",
            "8ab2d4f91e90436992f417cb63cf333e",
            "852fced05b66460e9f3c6ba343a95750",
            "524c380daa224edda8fb3962225ed8ca",
            "ae474ca7740d46eb8ffb0714f6bdd67a",
            "fe5b33cc6640487a8800c7cd74c6207f",
            "52b4d5de84fc4e9c8ac10df468b24ac1",
            "1f524e5c91cd4fa195a5c83814d26dc9",
            "afb5af48b242467fb3cdec4a03ccce6b",
            "e172b53b0a484973a4f6194afbaab962",
            "3bacbffe26104a59bcfa14a3972b9a15",
            "c34aff45e2244f1ebed4c3f6559775fe",
            "6ac55bed6296476b9a132829539023df",
            "31eeacc1d44a4d4aa1e87dbe640f6748",
            "84281c04fb3d476fb0c2fdcbf5496fe6",
            "bdd45c4f55f9435b95398df911ccf1f1",
            "a47ed2d91bdf4ab983c053a75b1cebb0",
            "35f0bf06b5b44967b692c58e135cd34e",
            "ac5c63aa41974389bc52c53781618125",
            "f8ee9280cd5440d3aabf98799c6d1608",
            "0d24d61dd4574501a57b5ae44fe37018",
            "f8b6d4a671854281931a746eb2625faf",
            "43f92013590b4c4796e822a25e8bc35d",
            "cb7bd575dac54feca2f95df5d82114b8",
            "93ba34331911431f9cf3bf4cc1a77b81",
            "d112f72a5dbc43a0bee192908b5d5c21",
            "9cdd9baa8dd9413f8f026ed08a7df4c5",
            "e94c599f1f9c44019e9fd14c16f300f8",
            "fcf939d2571345d088b4f9be58b8da28",
            "0ca419b4504b4e6a999972bf1081af29",
            "38c84d105ed245f4b30a38f77dd7a5a8",
            "4ea118e9be1441159eab515898b1e61a",
            "57b6e526744c4be4bc610691932180f6",
            "444b688b14d3434aba124631e6632833",
            "e3639c0043ef4e9ca7ad540189fcef38",
            "4a9fafa25e2c43d79dce60604ab12de3",
            "1088a83aa0a842c4b0788469ead1169d",
            "70d6af1ecf784750ad1a2d14d723d86d",
            "670b52b3dd4141b4af23acf9e81fe006",
            "cddb30e7a90445d283beaf640c90d669",
            "81474a23b8da4e2085e1533bb3221463",
            "79d3c4d57cd3485297fffe913c844b21",
            "5cc1d7e37457428f9700e3b4b9f2bf18",
            "b6f3bff533304ce8857e8be2aa6ce8a2",
            "53dac50b12c742f696db2bbb5fcf7861",
            "cb1474ee12df4f638430cec91905313f",
            "f9e30848cc704afb8027bef2e0e2388c",
            "da49f57273224ca4a24aa8924afc45ba",
            "e9f371f759244d7ba420f287eb91d5d6",
            "a7cf668499a1460180bed51dde033a4c",
            "d5e556d099c943fb8aed33b808631d85",
            "45be3e4b259d4f3f983297afa393b4c7",
            "3c1892548bfe499bafd62a309bf2f15c",
            "6726ee88792c43058ea5a82e6d848fc2",
            "0ae98befeccc47649f0a045025e0acb8",
            "e8d4f872478649be945903bd62fe8c5a",
            "9c8691170dbe4f00bd57081f8bb3c999",
            "eeada447f9a8486d90b77ff781f85736",
            "8ffc5b59e96148fda8eda05d31842541",
            "ed90371ba05747eaabcd84d8e453fea7",
            "d7b71c422d2b47fcb311519b76fcba79",
            "aa2325493e874453a5c59e34b909014f",
            "8f5d6aa4531e4c949898f1ec216d8c3a",
            "24b62486ac934d81aab330a846f605e0",
            "e048e0d61ee34e98bfabde7617927d2b",
            "c8a1dedb94884e848a5f643957f05726",
            "ae2b7264b73e41948e2a4e9986746f9e",
            "fb99febc66d041ce95336a1045709e98",
            "36aa203bb76a48388ba95e826e3f5cfc",
            "fbde5e43c757475d9b33b14dbd398468",
            "f1162e80b36f4196b188fe6250dcb1d8",
            "6dceeb00c9a64120bd792b8d46067da5",
            "3efdeba47355472285b117041b269683",
            "a2ac29e92af04aa68c173fe194f57ce3",
            "96d9412675cc4a6ca8be22d4073eba6a"
          ]
        },
        "id": "3Q6e4Qw6b8lC",
        "outputId": "54465352-ed24-45b9-d5bd-db9b8e0100cf"
      },
      "execution_count": null,
      "outputs": [
        {
          "output_type": "stream",
          "name": "stderr",
          "text": [
            "INFO:pytorch_lightning.accelerators.cuda:LOCAL_RANK: 0 - CUDA_VISIBLE_DEVICES: [0]\n",
            "INFO:pytorch_lightning.callbacks.model_summary:\n",
            "  | Name     | Type      | Params | Mode \n",
            "-----------------------------------------------\n",
            "0 | conv1    | Conv2d    | 320    | train\n",
            "1 | conv2    | Conv2d    | 18.5 K | train\n",
            "2 | max_pool | MaxPool2d | 0      | train\n",
            "3 | fc1      | Linear    | 1.6 M  | train\n",
            "4 | fc2      | Linear    | 1.3 K  | train\n",
            "-----------------------------------------------\n",
            "1.6 M     Trainable params\n",
            "0         Non-trainable params\n",
            "1.6 M     Total params\n",
            "6.503     Total estimated model params size (MB)\n",
            "5         Modules in train mode\n",
            "0         Modules in eval mode\n"
          ]
        },
        {
          "output_type": "display_data",
          "data": {
            "text/plain": [
              "Sanity Checking: |          | 0/? [00:00<?, ?it/s]"
            ],
            "application/vnd.jupyter.widget-view+json": {
              "version_major": 2,
              "version_minor": 0,
              "model_id": "e4aa84d3368b4f208ca0c6fb064028e3"
            }
          },
          "metadata": {}
        },
        {
          "output_type": "display_data",
          "data": {
            "text/plain": [
              "Training: |          | 0/? [00:00<?, ?it/s]"
            ],
            "application/vnd.jupyter.widget-view+json": {
              "version_major": 2,
              "version_minor": 0,
              "model_id": "e5804c9c9a2f42e2a4728c18a41ff2f7"
            }
          },
          "metadata": {}
        },
        {
          "output_type": "display_data",
          "data": {
            "text/plain": [
              "Validation: |          | 0/? [00:00<?, ?it/s]"
            ],
            "application/vnd.jupyter.widget-view+json": {
              "version_major": 2,
              "version_minor": 0,
              "model_id": "515c5be711e14bc281becdacafa44858"
            }
          },
          "metadata": {}
        },
        {
          "output_type": "display_data",
          "data": {
            "text/plain": [
              "Validation: |          | 0/? [00:00<?, ?it/s]"
            ],
            "application/vnd.jupyter.widget-view+json": {
              "version_major": 2,
              "version_minor": 0,
              "model_id": "07a8b804ddc34818917b1bab8a318628"
            }
          },
          "metadata": {}
        },
        {
          "output_type": "display_data",
          "data": {
            "text/plain": [
              "Validation: |          | 0/? [00:00<?, ?it/s]"
            ],
            "application/vnd.jupyter.widget-view+json": {
              "version_major": 2,
              "version_minor": 0,
              "model_id": "5349a6f83fe7404a8534878fa6c3e172"
            }
          },
          "metadata": {}
        },
        {
          "output_type": "display_data",
          "data": {
            "text/plain": [
              "Validation: |          | 0/? [00:00<?, ?it/s]"
            ],
            "application/vnd.jupyter.widget-view+json": {
              "version_major": 2,
              "version_minor": 0,
              "model_id": "c460299607fa4d3b905a1f84fc6ac26c"
            }
          },
          "metadata": {}
        },
        {
          "output_type": "display_data",
          "data": {
            "text/plain": [
              "Validation: |          | 0/? [00:00<?, ?it/s]"
            ],
            "application/vnd.jupyter.widget-view+json": {
              "version_major": 2,
              "version_minor": 0,
              "model_id": "e172b53b0a484973a4f6194afbaab962"
            }
          },
          "metadata": {}
        },
        {
          "output_type": "display_data",
          "data": {
            "text/plain": [
              "Validation: |          | 0/? [00:00<?, ?it/s]"
            ],
            "application/vnd.jupyter.widget-view+json": {
              "version_major": 2,
              "version_minor": 0,
              "model_id": "0d24d61dd4574501a57b5ae44fe37018"
            }
          },
          "metadata": {}
        },
        {
          "output_type": "display_data",
          "data": {
            "text/plain": [
              "Validation: |          | 0/? [00:00<?, ?it/s]"
            ],
            "application/vnd.jupyter.widget-view+json": {
              "version_major": 2,
              "version_minor": 0,
              "model_id": "4ea118e9be1441159eab515898b1e61a"
            }
          },
          "metadata": {}
        },
        {
          "output_type": "display_data",
          "data": {
            "text/plain": [
              "Validation: |          | 0/? [00:00<?, ?it/s]"
            ],
            "application/vnd.jupyter.widget-view+json": {
              "version_major": 2,
              "version_minor": 0,
              "model_id": "5cc1d7e37457428f9700e3b4b9f2bf18"
            }
          },
          "metadata": {}
        },
        {
          "output_type": "display_data",
          "data": {
            "text/plain": [
              "Validation: |          | 0/? [00:00<?, ?it/s]"
            ],
            "application/vnd.jupyter.widget-view+json": {
              "version_major": 2,
              "version_minor": 0,
              "model_id": "6726ee88792c43058ea5a82e6d848fc2"
            }
          },
          "metadata": {}
        },
        {
          "output_type": "display_data",
          "data": {
            "text/plain": [
              "Validation: |          | 0/? [00:00<?, ?it/s]"
            ],
            "application/vnd.jupyter.widget-view+json": {
              "version_major": 2,
              "version_minor": 0,
              "model_id": "e048e0d61ee34e98bfabde7617927d2b"
            }
          },
          "metadata": {}
        },
        {
          "output_type": "stream",
          "name": "stderr",
          "text": [
            "INFO:pytorch_lightning.utilities.rank_zero:`Trainer.fit` stopped: `max_epochs=10` reached.\n",
            "INFO:pytorch_lightning.profilers.profiler:FIT Profiler Report\n",
            "\n",
            "--------------------------------------------------------------------------------------------------------------------------------------------------------------------------------------------------------------------------------------------------------------------------\n",
            "|  Action                                                                                                                                                         \t|  Mean duration (s)\t|  Num calls      \t|  Total time (s) \t|  Percentage %   \t|\n",
            "--------------------------------------------------------------------------------------------------------------------------------------------------------------------------------------------------------------------------------------------------------------------------\n",
            "|  Total                                                                                                                                                          \t|  -              \t|  317421         \t|  177.14         \t|  100 %          \t|\n",
            "--------------------------------------------------------------------------------------------------------------------------------------------------------------------------------------------------------------------------------------------------------------------------\n",
            "|  run_training_epoch                                                                                                                                             \t|  17.575         \t|  10             \t|  175.75         \t|  99.211         \t|\n",
            "|  run_training_batch                                                                                                                                             \t|  0.0087434      \t|  8440           \t|  73.794         \t|  41.658         \t|\n",
            "|  [LightningModule]MyModel.optimizer_step                                                                                                                        \t|  0.0086397      \t|  8440           \t|  72.919         \t|  41.164         \t|\n",
            "|  [_TrainingEpochLoop].train_dataloader_next                                                                                                                     \t|  0.007051       \t|  8440           \t|  59.51          \t|  33.594         \t|\n",
            "|  [Strategy]SingleDeviceStrategy.training_step                                                                                                                   \t|  0.003674       \t|  8440           \t|  31.009         \t|  17.505         \t|\n",
            "|  [Strategy]SingleDeviceStrategy.backward                                                                                                                        \t|  0.0032411      \t|  8440           \t|  27.355         \t|  15.442         \t|\n",
            "|  [_EvaluationLoop].val_next                                                                                                                                     \t|  0.011329       \t|  942            \t|  10.672         \t|  6.0242         \t|\n",
            "|  [Callback]TQDMProgressBar.on_train_batch_end                                                                                                                   \t|  0.00035868     \t|  8440           \t|  3.0273         \t|  1.7089         \t|\n",
            "|  [Strategy]SingleDeviceStrategy.batch_to_device                                                                                                                 \t|  0.00025313     \t|  9382           \t|  2.3749         \t|  1.3407         \t|\n",
            "|  [Strategy]SingleDeviceStrategy.validation_step                                                                                                                 \t|  0.0023286      \t|  942            \t|  2.1935         \t|  1.2383         \t|\n",
            "|  [LightningModule]MyModel.transfer_batch_to_device                                                                                                              \t|  0.00019376     \t|  9382           \t|  1.8179         \t|  1.0262         \t|\n",
            "|  [LightningModule]MyModel.optimizer_zero_grad                                                                                                                   \t|  0.00020203     \t|  8440           \t|  1.7051         \t|  0.96258        \t|\n",
            "|  [Callback]ModelCheckpoint{'monitor': None, 'mode': 'min', 'every_n_train_steps': 0, 'every_n_epochs': 1, 'train_time_interval': None}.on_train_epoch_end       \t|  0.076055       \t|  10             \t|  0.76055        \t|  0.42934        \t|\n",
            "|  save_checkpoint                                                                                                                                                \t|  0.070881       \t|  10             \t|  0.70881        \t|  0.40014        \t|\n",
            "|  [Callback]TQDMProgressBar.on_validation_start                                                                                                                  \t|  0.031222       \t|  11             \t|  0.34344        \t|  0.19388        \t|\n",
            "|  [LightningModule]MyModel.configure_gradient_clipping                                                                                                           \t|  2.7914e-05     \t|  8440           \t|  0.23559        \t|  0.13299        \t|\n",
            "|  [Callback]ModelCheckpoint{'monitor': None, 'mode': 'min', 'every_n_train_steps': 0, 'every_n_epochs': 1, 'train_time_interval': None}.on_train_batch_end       \t|  2.5182e-05     \t|  8440           \t|  0.21253        \t|  0.11998        \t|\n",
            "|  [Callback]TQDMProgressBar.on_validation_batch_end                                                                                                              \t|  0.0001915      \t|  942            \t|  0.18039        \t|  0.10183        \t|\n",
            "|  [Callback]TQDMProgressBar.on_validation_batch_start                                                                                                            \t|  9.9202e-05     \t|  942            \t|  0.093448       \t|  0.052753       \t|\n",
            "|  [Callback]TQDMProgressBar.on_train_start                                                                                                                       \t|  0.050752       \t|  1              \t|  0.050752       \t|  0.02865        \t|\n",
            "|  [Callback]TQDMProgressBar.on_after_backward                                                                                                                    \t|  4.8274e-06     \t|  8440           \t|  0.040743       \t|  0.023          \t|\n",
            "|  [Callback]TQDMProgressBar.on_before_backward                                                                                                                   \t|  4.1639e-06     \t|  8440           \t|  0.035144       \t|  0.019839       \t|\n",
            "|  [Callback]TQDMProgressBar.on_before_zero_grad                                                                                                                  \t|  4.0328e-06     \t|  8440           \t|  0.034037       \t|  0.019214       \t|\n",
            "|  [Callback]TQDMProgressBar.on_validation_end                                                                                                                    \t|  0.0024392      \t|  11             \t|  0.026831       \t|  0.015147       \t|\n",
            "|  [Callback]TQDMProgressBar.on_train_batch_start                                                                                                                 \t|  2.8964e-06     \t|  8440           \t|  0.024445       \t|  0.0138         \t|\n",
            "|  [Callback]ModelSummary.on_after_backward                                                                                                                       \t|  2.6414e-06     \t|  8440           \t|  0.022293       \t|  0.012585       \t|\n",
            "|  [Callback]TQDMProgressBar.on_train_epoch_start                                                                                                                 \t|  0.0021726      \t|  10             \t|  0.021726       \t|  0.012265       \t|\n",
            "|  [Callback]ModelCheckpoint{'monitor': None, 'mode': 'min', 'every_n_train_steps': 0, 'every_n_epochs': 1, 'train_time_interval': None}.on_train_batch_start     \t|  2.5722e-06     \t|  8440           \t|  0.02171        \t|  0.012255       \t|\n",
            "|  [Callback]TQDMProgressBar.on_sanity_check_start                                                                                                                \t|  0.02129        \t|  1              \t|  0.02129        \t|  0.012018       \t|\n",
            "|  [Callback]TQDMProgressBar.on_before_optimizer_step                                                                                                             \t|  2.429e-06      \t|  8440           \t|  0.020501       \t|  0.011573       \t|\n",
            "|  [Callback]ModelSummary.on_train_batch_end                                                                                                                      \t|  2.4034e-06     \t|  8440           \t|  0.020285       \t|  0.011451       \t|\n",
            "|  [Callback]ModelCheckpoint{'monitor': None, 'mode': 'min', 'every_n_train_steps': 0, 'every_n_epochs': 1, 'train_time_interval': None}.on_before_backward       \t|  2.3568e-06     \t|  8440           \t|  0.019892       \t|  0.011229       \t|\n",
            "|  [LightningModule]MyModel.on_before_batch_transfer                                                                                                              \t|  2.0406e-06     \t|  9382           \t|  0.019145       \t|  0.010808       \t|\n",
            "|  [Callback]ModelCheckpoint{'monitor': None, 'mode': 'min', 'every_n_train_steps': 0, 'every_n_epochs': 1, 'train_time_interval': None}.on_after_backward        \t|  2.2527e-06     \t|  8440           \t|  0.019013       \t|  0.010733       \t|\n",
            "|  [Callback]ModelSummary.on_before_zero_grad                                                                                                                     \t|  2.1017e-06     \t|  8440           \t|  0.017738       \t|  0.010013       \t|\n",
            "|  [Callback]ModelSummary.on_train_batch_start                                                                                                                    \t|  2.0821e-06     \t|  8440           \t|  0.017573       \t|  0.0099203      \t|\n",
            "|  [Callback]ModelCheckpoint{'monitor': None, 'mode': 'min', 'every_n_train_steps': 0, 'every_n_epochs': 1, 'train_time_interval': None}.on_before_zero_grad      \t|  2.0116e-06     \t|  8440           \t|  0.016978       \t|  0.0095844      \t|\n",
            "|  [LightningModule]MyModel.on_train_batch_start                                                                                                                  \t|  1.7169e-06     \t|  8440           \t|  0.014491       \t|  0.0081802      \t|\n",
            "|  [Callback]ModelSummary.on_before_backward                                                                                                                      \t|  1.6939e-06     \t|  8440           \t|  0.014296       \t|  0.0080704      \t|\n",
            "|  [LightningModule]MyModel.on_after_batch_transfer                                                                                                               \t|  1.5023e-06     \t|  9382           \t|  0.014095       \t|  0.0079568      \t|\n",
            "|  [Callback]ModelSummary.on_before_optimizer_step                                                                                                                \t|  1.527e-06      \t|  8440           \t|  0.012888       \t|  0.0072756      \t|\n",
            "|  [Callback]ModelCheckpoint{'monitor': None, 'mode': 'min', 'every_n_train_steps': 0, 'every_n_epochs': 1, 'train_time_interval': None}.on_before_optimizer_step \t|  1.4909e-06     \t|  8440           \t|  0.012583       \t|  0.0071035      \t|\n",
            "|  [LightningModule]MyModel.on_before_zero_grad                                                                                                                   \t|  1.4416e-06     \t|  8440           \t|  0.012167       \t|  0.0068685      \t|\n",
            "|  [LightningModule]MyModel.on_train_batch_end                                                                                                                    \t|  1.4054e-06     \t|  8440           \t|  0.011862       \t|  0.0066963      \t|\n",
            "|  [LightningModule]MyModel.on_after_backward                                                                                                                     \t|  1.3643e-06     \t|  8440           \t|  0.011514       \t|  0.0065001      \t|\n",
            "|  [LightningModule]MyModel.on_before_optimizer_step                                                                                                              \t|  1.2271e-06     \t|  8440           \t|  0.010357       \t|  0.0058465      \t|\n",
            "|  [LightningModule]MyModel.on_before_backward                                                                                                                    \t|  1.1897e-06     \t|  8440           \t|  0.010041       \t|  0.0056685      \t|\n",
            "|  [Strategy]SingleDeviceStrategy.on_train_batch_start                                                                                                            \t|  1.0888e-06     \t|  8440           \t|  0.0091891      \t|  0.0051874      \t|\n",
            "|  [Callback]TQDMProgressBar.on_train_epoch_end                                                                                                                   \t|  0.00050284     \t|  10             \t|  0.0050284      \t|  0.0028386      \t|\n",
            "|  [Callback]ModelSummary.on_fit_start                                                                                                                            \t|  0.0043031      \t|  1              \t|  0.0043031      \t|  0.0024292      \t|\n",
            "|  [Callback]ModelCheckpoint{'monitor': None, 'mode': 'min', 'every_n_train_steps': 0, 'every_n_epochs': 1, 'train_time_interval': None}.setup                    \t|  0.0036404      \t|  1              \t|  0.0036404      \t|  0.0020551      \t|\n",
            "|  [Callback]ModelSummary.on_validation_batch_end                                                                                                                 \t|  3.3063e-06     \t|  942            \t|  0.0031146      \t|  0.0017582      \t|\n",
            "|  [LightningModule]MyModel.on_validation_model_eval                                                                                                              \t|  0.00024501     \t|  11             \t|  0.0026951      \t|  0.0015214      \t|\n",
            "|  [Callback]ModelSummary.on_validation_batch_start                                                                                                               \t|  2.1283e-06     \t|  942            \t|  0.0020049      \t|  0.0011318      \t|\n",
            "|  [LightningModule]MyModel.on_validation_model_zero_grad                                                                                                         \t|  0.0001983      \t|  10             \t|  0.001983       \t|  0.0011194      \t|\n",
            "|  [Callback]ModelCheckpoint{'monitor': None, 'mode': 'min', 'every_n_train_steps': 0, 'every_n_epochs': 1, 'train_time_interval': None}.on_validation_batch_start\t|  1.8706e-06     \t|  942            \t|  0.0017621      \t|  0.00099474     \t|\n",
            "|  [Callback]ModelCheckpoint{'monitor': None, 'mode': 'min', 'every_n_train_steps': 0, 'every_n_epochs': 1, 'train_time_interval': None}.on_validation_batch_end  \t|  1.8624e-06     \t|  942            \t|  0.0017544      \t|  0.0009904      \t|\n",
            "|  [LightningModule]MyModel.on_validation_batch_end                                                                                                               \t|  1.5031e-06     \t|  942            \t|  0.0014159      \t|  0.00079929     \t|\n",
            "|  [Callback]ModelCheckpoint{'monitor': None, 'mode': 'min', 'every_n_train_steps': 0, 'every_n_epochs': 1, 'train_time_interval': None}.on_validation_end        \t|  0.00012207     \t|  11             \t|  0.0013428      \t|  0.00075801     \t|\n",
            "|  [LightningModule]MyModel.on_validation_batch_start                                                                                                             \t|  1.2928e-06     \t|  942            \t|  0.0012178      \t|  0.00068746     \t|\n",
            "|  [Callback]TQDMProgressBar.on_train_end                                                                                                                         \t|  0.00078127     \t|  1              \t|  0.00078127     \t|  0.00044104     \t|\n",
            "|  [Callback]ModelSummary.on_validation_start                                                                                                                     \t|  2.707e-05      \t|  11             \t|  0.00029777     \t|  0.00016809     \t|\n",
            "|  [LightningModule]MyModel.configure_optimizers                                                                                                                  \t|  0.00014731     \t|  1              \t|  0.00014731     \t|  8.3159e-05     \t|\n",
            "|  [Callback]TQDMProgressBar.on_validation_epoch_start                                                                                                            \t|  9.7996e-06     \t|  11             \t|  0.0001078      \t|  6.0852e-05     \t|\n",
            "|  [LightningModule]MyModel.on_validation_start                                                                                                                   \t|  9.6505e-06     \t|  11             \t|  0.00010615     \t|  5.9926e-05     \t|\n",
            "|  [Strategy]SingleDeviceStrategy.on_validation_start                                                                                                             \t|  8.3882e-06     \t|  11             \t|  9.227e-05      \t|  5.2088e-05     \t|\n",
            "|  [Callback]TQDMProgressBar.on_save_checkpoint                                                                                                                   \t|  7.7535e-06     \t|  10             \t|  7.7535e-05     \t|  4.377e-05      \t|\n",
            "|  [Callback]ModelSummary.on_train_epoch_start                                                                                                                    \t|  5.4615e-06     \t|  10             \t|  5.4615e-05     \t|  3.0831e-05     \t|\n",
            "|  [Callback]ModelSummary.on_train_epoch_end                                                                                                                      \t|  5.2093e-06     \t|  10             \t|  5.2093e-05     \t|  2.9407e-05     \t|\n",
            "|  [Callback]ModelSummary.on_validation_end                                                                                                                       \t|  3.7743e-06     \t|  11             \t|  4.1517e-05     \t|  2.3437e-05     \t|\n",
            "|  [Callback]ModelCheckpoint{'monitor': None, 'mode': 'min', 'every_n_train_steps': 0, 'every_n_epochs': 1, 'train_time_interval': None}.on_validation_epoch_start\t|  3.3378e-06     \t|  11             \t|  3.6716e-05     \t|  2.0727e-05     \t|\n",
            "|  [Callback]ModelCheckpoint{'monitor': None, 'mode': 'min', 'every_n_train_steps': 0, 'every_n_epochs': 1, 'train_time_interval': None}.on_validation_start      \t|  3.3195e-06     \t|  11             \t|  3.6515e-05     \t|  2.0613e-05     \t|\n",
            "|  [Callback]TQDMProgressBar.on_validation_epoch_end                                                                                                              \t|  3.2061e-06     \t|  11             \t|  3.5267e-05     \t|  1.9909e-05     \t|\n",
            "|  [Callback]ModelSummary.on_save_checkpoint                                                                                                                      \t|  3.4552e-06     \t|  10             \t|  3.4552e-05     \t|  1.9505e-05     \t|\n",
            "|  [Callback]ModelCheckpoint{'monitor': None, 'mode': 'min', 'every_n_train_steps': 0, 'every_n_epochs': 1, 'train_time_interval': None}.on_save_checkpoint       \t|  2.2224e-06     \t|  10             \t|  2.2224e-05     \t|  1.2546e-05     \t|\n",
            "|  [Callback]ModelSummary.on_validation_epoch_start                                                                                                               \t|  1.9937e-06     \t|  11             \t|  2.1931e-05     \t|  1.238e-05      \t|\n",
            "|  [Callback]ModelCheckpoint{'monitor': None, 'mode': 'min', 'every_n_train_steps': 0, 'every_n_epochs': 1, 'train_time_interval': None}.on_validation_epoch_end  \t|  1.9272e-06     \t|  11             \t|  2.1199e-05     \t|  1.1967e-05     \t|\n",
            "|  [LightningModule]MyModel.on_train_epoch_start                                                                                                                  \t|  1.9632e-06     \t|  10             \t|  1.9632e-05     \t|  1.1083e-05     \t|\n",
            "|  [LightningModule]MyModel.on_train_epoch_end                                                                                                                    \t|  1.7383e-06     \t|  10             \t|  1.7383e-05     \t|  9.813e-06      \t|\n",
            "|  [Callback]ModelSummary.on_validation_epoch_end                                                                                                                 \t|  1.5766e-06     \t|  11             \t|  1.7343e-05     \t|  9.7904e-06     \t|\n",
            "|  [LightningModule]MyModel.on_validation_end                                                                                                                     \t|  1.5515e-06     \t|  11             \t|  1.7067e-05     \t|  9.6346e-06     \t|\n",
            "|  [LightningModule]MyModel.on_validation_epoch_start                                                                                                             \t|  1.4615e-06     \t|  11             \t|  1.6077e-05     \t|  9.0757e-06     \t|\n",
            "|  [LightningModule]MyModel.on_validation_epoch_end                                                                                                               \t|  1.4304e-06     \t|  11             \t|  1.5734e-05     \t|  8.8821e-06     \t|\n",
            "|  [Callback]ModelCheckpoint{'monitor': None, 'mode': 'min', 'every_n_train_steps': 0, 'every_n_epochs': 1, 'train_time_interval': None}.on_train_start           \t|  1.542e-05      \t|  1              \t|  1.542e-05      \t|  8.7048e-06     \t|\n",
            "|  [Callback]ModelCheckpoint{'monitor': None, 'mode': 'min', 'every_n_train_steps': 0, 'every_n_epochs': 1, 'train_time_interval': None}.on_train_epoch_start     \t|  1.4652e-06     \t|  10             \t|  1.4652e-05     \t|  8.2713e-06     \t|\n",
            "|  [Callback]ModelSummary.on_train_start                                                                                                                          \t|  1.4437e-05     \t|  1              \t|  1.4437e-05     \t|  8.1499e-06     \t|\n",
            "|  [Callback]TQDMProgressBar.on_sanity_check_end                                                                                                                  \t|  1.3974e-05     \t|  1              \t|  1.3974e-05     \t|  7.8885e-06     \t|\n",
            "|  [Strategy]SingleDeviceStrategy.on_validation_end                                                                                                               \t|  1.143e-06      \t|  11             \t|  1.2573e-05     \t|  7.0977e-06     \t|\n",
            "|  [LightningModule]MyModel.on_save_checkpoint                                                                                                                    \t|  1.15e-06       \t|  10             \t|  1.15e-05       \t|  6.4919e-06     \t|\n",
            "|  [Strategy]SingleDeviceStrategy.on_train_start                                                                                                                  \t|  7.588e-06      \t|  1              \t|  7.588e-06      \t|  4.2835e-06     \t|\n",
            "|  [LightningModule]MyModel.on_train_start                                                                                                                        \t|  7.49e-06       \t|  1              \t|  7.49e-06       \t|  4.2282e-06     \t|\n",
            "|  [Callback]TQDMProgressBar.setup                                                                                                                                \t|  6.952e-06      \t|  1              \t|  6.952e-06      \t|  3.9245e-06     \t|\n",
            "|  [Callback]ModelSummary.on_train_end                                                                                                                            \t|  4.257e-06      \t|  1              \t|  4.257e-06      \t|  2.4031e-06     \t|\n",
            "|  [Callback]ModelSummary.on_sanity_check_start                                                                                                                   \t|  3.943e-06      \t|  1              \t|  3.943e-06      \t|  2.2259e-06     \t|\n",
            "|  [Callback]TQDMProgressBar.on_fit_end                                                                                                                           \t|  3.549e-06      \t|  1              \t|  3.549e-06      \t|  2.0035e-06     \t|\n",
            "|  [Callback]ModelCheckpoint{'monitor': None, 'mode': 'min', 'every_n_train_steps': 0, 'every_n_epochs': 1, 'train_time_interval': None}.on_fit_start             \t|  3.322e-06      \t|  1              \t|  3.322e-06      \t|  1.8753e-06     \t|\n",
            "|  [Callback]TQDMProgressBar.on_fit_start                                                                                                                         \t|  3.283e-06      \t|  1              \t|  3.283e-06      \t|  1.8533e-06     \t|\n",
            "|  [Callback]TQDMProgressBar.teardown                                                                                                                             \t|  2.814e-06      \t|  1              \t|  2.814e-06      \t|  1.5885e-06     \t|\n",
            "|  [LightningModule]MyModel.configure_callbacks                                                                                                                   \t|  2.62e-06       \t|  1              \t|  2.62e-06       \t|  1.479e-06      \t|\n",
            "|  [LightningModule]MyModel.setup                                                                                                                                 \t|  2.619e-06      \t|  1              \t|  2.619e-06      \t|  1.4785e-06     \t|\n",
            "|  [Callback]ModelSummary.on_sanity_check_end                                                                                                                     \t|  2.314e-06      \t|  1              \t|  2.314e-06      \t|  1.3063e-06     \t|\n",
            "|  [Callback]ModelSummary.setup                                                                                                                                   \t|  2.24e-06       \t|  1              \t|  2.24e-06       \t|  1.2645e-06     \t|\n",
            "|  [Callback]ModelSummary.teardown                                                                                                                                \t|  1.596e-06      \t|  1              \t|  1.596e-06      \t|  9.0097e-07     \t|\n",
            "|  [Callback]ModelCheckpoint{'monitor': None, 'mode': 'min', 'every_n_train_steps': 0, 'every_n_epochs': 1, 'train_time_interval': None}.on_sanity_check_start    \t|  1.498e-06      \t|  1              \t|  1.498e-06      \t|  8.4564e-07     \t|\n",
            "|  [Callback]ModelCheckpoint{'monitor': None, 'mode': 'min', 'every_n_train_steps': 0, 'every_n_epochs': 1, 'train_time_interval': None}.on_train_end             \t|  1.47e-06       \t|  1              \t|  1.47e-06       \t|  8.2984e-07     \t|\n",
            "|  [LightningModule]MyModel.on_fit_start                                                                                                                          \t|  1.432e-06      \t|  1              \t|  1.432e-06      \t|  8.0839e-07     \t|\n",
            "|  [LightningModule]MyModel.teardown                                                                                                                              \t|  1.389e-06      \t|  1              \t|  1.389e-06      \t|  7.8411e-07     \t|\n",
            "|  [LightningModule]MyModel.on_fit_end                                                                                                                            \t|  1.38e-06       \t|  1              \t|  1.38e-06       \t|  7.7903e-07     \t|\n",
            "|  [LightningModule]MyModel.on_train_end                                                                                                                          \t|  1.354e-06      \t|  1              \t|  1.354e-06      \t|  7.6435e-07     \t|\n",
            "|  [Callback]ModelCheckpoint{'monitor': None, 'mode': 'min', 'every_n_train_steps': 0, 'every_n_epochs': 1, 'train_time_interval': None}.on_sanity_check_end      \t|  1.312e-06      \t|  1              \t|  1.312e-06      \t|  7.4064e-07     \t|\n",
            "|  [Callback]ModelSummary.on_fit_end                                                                                                                              \t|  1.269e-06      \t|  1              \t|  1.269e-06      \t|  7.1637e-07     \t|\n",
            "|  [Callback]ModelCheckpoint{'monitor': None, 'mode': 'min', 'every_n_train_steps': 0, 'every_n_epochs': 1, 'train_time_interval': None}.teardown                 \t|  1.14e-06       \t|  1              \t|  1.14e-06       \t|  6.4355e-07     \t|\n",
            "|  [Strategy]SingleDeviceStrategy.on_train_end                                                                                                                    \t|  1.089e-06      \t|  1              \t|  1.089e-06      \t|  6.1476e-07     \t|\n",
            "|  [Callback]ModelCheckpoint{'monitor': None, 'mode': 'min', 'every_n_train_steps': 0, 'every_n_epochs': 1, 'train_time_interval': None}.on_fit_end               \t|  9.25e-07       \t|  1              \t|  9.25e-07       \t|  5.2218e-07     \t|\n",
            "--------------------------------------------------------------------------------------------------------------------------------------------------------------------------------------------------------------------------------------------------------------------------\n",
            "\n"
          ]
        }
      ]
    },
    {
      "cell_type": "markdown",
      "source": [
        "**Training time is now 172 secs**"
      ],
      "metadata": {
        "id": "OsYzwNWGcBy4"
      }
    },
    {
      "cell_type": "code",
      "source": [],
      "metadata": {
        "id": "8aBnRIAXb-dO"
      },
      "execution_count": null,
      "outputs": []
    }
  ]
}