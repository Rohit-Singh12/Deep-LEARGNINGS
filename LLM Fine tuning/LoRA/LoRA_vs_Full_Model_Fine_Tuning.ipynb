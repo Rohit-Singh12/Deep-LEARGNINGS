{
  "nbformat": 4,
  "nbformat_minor": 0,
  "metadata": {
    "colab": {
      "provenance": [],
      "gpuType": "T4",
      "include_colab_link": true
    },
    "kernelspec": {
      "name": "python3",
      "display_name": "Python 3"
    },
    "language_info": {
      "name": "python"
    },
    "accelerator": "GPU",
    "widgets": {
      "application/vnd.jupyter.widget-state+json": {
        "10a79ed7e71d4671b1e2729d143702bd": {
          "model_module": "@jupyter-widgets/controls",
          "model_name": "HBoxModel",
          "model_module_version": "1.5.0",
          "state": {
            "_dom_classes": [],
            "_model_module": "@jupyter-widgets/controls",
            "_model_module_version": "1.5.0",
            "_model_name": "HBoxModel",
            "_view_count": null,
            "_view_module": "@jupyter-widgets/controls",
            "_view_module_version": "1.5.0",
            "_view_name": "HBoxView",
            "box_style": "",
            "children": [
              "IPY_MODEL_a3001a8261884261916309916ffbd444",
              "IPY_MODEL_943327d2a523474fb17812e237d48730",
              "IPY_MODEL_3fd0f8ee0ed74d04919d4c5e4201459a"
            ],
            "layout": "IPY_MODEL_d988e7b5bf9e439eaa3493f1ee4760d9"
          }
        },
        "a3001a8261884261916309916ffbd444": {
          "model_module": "@jupyter-widgets/controls",
          "model_name": "HTMLModel",
          "model_module_version": "1.5.0",
          "state": {
            "_dom_classes": [],
            "_model_module": "@jupyter-widgets/controls",
            "_model_module_version": "1.5.0",
            "_model_name": "HTMLModel",
            "_view_count": null,
            "_view_module": "@jupyter-widgets/controls",
            "_view_module_version": "1.5.0",
            "_view_name": "HTMLView",
            "description": "",
            "description_tooltip": null,
            "layout": "IPY_MODEL_e20edaabeaa1453baf729feb10b6a585",
            "placeholder": "​",
            "style": "IPY_MODEL_8515562068304fcb8f71e2414034a6e5",
            "value": "README.md: 100%"
          }
        },
        "943327d2a523474fb17812e237d48730": {
          "model_module": "@jupyter-widgets/controls",
          "model_name": "FloatProgressModel",
          "model_module_version": "1.5.0",
          "state": {
            "_dom_classes": [],
            "_model_module": "@jupyter-widgets/controls",
            "_model_module_version": "1.5.0",
            "_model_name": "FloatProgressModel",
            "_view_count": null,
            "_view_module": "@jupyter-widgets/controls",
            "_view_module_version": "1.5.0",
            "_view_name": "ProgressView",
            "bar_style": "success",
            "description": "",
            "description_tooltip": null,
            "layout": "IPY_MODEL_0c76ae3c428c449897874ffaaed9e7cd",
            "max": 8878,
            "min": 0,
            "orientation": "horizontal",
            "style": "IPY_MODEL_96814aaf38d94dd48178e5ded96b94de",
            "value": 8878
          }
        },
        "3fd0f8ee0ed74d04919d4c5e4201459a": {
          "model_module": "@jupyter-widgets/controls",
          "model_name": "HTMLModel",
          "model_module_version": "1.5.0",
          "state": {
            "_dom_classes": [],
            "_model_module": "@jupyter-widgets/controls",
            "_model_module_version": "1.5.0",
            "_model_name": "HTMLModel",
            "_view_count": null,
            "_view_module": "@jupyter-widgets/controls",
            "_view_module_version": "1.5.0",
            "_view_name": "HTMLView",
            "description": "",
            "description_tooltip": null,
            "layout": "IPY_MODEL_8fd32f3b78524dc6b4326bdd97ebff51",
            "placeholder": "​",
            "style": "IPY_MODEL_256c3fbf502c4da2aceb8b9f4d73fd72",
            "value": " 8.88k/8.88k [00:00&lt;00:00, 426kB/s]"
          }
        },
        "d988e7b5bf9e439eaa3493f1ee4760d9": {
          "model_module": "@jupyter-widgets/base",
          "model_name": "LayoutModel",
          "model_module_version": "1.2.0",
          "state": {
            "_model_module": "@jupyter-widgets/base",
            "_model_module_version": "1.2.0",
            "_model_name": "LayoutModel",
            "_view_count": null,
            "_view_module": "@jupyter-widgets/base",
            "_view_module_version": "1.2.0",
            "_view_name": "LayoutView",
            "align_content": null,
            "align_items": null,
            "align_self": null,
            "border": null,
            "bottom": null,
            "display": null,
            "flex": null,
            "flex_flow": null,
            "grid_area": null,
            "grid_auto_columns": null,
            "grid_auto_flow": null,
            "grid_auto_rows": null,
            "grid_column": null,
            "grid_gap": null,
            "grid_row": null,
            "grid_template_areas": null,
            "grid_template_columns": null,
            "grid_template_rows": null,
            "height": null,
            "justify_content": null,
            "justify_items": null,
            "left": null,
            "margin": null,
            "max_height": null,
            "max_width": null,
            "min_height": null,
            "min_width": null,
            "object_fit": null,
            "object_position": null,
            "order": null,
            "overflow": null,
            "overflow_x": null,
            "overflow_y": null,
            "padding": null,
            "right": null,
            "top": null,
            "visibility": null,
            "width": null
          }
        },
        "e20edaabeaa1453baf729feb10b6a585": {
          "model_module": "@jupyter-widgets/base",
          "model_name": "LayoutModel",
          "model_module_version": "1.2.0",
          "state": {
            "_model_module": "@jupyter-widgets/base",
            "_model_module_version": "1.2.0",
            "_model_name": "LayoutModel",
            "_view_count": null,
            "_view_module": "@jupyter-widgets/base",
            "_view_module_version": "1.2.0",
            "_view_name": "LayoutView",
            "align_content": null,
            "align_items": null,
            "align_self": null,
            "border": null,
            "bottom": null,
            "display": null,
            "flex": null,
            "flex_flow": null,
            "grid_area": null,
            "grid_auto_columns": null,
            "grid_auto_flow": null,
            "grid_auto_rows": null,
            "grid_column": null,
            "grid_gap": null,
            "grid_row": null,
            "grid_template_areas": null,
            "grid_template_columns": null,
            "grid_template_rows": null,
            "height": null,
            "justify_content": null,
            "justify_items": null,
            "left": null,
            "margin": null,
            "max_height": null,
            "max_width": null,
            "min_height": null,
            "min_width": null,
            "object_fit": null,
            "object_position": null,
            "order": null,
            "overflow": null,
            "overflow_x": null,
            "overflow_y": null,
            "padding": null,
            "right": null,
            "top": null,
            "visibility": null,
            "width": null
          }
        },
        "8515562068304fcb8f71e2414034a6e5": {
          "model_module": "@jupyter-widgets/controls",
          "model_name": "DescriptionStyleModel",
          "model_module_version": "1.5.0",
          "state": {
            "_model_module": "@jupyter-widgets/controls",
            "_model_module_version": "1.5.0",
            "_model_name": "DescriptionStyleModel",
            "_view_count": null,
            "_view_module": "@jupyter-widgets/base",
            "_view_module_version": "1.2.0",
            "_view_name": "StyleView",
            "description_width": ""
          }
        },
        "0c76ae3c428c449897874ffaaed9e7cd": {
          "model_module": "@jupyter-widgets/base",
          "model_name": "LayoutModel",
          "model_module_version": "1.2.0",
          "state": {
            "_model_module": "@jupyter-widgets/base",
            "_model_module_version": "1.2.0",
            "_model_name": "LayoutModel",
            "_view_count": null,
            "_view_module": "@jupyter-widgets/base",
            "_view_module_version": "1.2.0",
            "_view_name": "LayoutView",
            "align_content": null,
            "align_items": null,
            "align_self": null,
            "border": null,
            "bottom": null,
            "display": null,
            "flex": null,
            "flex_flow": null,
            "grid_area": null,
            "grid_auto_columns": null,
            "grid_auto_flow": null,
            "grid_auto_rows": null,
            "grid_column": null,
            "grid_gap": null,
            "grid_row": null,
            "grid_template_areas": null,
            "grid_template_columns": null,
            "grid_template_rows": null,
            "height": null,
            "justify_content": null,
            "justify_items": null,
            "left": null,
            "margin": null,
            "max_height": null,
            "max_width": null,
            "min_height": null,
            "min_width": null,
            "object_fit": null,
            "object_position": null,
            "order": null,
            "overflow": null,
            "overflow_x": null,
            "overflow_y": null,
            "padding": null,
            "right": null,
            "top": null,
            "visibility": null,
            "width": null
          }
        },
        "96814aaf38d94dd48178e5ded96b94de": {
          "model_module": "@jupyter-widgets/controls",
          "model_name": "ProgressStyleModel",
          "model_module_version": "1.5.0",
          "state": {
            "_model_module": "@jupyter-widgets/controls",
            "_model_module_version": "1.5.0",
            "_model_name": "ProgressStyleModel",
            "_view_count": null,
            "_view_module": "@jupyter-widgets/base",
            "_view_module_version": "1.2.0",
            "_view_name": "StyleView",
            "bar_color": null,
            "description_width": ""
          }
        },
        "8fd32f3b78524dc6b4326bdd97ebff51": {
          "model_module": "@jupyter-widgets/base",
          "model_name": "LayoutModel",
          "model_module_version": "1.2.0",
          "state": {
            "_model_module": "@jupyter-widgets/base",
            "_model_module_version": "1.2.0",
            "_model_name": "LayoutModel",
            "_view_count": null,
            "_view_module": "@jupyter-widgets/base",
            "_view_module_version": "1.2.0",
            "_view_name": "LayoutView",
            "align_content": null,
            "align_items": null,
            "align_self": null,
            "border": null,
            "bottom": null,
            "display": null,
            "flex": null,
            "flex_flow": null,
            "grid_area": null,
            "grid_auto_columns": null,
            "grid_auto_flow": null,
            "grid_auto_rows": null,
            "grid_column": null,
            "grid_gap": null,
            "grid_row": null,
            "grid_template_areas": null,
            "grid_template_columns": null,
            "grid_template_rows": null,
            "height": null,
            "justify_content": null,
            "justify_items": null,
            "left": null,
            "margin": null,
            "max_height": null,
            "max_width": null,
            "min_height": null,
            "min_width": null,
            "object_fit": null,
            "object_position": null,
            "order": null,
            "overflow": null,
            "overflow_x": null,
            "overflow_y": null,
            "padding": null,
            "right": null,
            "top": null,
            "visibility": null,
            "width": null
          }
        },
        "256c3fbf502c4da2aceb8b9f4d73fd72": {
          "model_module": "@jupyter-widgets/controls",
          "model_name": "DescriptionStyleModel",
          "model_module_version": "1.5.0",
          "state": {
            "_model_module": "@jupyter-widgets/controls",
            "_model_module_version": "1.5.0",
            "_model_name": "DescriptionStyleModel",
            "_view_count": null,
            "_view_module": "@jupyter-widgets/base",
            "_view_module_version": "1.2.0",
            "_view_name": "StyleView",
            "description_width": ""
          }
        },
        "89a0c36b256c465faf22cd9bf073c7d6": {
          "model_module": "@jupyter-widgets/controls",
          "model_name": "HBoxModel",
          "model_module_version": "1.5.0",
          "state": {
            "_dom_classes": [],
            "_model_module": "@jupyter-widgets/controls",
            "_model_module_version": "1.5.0",
            "_model_name": "HBoxModel",
            "_view_count": null,
            "_view_module": "@jupyter-widgets/controls",
            "_view_module_version": "1.5.0",
            "_view_name": "HBoxView",
            "box_style": "",
            "children": [
              "IPY_MODEL_876b687f3acb40da903aa67ae3238fb2",
              "IPY_MODEL_0999bd9ba81244e19d57aef67f246e4a",
              "IPY_MODEL_8ba740b0659f4fdea802b4d2c99f0eab"
            ],
            "layout": "IPY_MODEL_c674f6081d52459b87e854a6ac110504"
          }
        },
        "876b687f3acb40da903aa67ae3238fb2": {
          "model_module": "@jupyter-widgets/controls",
          "model_name": "HTMLModel",
          "model_module_version": "1.5.0",
          "state": {
            "_dom_classes": [],
            "_model_module": "@jupyter-widgets/controls",
            "_model_module_version": "1.5.0",
            "_model_name": "HTMLModel",
            "_view_count": null,
            "_view_module": "@jupyter-widgets/controls",
            "_view_module_version": "1.5.0",
            "_view_name": "HTMLView",
            "description": "",
            "description_tooltip": null,
            "layout": "IPY_MODEL_961cb35d096b43fc9dcab9c9c36ff578",
            "placeholder": "​",
            "style": "IPY_MODEL_c4384100ad6c4c24b778ec903cb72358",
            "value": "financial_phrasebank.py: 100%"
          }
        },
        "0999bd9ba81244e19d57aef67f246e4a": {
          "model_module": "@jupyter-widgets/controls",
          "model_name": "FloatProgressModel",
          "model_module_version": "1.5.0",
          "state": {
            "_dom_classes": [],
            "_model_module": "@jupyter-widgets/controls",
            "_model_module_version": "1.5.0",
            "_model_name": "FloatProgressModel",
            "_view_count": null,
            "_view_module": "@jupyter-widgets/controls",
            "_view_module_version": "1.5.0",
            "_view_name": "ProgressView",
            "bar_style": "success",
            "description": "",
            "description_tooltip": null,
            "layout": "IPY_MODEL_55fb5920f2804a95822ff0e3ec4a3189",
            "max": 6036,
            "min": 0,
            "orientation": "horizontal",
            "style": "IPY_MODEL_56b5bd026e304e7fab60416c5e356507",
            "value": 6036
          }
        },
        "8ba740b0659f4fdea802b4d2c99f0eab": {
          "model_module": "@jupyter-widgets/controls",
          "model_name": "HTMLModel",
          "model_module_version": "1.5.0",
          "state": {
            "_dom_classes": [],
            "_model_module": "@jupyter-widgets/controls",
            "_model_module_version": "1.5.0",
            "_model_name": "HTMLModel",
            "_view_count": null,
            "_view_module": "@jupyter-widgets/controls",
            "_view_module_version": "1.5.0",
            "_view_name": "HTMLView",
            "description": "",
            "description_tooltip": null,
            "layout": "IPY_MODEL_6a5095cc46294becaa9a58b1aaabf947",
            "placeholder": "​",
            "style": "IPY_MODEL_9f111cf93c3148dcb74b2d5d2ebcc1e5",
            "value": " 6.04k/6.04k [00:00&lt;00:00, 283kB/s]"
          }
        },
        "c674f6081d52459b87e854a6ac110504": {
          "model_module": "@jupyter-widgets/base",
          "model_name": "LayoutModel",
          "model_module_version": "1.2.0",
          "state": {
            "_model_module": "@jupyter-widgets/base",
            "_model_module_version": "1.2.0",
            "_model_name": "LayoutModel",
            "_view_count": null,
            "_view_module": "@jupyter-widgets/base",
            "_view_module_version": "1.2.0",
            "_view_name": "LayoutView",
            "align_content": null,
            "align_items": null,
            "align_self": null,
            "border": null,
            "bottom": null,
            "display": null,
            "flex": null,
            "flex_flow": null,
            "grid_area": null,
            "grid_auto_columns": null,
            "grid_auto_flow": null,
            "grid_auto_rows": null,
            "grid_column": null,
            "grid_gap": null,
            "grid_row": null,
            "grid_template_areas": null,
            "grid_template_columns": null,
            "grid_template_rows": null,
            "height": null,
            "justify_content": null,
            "justify_items": null,
            "left": null,
            "margin": null,
            "max_height": null,
            "max_width": null,
            "min_height": null,
            "min_width": null,
            "object_fit": null,
            "object_position": null,
            "order": null,
            "overflow": null,
            "overflow_x": null,
            "overflow_y": null,
            "padding": null,
            "right": null,
            "top": null,
            "visibility": null,
            "width": null
          }
        },
        "961cb35d096b43fc9dcab9c9c36ff578": {
          "model_module": "@jupyter-widgets/base",
          "model_name": "LayoutModel",
          "model_module_version": "1.2.0",
          "state": {
            "_model_module": "@jupyter-widgets/base",
            "_model_module_version": "1.2.0",
            "_model_name": "LayoutModel",
            "_view_count": null,
            "_view_module": "@jupyter-widgets/base",
            "_view_module_version": "1.2.0",
            "_view_name": "LayoutView",
            "align_content": null,
            "align_items": null,
            "align_self": null,
            "border": null,
            "bottom": null,
            "display": null,
            "flex": null,
            "flex_flow": null,
            "grid_area": null,
            "grid_auto_columns": null,
            "grid_auto_flow": null,
            "grid_auto_rows": null,
            "grid_column": null,
            "grid_gap": null,
            "grid_row": null,
            "grid_template_areas": null,
            "grid_template_columns": null,
            "grid_template_rows": null,
            "height": null,
            "justify_content": null,
            "justify_items": null,
            "left": null,
            "margin": null,
            "max_height": null,
            "max_width": null,
            "min_height": null,
            "min_width": null,
            "object_fit": null,
            "object_position": null,
            "order": null,
            "overflow": null,
            "overflow_x": null,
            "overflow_y": null,
            "padding": null,
            "right": null,
            "top": null,
            "visibility": null,
            "width": null
          }
        },
        "c4384100ad6c4c24b778ec903cb72358": {
          "model_module": "@jupyter-widgets/controls",
          "model_name": "DescriptionStyleModel",
          "model_module_version": "1.5.0",
          "state": {
            "_model_module": "@jupyter-widgets/controls",
            "_model_module_version": "1.5.0",
            "_model_name": "DescriptionStyleModel",
            "_view_count": null,
            "_view_module": "@jupyter-widgets/base",
            "_view_module_version": "1.2.0",
            "_view_name": "StyleView",
            "description_width": ""
          }
        },
        "55fb5920f2804a95822ff0e3ec4a3189": {
          "model_module": "@jupyter-widgets/base",
          "model_name": "LayoutModel",
          "model_module_version": "1.2.0",
          "state": {
            "_model_module": "@jupyter-widgets/base",
            "_model_module_version": "1.2.0",
            "_model_name": "LayoutModel",
            "_view_count": null,
            "_view_module": "@jupyter-widgets/base",
            "_view_module_version": "1.2.0",
            "_view_name": "LayoutView",
            "align_content": null,
            "align_items": null,
            "align_self": null,
            "border": null,
            "bottom": null,
            "display": null,
            "flex": null,
            "flex_flow": null,
            "grid_area": null,
            "grid_auto_columns": null,
            "grid_auto_flow": null,
            "grid_auto_rows": null,
            "grid_column": null,
            "grid_gap": null,
            "grid_row": null,
            "grid_template_areas": null,
            "grid_template_columns": null,
            "grid_template_rows": null,
            "height": null,
            "justify_content": null,
            "justify_items": null,
            "left": null,
            "margin": null,
            "max_height": null,
            "max_width": null,
            "min_height": null,
            "min_width": null,
            "object_fit": null,
            "object_position": null,
            "order": null,
            "overflow": null,
            "overflow_x": null,
            "overflow_y": null,
            "padding": null,
            "right": null,
            "top": null,
            "visibility": null,
            "width": null
          }
        },
        "56b5bd026e304e7fab60416c5e356507": {
          "model_module": "@jupyter-widgets/controls",
          "model_name": "ProgressStyleModel",
          "model_module_version": "1.5.0",
          "state": {
            "_model_module": "@jupyter-widgets/controls",
            "_model_module_version": "1.5.0",
            "_model_name": "ProgressStyleModel",
            "_view_count": null,
            "_view_module": "@jupyter-widgets/base",
            "_view_module_version": "1.2.0",
            "_view_name": "StyleView",
            "bar_color": null,
            "description_width": ""
          }
        },
        "6a5095cc46294becaa9a58b1aaabf947": {
          "model_module": "@jupyter-widgets/base",
          "model_name": "LayoutModel",
          "model_module_version": "1.2.0",
          "state": {
            "_model_module": "@jupyter-widgets/base",
            "_model_module_version": "1.2.0",
            "_model_name": "LayoutModel",
            "_view_count": null,
            "_view_module": "@jupyter-widgets/base",
            "_view_module_version": "1.2.0",
            "_view_name": "LayoutView",
            "align_content": null,
            "align_items": null,
            "align_self": null,
            "border": null,
            "bottom": null,
            "display": null,
            "flex": null,
            "flex_flow": null,
            "grid_area": null,
            "grid_auto_columns": null,
            "grid_auto_flow": null,
            "grid_auto_rows": null,
            "grid_column": null,
            "grid_gap": null,
            "grid_row": null,
            "grid_template_areas": null,
            "grid_template_columns": null,
            "grid_template_rows": null,
            "height": null,
            "justify_content": null,
            "justify_items": null,
            "left": null,
            "margin": null,
            "max_height": null,
            "max_width": null,
            "min_height": null,
            "min_width": null,
            "object_fit": null,
            "object_position": null,
            "order": null,
            "overflow": null,
            "overflow_x": null,
            "overflow_y": null,
            "padding": null,
            "right": null,
            "top": null,
            "visibility": null,
            "width": null
          }
        },
        "9f111cf93c3148dcb74b2d5d2ebcc1e5": {
          "model_module": "@jupyter-widgets/controls",
          "model_name": "DescriptionStyleModel",
          "model_module_version": "1.5.0",
          "state": {
            "_model_module": "@jupyter-widgets/controls",
            "_model_module_version": "1.5.0",
            "_model_name": "DescriptionStyleModel",
            "_view_count": null,
            "_view_module": "@jupyter-widgets/base",
            "_view_module_version": "1.2.0",
            "_view_name": "StyleView",
            "description_width": ""
          }
        }
      }
    }
  },
  "cells": [
    {
      "cell_type": "markdown",
      "metadata": {
        "id": "view-in-github",
        "colab_type": "text"
      },
      "source": [
        "<a href=\"https://colab.research.google.com/github/Rohit-Singh12/Deep-LEARGNINGS/blob/main/LLM%20Fine%20tuning/LoRA/LoRA_vs_Full_Model_Fine_Tuning.ipynb\" target=\"_parent\"><img src=\"https://colab.research.google.com/assets/colab-badge.svg\" alt=\"Open In Colab\"/></a>"
      ]
    },
    {
      "cell_type": "markdown",
      "source": [
        "# Adding to LoRA vs. Full Model Training\n",
        "\n",
        "When fine-tuning models, we often choose between **Low-Rank Adaptation (LoRA)** and **Full Model Training** based on efficiency, resource constraints, and intended use.\n",
        "\n",
        "- **LoRA** updates only a small set of parameters, significantly reducing computational costs while maintaining quality. It is ideal for domain adaptation or adding specific knowledge to large pre-trained models without excessive resource usage.\n",
        "- **Full Model Training**, on the other hand, modifies all parameters, leading to better generalization but requiring significantly more compute power and data. This approach is necessary when making deep architectural changes or significantly altering a model’s behavior.\n"
      ],
      "metadata": {
        "id": "6hrYlcfXeAhX"
      }
    },
    {
      "cell_type": "markdown",
      "source": [
        "In this section, we will learn how to train LLMs on custom dataset using LoRA and QLoRA.\n",
        "We will use Financial phrase dataset for sentimental Analysis"
      ],
      "metadata": {
        "id": "6D-DtI3Cyt_R"
      }
    },
    {
      "cell_type": "code",
      "source": [
        "!pip install datasets"
      ],
      "metadata": {
        "colab": {
          "base_uri": "https://localhost:8080/"
        },
        "collapsed": true,
        "id": "2R1QMClugt-w",
        "outputId": "8f0919d0-bd55-47fa-8d60-834b4b8a2e70"
      },
      "execution_count": 1,
      "outputs": [
        {
          "output_type": "stream",
          "name": "stdout",
          "text": [
            "Collecting datasets\n",
            "  Downloading datasets-3.3.2-py3-none-any.whl.metadata (19 kB)\n",
            "Requirement already satisfied: filelock in /usr/local/lib/python3.11/dist-packages (from datasets) (3.17.0)\n",
            "Requirement already satisfied: numpy>=1.17 in /usr/local/lib/python3.11/dist-packages (from datasets) (1.26.4)\n",
            "Requirement already satisfied: pyarrow>=15.0.0 in /usr/local/lib/python3.11/dist-packages (from datasets) (18.1.0)\n",
            "Collecting dill<0.3.9,>=0.3.0 (from datasets)\n",
            "  Downloading dill-0.3.8-py3-none-any.whl.metadata (10 kB)\n",
            "Requirement already satisfied: pandas in /usr/local/lib/python3.11/dist-packages (from datasets) (2.2.2)\n",
            "Requirement already satisfied: requests>=2.32.2 in /usr/local/lib/python3.11/dist-packages (from datasets) (2.32.3)\n",
            "Requirement already satisfied: tqdm>=4.66.3 in /usr/local/lib/python3.11/dist-packages (from datasets) (4.67.1)\n",
            "Collecting xxhash (from datasets)\n",
            "  Downloading xxhash-3.5.0-cp311-cp311-manylinux_2_17_x86_64.manylinux2014_x86_64.whl.metadata (12 kB)\n",
            "Collecting multiprocess<0.70.17 (from datasets)\n",
            "  Downloading multiprocess-0.70.16-py311-none-any.whl.metadata (7.2 kB)\n",
            "Requirement already satisfied: fsspec<=2024.12.0,>=2023.1.0 in /usr/local/lib/python3.11/dist-packages (from fsspec[http]<=2024.12.0,>=2023.1.0->datasets) (2024.10.0)\n",
            "Requirement already satisfied: aiohttp in /usr/local/lib/python3.11/dist-packages (from datasets) (3.11.13)\n",
            "Requirement already satisfied: huggingface-hub>=0.24.0 in /usr/local/lib/python3.11/dist-packages (from datasets) (0.28.1)\n",
            "Requirement already satisfied: packaging in /usr/local/lib/python3.11/dist-packages (from datasets) (24.2)\n",
            "Requirement already satisfied: pyyaml>=5.1 in /usr/local/lib/python3.11/dist-packages (from datasets) (6.0.2)\n",
            "Requirement already satisfied: aiohappyeyeballs>=2.3.0 in /usr/local/lib/python3.11/dist-packages (from aiohttp->datasets) (2.4.6)\n",
            "Requirement already satisfied: aiosignal>=1.1.2 in /usr/local/lib/python3.11/dist-packages (from aiohttp->datasets) (1.3.2)\n",
            "Requirement already satisfied: attrs>=17.3.0 in /usr/local/lib/python3.11/dist-packages (from aiohttp->datasets) (25.1.0)\n",
            "Requirement already satisfied: frozenlist>=1.1.1 in /usr/local/lib/python3.11/dist-packages (from aiohttp->datasets) (1.5.0)\n",
            "Requirement already satisfied: multidict<7.0,>=4.5 in /usr/local/lib/python3.11/dist-packages (from aiohttp->datasets) (6.1.0)\n",
            "Requirement already satisfied: propcache>=0.2.0 in /usr/local/lib/python3.11/dist-packages (from aiohttp->datasets) (0.3.0)\n",
            "Requirement already satisfied: yarl<2.0,>=1.17.0 in /usr/local/lib/python3.11/dist-packages (from aiohttp->datasets) (1.18.3)\n",
            "Requirement already satisfied: typing-extensions>=3.7.4.3 in /usr/local/lib/python3.11/dist-packages (from huggingface-hub>=0.24.0->datasets) (4.12.2)\n",
            "Requirement already satisfied: charset-normalizer<4,>=2 in /usr/local/lib/python3.11/dist-packages (from requests>=2.32.2->datasets) (3.4.1)\n",
            "Requirement already satisfied: idna<4,>=2.5 in /usr/local/lib/python3.11/dist-packages (from requests>=2.32.2->datasets) (3.10)\n",
            "Requirement already satisfied: urllib3<3,>=1.21.1 in /usr/local/lib/python3.11/dist-packages (from requests>=2.32.2->datasets) (2.3.0)\n",
            "Requirement already satisfied: certifi>=2017.4.17 in /usr/local/lib/python3.11/dist-packages (from requests>=2.32.2->datasets) (2025.1.31)\n",
            "Requirement already satisfied: python-dateutil>=2.8.2 in /usr/local/lib/python3.11/dist-packages (from pandas->datasets) (2.8.2)\n",
            "Requirement already satisfied: pytz>=2020.1 in /usr/local/lib/python3.11/dist-packages (from pandas->datasets) (2025.1)\n",
            "Requirement already satisfied: tzdata>=2022.7 in /usr/local/lib/python3.11/dist-packages (from pandas->datasets) (2025.1)\n",
            "Requirement already satisfied: six>=1.5 in /usr/local/lib/python3.11/dist-packages (from python-dateutil>=2.8.2->pandas->datasets) (1.17.0)\n",
            "Downloading datasets-3.3.2-py3-none-any.whl (485 kB)\n",
            "\u001b[2K   \u001b[90m━━━━━━━━━━━━━━━━━━━━━━━━━━━━━━━━━━━━━━━━\u001b[0m \u001b[32m485.4/485.4 kB\u001b[0m \u001b[31m36.8 MB/s\u001b[0m eta \u001b[36m0:00:00\u001b[0m\n",
            "\u001b[?25hDownloading dill-0.3.8-py3-none-any.whl (116 kB)\n",
            "\u001b[2K   \u001b[90m━━━━━━━━━━━━━━━━━━━━━━━━━━━━━━━━━━━━━━━━\u001b[0m \u001b[32m116.3/116.3 kB\u001b[0m \u001b[31m12.9 MB/s\u001b[0m eta \u001b[36m0:00:00\u001b[0m\n",
            "\u001b[?25hDownloading multiprocess-0.70.16-py311-none-any.whl (143 kB)\n",
            "\u001b[2K   \u001b[90m━━━━━━━━━━━━━━━━━━━━━━━━━━━━━━━━━━━━━━━━\u001b[0m \u001b[32m143.5/143.5 kB\u001b[0m \u001b[31m15.4 MB/s\u001b[0m eta \u001b[36m0:00:00\u001b[0m\n",
            "\u001b[?25hDownloading xxhash-3.5.0-cp311-cp311-manylinux_2_17_x86_64.manylinux2014_x86_64.whl (194 kB)\n",
            "\u001b[2K   \u001b[90m━━━━━━━━━━━━━━━━━━━━━━━━━━━━━━━━━━━━━━━━\u001b[0m \u001b[32m194.8/194.8 kB\u001b[0m \u001b[31m18.3 MB/s\u001b[0m eta \u001b[36m0:00:00\u001b[0m\n",
            "\u001b[?25hInstalling collected packages: xxhash, dill, multiprocess, datasets\n",
            "Successfully installed datasets-3.3.2 dill-0.3.8 multiprocess-0.70.16 xxhash-3.5.0\n"
          ]
        }
      ]
    },
    {
      "cell_type": "code",
      "execution_count": 2,
      "metadata": {
        "id": "angQb4Mxd3GX"
      },
      "outputs": [],
      "source": [
        "from datasets import load_dataset,get_dataset_config_names"
      ]
    },
    {
      "cell_type": "markdown",
      "source": [
        "Adding dataset from Kaggle. Here we are using Financial phrase"
      ],
      "metadata": {
        "id": "GBqWaU4lyl41"
      }
    },
    {
      "cell_type": "code",
      "source": [
        "configs = get_dataset_config_names(\"financial_phrasebank\")"
      ],
      "metadata": {
        "colab": {
          "base_uri": "https://localhost:8080/",
          "height": 283,
          "referenced_widgets": [
            "10a79ed7e71d4671b1e2729d143702bd",
            "a3001a8261884261916309916ffbd444",
            "943327d2a523474fb17812e237d48730",
            "3fd0f8ee0ed74d04919d4c5e4201459a",
            "d988e7b5bf9e439eaa3493f1ee4760d9",
            "e20edaabeaa1453baf729feb10b6a585",
            "8515562068304fcb8f71e2414034a6e5",
            "0c76ae3c428c449897874ffaaed9e7cd",
            "96814aaf38d94dd48178e5ded96b94de",
            "8fd32f3b78524dc6b4326bdd97ebff51",
            "256c3fbf502c4da2aceb8b9f4d73fd72",
            "89a0c36b256c465faf22cd9bf073c7d6",
            "876b687f3acb40da903aa67ae3238fb2",
            "0999bd9ba81244e19d57aef67f246e4a",
            "8ba740b0659f4fdea802b4d2c99f0eab",
            "c674f6081d52459b87e854a6ac110504",
            "961cb35d096b43fc9dcab9c9c36ff578",
            "c4384100ad6c4c24b778ec903cb72358",
            "55fb5920f2804a95822ff0e3ec4a3189",
            "56b5bd026e304e7fab60416c5e356507",
            "6a5095cc46294becaa9a58b1aaabf947",
            "9f111cf93c3148dcb74b2d5d2ebcc1e5"
          ]
        },
        "id": "UyRrw6nnghwr",
        "outputId": "4c2a6f28-bab7-4c26-9226-be2cf782d9fe"
      },
      "execution_count": 3,
      "outputs": [
        {
          "output_type": "stream",
          "name": "stderr",
          "text": [
            "/usr/local/lib/python3.11/dist-packages/huggingface_hub/utils/_auth.py:94: UserWarning: \n",
            "The secret `HF_TOKEN` does not exist in your Colab secrets.\n",
            "To authenticate with the Hugging Face Hub, create a token in your settings tab (https://huggingface.co/settings/tokens), set it as secret in your Google Colab and restart your session.\n",
            "You will be able to reuse this secret in all of your notebooks.\n",
            "Please note that authentication is recommended but still optional to access public models or datasets.\n",
            "  warnings.warn(\n"
          ]
        },
        {
          "output_type": "display_data",
          "data": {
            "text/plain": [
              "README.md:   0%|          | 0.00/8.88k [00:00<?, ?B/s]"
            ],
            "application/vnd.jupyter.widget-view+json": {
              "version_major": 2,
              "version_minor": 0,
              "model_id": "10a79ed7e71d4671b1e2729d143702bd"
            }
          },
          "metadata": {}
        },
        {
          "output_type": "display_data",
          "data": {
            "text/plain": [
              "financial_phrasebank.py:   0%|          | 0.00/6.04k [00:00<?, ?B/s]"
            ],
            "application/vnd.jupyter.widget-view+json": {
              "version_major": 2,
              "version_minor": 0,
              "model_id": "89a0c36b256c465faf22cd9bf073c7d6"
            }
          },
          "metadata": {}
        },
        {
          "name": "stdout",
          "output_type": "stream",
          "text": [
            "The repository for financial_phrasebank contains custom code which must be executed to correctly load the dataset. You can inspect the repository content at https://hf.co/datasets/financial_phrasebank.\n",
            "You can avoid this prompt in future by passing the argument `trust_remote_code=True`.\n",
            "\n",
            "Do you wish to run the custom code? [y/N] y\n"
          ]
        }
      ]
    },
    {
      "cell_type": "code",
      "source": [
        "# we will use dataset with senteces_allagree\n",
        "configs"
      ],
      "metadata": {
        "id": "Rh8i8l8B0d9g",
        "outputId": "0f8e41ed-320e-45c4-ed40-6faec9b8dfba",
        "colab": {
          "base_uri": "https://localhost:8080/"
        }
      },
      "execution_count": 4,
      "outputs": [
        {
          "output_type": "execute_result",
          "data": {
            "text/plain": [
              "['sentences_allagree',\n",
              " 'sentences_75agree',\n",
              " 'sentences_66agree',\n",
              " 'sentences_50agree']"
            ]
          },
          "metadata": {},
          "execution_count": 4
        }
      ]
    },
    {
      "cell_type": "code",
      "source": [
        "from typing import Final"
      ],
      "metadata": {
        "id": "oDFcRYvqcDAv"
      },
      "execution_count": 13,
      "outputs": []
    },
    {
      "cell_type": "code",
      "source": [
        "data : Final = load_dataset(\"financial_phrasebank\", \"sentences_allagree\")"
      ],
      "metadata": {
        "id": "6T1LP6MHhL-7"
      },
      "execution_count": 51,
      "outputs": []
    },
    {
      "cell_type": "code",
      "source": [
        "import pandas as pd\n",
        "df = data['train'].to_pandas()"
      ],
      "metadata": {
        "id": "AhtQhcuHzOeP"
      },
      "execution_count": 52,
      "outputs": []
    },
    {
      "cell_type": "code",
      "source": [
        "df.head()"
      ],
      "metadata": {
        "id": "3vkX4_la0skZ",
        "outputId": "12e221b0-2a6e-46a7-a592-12c6597506db",
        "colab": {
          "base_uri": "https://localhost:8080/",
          "height": 206
        }
      },
      "execution_count": 53,
      "outputs": [
        {
          "output_type": "execute_result",
          "data": {
            "text/plain": [
              "                                            sentence  label\n",
              "0  According to Gran , the company has no plans t...      1\n",
              "1  For the last quarter of 2010 , Componenta 's n...      2\n",
              "2  In the third quarter of 2010 , net sales incre...      2\n",
              "3  Operating profit rose to EUR 13.1 mn from EUR ...      2\n",
              "4  Operating profit totalled EUR 21.1 mn , up fro...      2"
            ],
            "text/html": [
              "\n",
              "  <div id=\"df-31bb733d-5510-4e46-9b88-2885f7bb305a\" class=\"colab-df-container\">\n",
              "    <div>\n",
              "<style scoped>\n",
              "    .dataframe tbody tr th:only-of-type {\n",
              "        vertical-align: middle;\n",
              "    }\n",
              "\n",
              "    .dataframe tbody tr th {\n",
              "        vertical-align: top;\n",
              "    }\n",
              "\n",
              "    .dataframe thead th {\n",
              "        text-align: right;\n",
              "    }\n",
              "</style>\n",
              "<table border=\"1\" class=\"dataframe\">\n",
              "  <thead>\n",
              "    <tr style=\"text-align: right;\">\n",
              "      <th></th>\n",
              "      <th>sentence</th>\n",
              "      <th>label</th>\n",
              "    </tr>\n",
              "  </thead>\n",
              "  <tbody>\n",
              "    <tr>\n",
              "      <th>0</th>\n",
              "      <td>According to Gran , the company has no plans t...</td>\n",
              "      <td>1</td>\n",
              "    </tr>\n",
              "    <tr>\n",
              "      <th>1</th>\n",
              "      <td>For the last quarter of 2010 , Componenta 's n...</td>\n",
              "      <td>2</td>\n",
              "    </tr>\n",
              "    <tr>\n",
              "      <th>2</th>\n",
              "      <td>In the third quarter of 2010 , net sales incre...</td>\n",
              "      <td>2</td>\n",
              "    </tr>\n",
              "    <tr>\n",
              "      <th>3</th>\n",
              "      <td>Operating profit rose to EUR 13.1 mn from EUR ...</td>\n",
              "      <td>2</td>\n",
              "    </tr>\n",
              "    <tr>\n",
              "      <th>4</th>\n",
              "      <td>Operating profit totalled EUR 21.1 mn , up fro...</td>\n",
              "      <td>2</td>\n",
              "    </tr>\n",
              "  </tbody>\n",
              "</table>\n",
              "</div>\n",
              "    <div class=\"colab-df-buttons\">\n",
              "\n",
              "  <div class=\"colab-df-container\">\n",
              "    <button class=\"colab-df-convert\" onclick=\"convertToInteractive('df-31bb733d-5510-4e46-9b88-2885f7bb305a')\"\n",
              "            title=\"Convert this dataframe to an interactive table.\"\n",
              "            style=\"display:none;\">\n",
              "\n",
              "  <svg xmlns=\"http://www.w3.org/2000/svg\" height=\"24px\" viewBox=\"0 -960 960 960\">\n",
              "    <path d=\"M120-120v-720h720v720H120Zm60-500h600v-160H180v160Zm220 220h160v-160H400v160Zm0 220h160v-160H400v160ZM180-400h160v-160H180v160Zm440 0h160v-160H620v160ZM180-180h160v-160H180v160Zm440 0h160v-160H620v160Z\"/>\n",
              "  </svg>\n",
              "    </button>\n",
              "\n",
              "  <style>\n",
              "    .colab-df-container {\n",
              "      display:flex;\n",
              "      gap: 12px;\n",
              "    }\n",
              "\n",
              "    .colab-df-convert {\n",
              "      background-color: #E8F0FE;\n",
              "      border: none;\n",
              "      border-radius: 50%;\n",
              "      cursor: pointer;\n",
              "      display: none;\n",
              "      fill: #1967D2;\n",
              "      height: 32px;\n",
              "      padding: 0 0 0 0;\n",
              "      width: 32px;\n",
              "    }\n",
              "\n",
              "    .colab-df-convert:hover {\n",
              "      background-color: #E2EBFA;\n",
              "      box-shadow: 0px 1px 2px rgba(60, 64, 67, 0.3), 0px 1px 3px 1px rgba(60, 64, 67, 0.15);\n",
              "      fill: #174EA6;\n",
              "    }\n",
              "\n",
              "    .colab-df-buttons div {\n",
              "      margin-bottom: 4px;\n",
              "    }\n",
              "\n",
              "    [theme=dark] .colab-df-convert {\n",
              "      background-color: #3B4455;\n",
              "      fill: #D2E3FC;\n",
              "    }\n",
              "\n",
              "    [theme=dark] .colab-df-convert:hover {\n",
              "      background-color: #434B5C;\n",
              "      box-shadow: 0px 1px 3px 1px rgba(0, 0, 0, 0.15);\n",
              "      filter: drop-shadow(0px 1px 2px rgba(0, 0, 0, 0.3));\n",
              "      fill: #FFFFFF;\n",
              "    }\n",
              "  </style>\n",
              "\n",
              "    <script>\n",
              "      const buttonEl =\n",
              "        document.querySelector('#df-31bb733d-5510-4e46-9b88-2885f7bb305a button.colab-df-convert');\n",
              "      buttonEl.style.display =\n",
              "        google.colab.kernel.accessAllowed ? 'block' : 'none';\n",
              "\n",
              "      async function convertToInteractive(key) {\n",
              "        const element = document.querySelector('#df-31bb733d-5510-4e46-9b88-2885f7bb305a');\n",
              "        const dataTable =\n",
              "          await google.colab.kernel.invokeFunction('convertToInteractive',\n",
              "                                                    [key], {});\n",
              "        if (!dataTable) return;\n",
              "\n",
              "        const docLinkHtml = 'Like what you see? Visit the ' +\n",
              "          '<a target=\"_blank\" href=https://colab.research.google.com/notebooks/data_table.ipynb>data table notebook</a>'\n",
              "          + ' to learn more about interactive tables.';\n",
              "        element.innerHTML = '';\n",
              "        dataTable['output_type'] = 'display_data';\n",
              "        await google.colab.output.renderOutput(dataTable, element);\n",
              "        const docLink = document.createElement('div');\n",
              "        docLink.innerHTML = docLinkHtml;\n",
              "        element.appendChild(docLink);\n",
              "      }\n",
              "    </script>\n",
              "  </div>\n",
              "\n",
              "\n",
              "<div id=\"df-5d845491-82bc-43a4-8b5f-4e25bd62596c\">\n",
              "  <button class=\"colab-df-quickchart\" onclick=\"quickchart('df-5d845491-82bc-43a4-8b5f-4e25bd62596c')\"\n",
              "            title=\"Suggest charts\"\n",
              "            style=\"display:none;\">\n",
              "\n",
              "<svg xmlns=\"http://www.w3.org/2000/svg\" height=\"24px\"viewBox=\"0 0 24 24\"\n",
              "     width=\"24px\">\n",
              "    <g>\n",
              "        <path d=\"M19 3H5c-1.1 0-2 .9-2 2v14c0 1.1.9 2 2 2h14c1.1 0 2-.9 2-2V5c0-1.1-.9-2-2-2zM9 17H7v-7h2v7zm4 0h-2V7h2v10zm4 0h-2v-4h2v4z\"/>\n",
              "    </g>\n",
              "</svg>\n",
              "  </button>\n",
              "\n",
              "<style>\n",
              "  .colab-df-quickchart {\n",
              "      --bg-color: #E8F0FE;\n",
              "      --fill-color: #1967D2;\n",
              "      --hover-bg-color: #E2EBFA;\n",
              "      --hover-fill-color: #174EA6;\n",
              "      --disabled-fill-color: #AAA;\n",
              "      --disabled-bg-color: #DDD;\n",
              "  }\n",
              "\n",
              "  [theme=dark] .colab-df-quickchart {\n",
              "      --bg-color: #3B4455;\n",
              "      --fill-color: #D2E3FC;\n",
              "      --hover-bg-color: #434B5C;\n",
              "      --hover-fill-color: #FFFFFF;\n",
              "      --disabled-bg-color: #3B4455;\n",
              "      --disabled-fill-color: #666;\n",
              "  }\n",
              "\n",
              "  .colab-df-quickchart {\n",
              "    background-color: var(--bg-color);\n",
              "    border: none;\n",
              "    border-radius: 50%;\n",
              "    cursor: pointer;\n",
              "    display: none;\n",
              "    fill: var(--fill-color);\n",
              "    height: 32px;\n",
              "    padding: 0;\n",
              "    width: 32px;\n",
              "  }\n",
              "\n",
              "  .colab-df-quickchart:hover {\n",
              "    background-color: var(--hover-bg-color);\n",
              "    box-shadow: 0 1px 2px rgba(60, 64, 67, 0.3), 0 1px 3px 1px rgba(60, 64, 67, 0.15);\n",
              "    fill: var(--button-hover-fill-color);\n",
              "  }\n",
              "\n",
              "  .colab-df-quickchart-complete:disabled,\n",
              "  .colab-df-quickchart-complete:disabled:hover {\n",
              "    background-color: var(--disabled-bg-color);\n",
              "    fill: var(--disabled-fill-color);\n",
              "    box-shadow: none;\n",
              "  }\n",
              "\n",
              "  .colab-df-spinner {\n",
              "    border: 2px solid var(--fill-color);\n",
              "    border-color: transparent;\n",
              "    border-bottom-color: var(--fill-color);\n",
              "    animation:\n",
              "      spin 1s steps(1) infinite;\n",
              "  }\n",
              "\n",
              "  @keyframes spin {\n",
              "    0% {\n",
              "      border-color: transparent;\n",
              "      border-bottom-color: var(--fill-color);\n",
              "      border-left-color: var(--fill-color);\n",
              "    }\n",
              "    20% {\n",
              "      border-color: transparent;\n",
              "      border-left-color: var(--fill-color);\n",
              "      border-top-color: var(--fill-color);\n",
              "    }\n",
              "    30% {\n",
              "      border-color: transparent;\n",
              "      border-left-color: var(--fill-color);\n",
              "      border-top-color: var(--fill-color);\n",
              "      border-right-color: var(--fill-color);\n",
              "    }\n",
              "    40% {\n",
              "      border-color: transparent;\n",
              "      border-right-color: var(--fill-color);\n",
              "      border-top-color: var(--fill-color);\n",
              "    }\n",
              "    60% {\n",
              "      border-color: transparent;\n",
              "      border-right-color: var(--fill-color);\n",
              "    }\n",
              "    80% {\n",
              "      border-color: transparent;\n",
              "      border-right-color: var(--fill-color);\n",
              "      border-bottom-color: var(--fill-color);\n",
              "    }\n",
              "    90% {\n",
              "      border-color: transparent;\n",
              "      border-bottom-color: var(--fill-color);\n",
              "    }\n",
              "  }\n",
              "</style>\n",
              "\n",
              "  <script>\n",
              "    async function quickchart(key) {\n",
              "      const quickchartButtonEl =\n",
              "        document.querySelector('#' + key + ' button');\n",
              "      quickchartButtonEl.disabled = true;  // To prevent multiple clicks.\n",
              "      quickchartButtonEl.classList.add('colab-df-spinner');\n",
              "      try {\n",
              "        const charts = await google.colab.kernel.invokeFunction(\n",
              "            'suggestCharts', [key], {});\n",
              "      } catch (error) {\n",
              "        console.error('Error during call to suggestCharts:', error);\n",
              "      }\n",
              "      quickchartButtonEl.classList.remove('colab-df-spinner');\n",
              "      quickchartButtonEl.classList.add('colab-df-quickchart-complete');\n",
              "    }\n",
              "    (() => {\n",
              "      let quickchartButtonEl =\n",
              "        document.querySelector('#df-5d845491-82bc-43a4-8b5f-4e25bd62596c button');\n",
              "      quickchartButtonEl.style.display =\n",
              "        google.colab.kernel.accessAllowed ? 'block' : 'none';\n",
              "    })();\n",
              "  </script>\n",
              "</div>\n",
              "\n",
              "    </div>\n",
              "  </div>\n"
            ],
            "application/vnd.google.colaboratory.intrinsic+json": {
              "type": "dataframe",
              "variable_name": "df",
              "summary": "{\n  \"name\": \"df\",\n  \"rows\": 2264,\n  \"fields\": [\n    {\n      \"column\": \"sentence\",\n      \"properties\": {\n        \"dtype\": \"string\",\n        \"num_unique_values\": 2259,\n        \"samples\": [\n          \"- The Group -\\u00a6 s sales during the period were EUR 31.6 million EUR 36.6 million , 1-6/2007 and profit before taxes was EUR 0.2 1.3 million .\",\n          \"Profit after taxes for the period was up to EUR0 .9 m , from EUR0 .01 m last year .\",\n          \"`` They want my credit card info and my personal details .\"\n        ],\n        \"semantic_type\": \"\",\n        \"description\": \"\"\n      }\n    },\n    {\n      \"column\": \"label\",\n      \"properties\": {\n        \"dtype\": \"number\",\n        \"std\": 0,\n        \"min\": 0,\n        \"max\": 2,\n        \"num_unique_values\": 3,\n        \"samples\": [\n          1,\n          2,\n          0\n        ],\n        \"semantic_type\": \"\",\n        \"description\": \"\"\n      }\n    }\n  ]\n}"
            }
          },
          "metadata": {},
          "execution_count": 53
        }
      ]
    },
    {
      "cell_type": "markdown",
      "source": [
        "## Base Model: DistilBERT  \n",
        "In this implementation, we use **DistilBERT (distilbert-base-uncased)** as the base model.  \n"
      ],
      "metadata": {
        "id": "WqN2KM2501vm"
      }
    },
    {
      "cell_type": "code",
      "source": [
        "checkpoint = 'distilbert-base-uncased'#base model"
      ],
      "metadata": {
        "id": "jODxzg9mhcDQ"
      },
      "execution_count": 54,
      "outputs": []
    },
    {
      "cell_type": "code",
      "source": [
        "from transformers import AutoTokenizer, TFAutoModelForSequenceClassification\n",
        "tokenizer = AutoTokenizer.from_pretrained(checkpoint)"
      ],
      "metadata": {
        "id": "CTuFlX0oi8q3"
      },
      "execution_count": 55,
      "outputs": []
    },
    {
      "cell_type": "code",
      "source": [
        "def tokenize(sentence):\n",
        "  return tokenizer(\n",
        "      sentence['sentence'],\n",
        "      padding=\"max_length\",\n",
        "      truncation=True,\n",
        "      max_length=512,\n",
        "      return_tensors=\"tf\"\n",
        "  )"
      ],
      "metadata": {
        "id": "K_QTz8tTkDbJ"
      },
      "execution_count": 56,
      "outputs": []
    },
    {
      "cell_type": "markdown",
      "source": [
        "Tokenize the sentences for training the model"
      ],
      "metadata": {
        "id": "-gKazgZo1ZeC"
      }
    },
    {
      "cell_type": "code",
      "source": [
        "tokenized_data = data['train'].map(tokenize, batched=True)"
      ],
      "metadata": {
        "id": "JY2CI2DylBUZ"
      },
      "execution_count": 57,
      "outputs": []
    },
    {
      "cell_type": "markdown",
      "source": [
        "## **Tokenization, Input IDs, and Attention Mask in Transformer Models**\n",
        "\n",
        "Tokenization in Transformer models like **BERT/DistilBERT** converts text into numerical representations for processing. The key components are:\n",
        "\n",
        "---\n",
        "\n",
        "### **1. Tokenization Process**\n",
        "When a sentence is tokenized, it undergoes:\n",
        "- **Lowercasing** (for uncased models)\n",
        "- **WordPiece Tokenization**\n",
        "- **Mapping tokens to unique IDs from the model’s vocabulary**\n",
        "\n",
        "For example, tokenizing `\"Hello world!\"`:\n",
        "\n",
        "$$\n",
        "\\text{Tokens} = [\\text{\"hello\"}, \\text{\"world\"}, \\text{\"!\"}]\n",
        "$$\n",
        "\n",
        "Each token is mapped to a unique **input ID**:\n",
        "\n",
        "$$\n",
        "\\text{Input IDs} = [7592, 2088, 999]\n",
        "$$\n",
        "\n",
        "---\n",
        "\n",
        "### **2. Special Tokens**\n",
        "BERT-based models use **special tokens** for sentence structure:\n",
        "\n",
        "| **Token** | **Meaning** | **Example ID** |\n",
        "|-----------|------------|---------------|\n",
        "| `[CLS]`   | Start of sentence | 101 |\n",
        "| `[SEP]`   | End of sentence / separator | 102 |\n",
        "| `[PAD]`   | Padding for shorter sequences | 0 |\n",
        "| `[MASK]`  | Masked token for MLM tasks | 103 |\n",
        "\n",
        "For `\"Hello world!\"`, tokenizing with special tokens gives:\n",
        "\n",
        "$$\n",
        "\\text{Input IDs} = [101, 7592, 2088, 999, 102]\n",
        "$$\n",
        "\n",
        "Here:\n",
        "- `101` (`[CLS]`) marks the **start** of the sequence.\n",
        "- `102` (`[SEP]`) marks the **end** of the sequence.\n",
        "\n",
        "---\n",
        "\n",
        "### **3. Attention Mask**\n",
        "The **attention mask** tells the model which tokens to **attend to** and which to **ignore (padding tokens).**  \n",
        "- `1` → The token **should be processed** (real words).  \n",
        "- `0` → The token **should be ignored** (padding).  \n",
        "\n",
        "For example, if **padding is applied** to match a fixed sequence length (e.g., `max_length=6`):\n",
        "\n",
        "| Token | `[CLS]` | `Hello` | `world` | `!` | `[SEP]` | `[PAD]` |\n",
        "|--------|--------|--------|--------|--------|--------|--------|\n",
        "| Input IDs | 101 | 7592 | 2088 | 999 | 102 | 0 |\n",
        "| Attention Mask | 1 | 1 | 1 | 1 | 1 | 0 |\n",
        "\n",
        "Mathematically:\n",
        "\n",
        "$$\n",
        "\\text{Attention Mask} = [1, 1, 1, 1, 1, 0]\n",
        "$$\n",
        "\n",
        "This ensures that the model **processes actual words** while **ignoring padding** during computations.\n",
        "\n",
        "---\n",
        "\n",
        "### **4. Subword Tokenization (WordPiece)**\n",
        "If a word is **not in the vocabulary**, it is split into **subword tokens**.\n",
        "\n",
        "For `\"Transformer models are amazing!\"`:\n",
        "\n",
        "$$\n",
        "\\text{Tokens} = [\\text{\"transform\"}, \\text{\"##er\"}, \\text{\"models\"}, \\text{\"are\"}, \\text{\"amazing\"}, \\text{\"!\"}]\n",
        "$$\n",
        "\n",
        "- `\"Transformer\"` is split into `\"transform\"` and `\"##er\"`, where `\"##\"` means it continues from the previous token.\n",
        "- This method handles **out-of-vocabulary (OOV) words** efficiently.\n",
        "\n",
        "---\n",
        "\n",
        "### **5. Summary**\n",
        "By understanding **tokenization, input IDs, and attention masks**, we can effectively preprocess text for Transformer models like **BERT and DistilBERT**, ensuring proper encoding of input sequences.\n",
        "\n"
      ],
      "metadata": {
        "id": "IIfMxUyk3CKX"
      }
    },
    {
      "cell_type": "code",
      "source": [
        "tokenized_data_df = tokenized_data.to_pandas()\n",
        "tokenized_data_df.head(10)"
      ],
      "metadata": {
        "id": "_WLqpwY111tX",
        "outputId": "a1109964-441d-4d17-decf-a31f6180b884",
        "colab": {
          "base_uri": "https://localhost:8080/",
          "height": 363
        }
      },
      "execution_count": 58,
      "outputs": [
        {
          "output_type": "execute_result",
          "data": {
            "text/plain": [
              "                                            sentence  label  \\\n",
              "0  According to Gran , the company has no plans t...      1   \n",
              "1  For the last quarter of 2010 , Componenta 's n...      2   \n",
              "2  In the third quarter of 2010 , net sales incre...      2   \n",
              "3  Operating profit rose to EUR 13.1 mn from EUR ...      2   \n",
              "4  Operating profit totalled EUR 21.1 mn , up fro...      2   \n",
              "5  Finnish Talentum reports its operating profit ...      2   \n",
              "6  Clothing retail chain Sepp+ñl+ñ 's sales incre...      2   \n",
              "7  Consolidated net sales increased 16 % to reach...      2   \n",
              "8  Foundries division reports its sales increased...      2   \n",
              "9  HELSINKI ( AFX ) - Shares closed higher , led ...      2   \n",
              "\n",
              "                                           input_ids  \\\n",
              "0  [101, 2429, 2000, 12604, 1010, 1996, 2194, 203...   \n",
              "1  [101, 2005, 1996, 2197, 4284, 1997, 2230, 1010...   \n",
              "2  [101, 1999, 1996, 2353, 4284, 1997, 2230, 1010...   \n",
              "3  [101, 4082, 5618, 3123, 2000, 7327, 2099, 2410...   \n",
              "4  [101, 4082, 5618, 2561, 3709, 7327, 2099, 2538...   \n",
              "5  [101, 6983, 5848, 2819, 4311, 2049, 4082, 5618...   \n",
              "6  [101, 5929, 7027, 4677, 19802, 2361, 1009, 179...   \n",
              "7  [101, 10495, 5658, 4341, 3445, 2385, 1003, 200...   \n",
              "8  [101, 2179, 5134, 2407, 4311, 2049, 4341, 3445...   \n",
              "9  [101, 12331, 1006, 21358, 2595, 1007, 1011, 66...   \n",
              "\n",
              "                                      attention_mask  \n",
              "0  [1, 1, 1, 1, 1, 1, 1, 1, 1, 1, 1, 1, 1, 1, 1, ...  \n",
              "1  [1, 1, 1, 1, 1, 1, 1, 1, 1, 1, 1, 1, 1, 1, 1, ...  \n",
              "2  [1, 1, 1, 1, 1, 1, 1, 1, 1, 1, 1, 1, 1, 1, 1, ...  \n",
              "3  [1, 1, 1, 1, 1, 1, 1, 1, 1, 1, 1, 1, 1, 1, 1, ...  \n",
              "4  [1, 1, 1, 1, 1, 1, 1, 1, 1, 1, 1, 1, 1, 1, 1, ...  \n",
              "5  [1, 1, 1, 1, 1, 1, 1, 1, 1, 1, 1, 1, 1, 1, 1, ...  \n",
              "6  [1, 1, 1, 1, 1, 1, 1, 1, 1, 1, 1, 1, 1, 1, 1, ...  \n",
              "7  [1, 1, 1, 1, 1, 1, 1, 1, 1, 1, 1, 1, 1, 1, 1, ...  \n",
              "8  [1, 1, 1, 1, 1, 1, 1, 1, 1, 1, 1, 1, 1, 1, 1, ...  \n",
              "9  [1, 1, 1, 1, 1, 1, 1, 1, 1, 1, 1, 1, 1, 1, 1, ...  "
            ],
            "text/html": [
              "\n",
              "  <div id=\"df-3597a570-e2c7-4c4f-8d4d-9c7df094cd67\" class=\"colab-df-container\">\n",
              "    <div>\n",
              "<style scoped>\n",
              "    .dataframe tbody tr th:only-of-type {\n",
              "        vertical-align: middle;\n",
              "    }\n",
              "\n",
              "    .dataframe tbody tr th {\n",
              "        vertical-align: top;\n",
              "    }\n",
              "\n",
              "    .dataframe thead th {\n",
              "        text-align: right;\n",
              "    }\n",
              "</style>\n",
              "<table border=\"1\" class=\"dataframe\">\n",
              "  <thead>\n",
              "    <tr style=\"text-align: right;\">\n",
              "      <th></th>\n",
              "      <th>sentence</th>\n",
              "      <th>label</th>\n",
              "      <th>input_ids</th>\n",
              "      <th>attention_mask</th>\n",
              "    </tr>\n",
              "  </thead>\n",
              "  <tbody>\n",
              "    <tr>\n",
              "      <th>0</th>\n",
              "      <td>According to Gran , the company has no plans t...</td>\n",
              "      <td>1</td>\n",
              "      <td>[101, 2429, 2000, 12604, 1010, 1996, 2194, 203...</td>\n",
              "      <td>[1, 1, 1, 1, 1, 1, 1, 1, 1, 1, 1, 1, 1, 1, 1, ...</td>\n",
              "    </tr>\n",
              "    <tr>\n",
              "      <th>1</th>\n",
              "      <td>For the last quarter of 2010 , Componenta 's n...</td>\n",
              "      <td>2</td>\n",
              "      <td>[101, 2005, 1996, 2197, 4284, 1997, 2230, 1010...</td>\n",
              "      <td>[1, 1, 1, 1, 1, 1, 1, 1, 1, 1, 1, 1, 1, 1, 1, ...</td>\n",
              "    </tr>\n",
              "    <tr>\n",
              "      <th>2</th>\n",
              "      <td>In the third quarter of 2010 , net sales incre...</td>\n",
              "      <td>2</td>\n",
              "      <td>[101, 1999, 1996, 2353, 4284, 1997, 2230, 1010...</td>\n",
              "      <td>[1, 1, 1, 1, 1, 1, 1, 1, 1, 1, 1, 1, 1, 1, 1, ...</td>\n",
              "    </tr>\n",
              "    <tr>\n",
              "      <th>3</th>\n",
              "      <td>Operating profit rose to EUR 13.1 mn from EUR ...</td>\n",
              "      <td>2</td>\n",
              "      <td>[101, 4082, 5618, 3123, 2000, 7327, 2099, 2410...</td>\n",
              "      <td>[1, 1, 1, 1, 1, 1, 1, 1, 1, 1, 1, 1, 1, 1, 1, ...</td>\n",
              "    </tr>\n",
              "    <tr>\n",
              "      <th>4</th>\n",
              "      <td>Operating profit totalled EUR 21.1 mn , up fro...</td>\n",
              "      <td>2</td>\n",
              "      <td>[101, 4082, 5618, 2561, 3709, 7327, 2099, 2538...</td>\n",
              "      <td>[1, 1, 1, 1, 1, 1, 1, 1, 1, 1, 1, 1, 1, 1, 1, ...</td>\n",
              "    </tr>\n",
              "    <tr>\n",
              "      <th>5</th>\n",
              "      <td>Finnish Talentum reports its operating profit ...</td>\n",
              "      <td>2</td>\n",
              "      <td>[101, 6983, 5848, 2819, 4311, 2049, 4082, 5618...</td>\n",
              "      <td>[1, 1, 1, 1, 1, 1, 1, 1, 1, 1, 1, 1, 1, 1, 1, ...</td>\n",
              "    </tr>\n",
              "    <tr>\n",
              "      <th>6</th>\n",
              "      <td>Clothing retail chain Sepp+ñl+ñ 's sales incre...</td>\n",
              "      <td>2</td>\n",
              "      <td>[101, 5929, 7027, 4677, 19802, 2361, 1009, 179...</td>\n",
              "      <td>[1, 1, 1, 1, 1, 1, 1, 1, 1, 1, 1, 1, 1, 1, 1, ...</td>\n",
              "    </tr>\n",
              "    <tr>\n",
              "      <th>7</th>\n",
              "      <td>Consolidated net sales increased 16 % to reach...</td>\n",
              "      <td>2</td>\n",
              "      <td>[101, 10495, 5658, 4341, 3445, 2385, 1003, 200...</td>\n",
              "      <td>[1, 1, 1, 1, 1, 1, 1, 1, 1, 1, 1, 1, 1, 1, 1, ...</td>\n",
              "    </tr>\n",
              "    <tr>\n",
              "      <th>8</th>\n",
              "      <td>Foundries division reports its sales increased...</td>\n",
              "      <td>2</td>\n",
              "      <td>[101, 2179, 5134, 2407, 4311, 2049, 4341, 3445...</td>\n",
              "      <td>[1, 1, 1, 1, 1, 1, 1, 1, 1, 1, 1, 1, 1, 1, 1, ...</td>\n",
              "    </tr>\n",
              "    <tr>\n",
              "      <th>9</th>\n",
              "      <td>HELSINKI ( AFX ) - Shares closed higher , led ...</td>\n",
              "      <td>2</td>\n",
              "      <td>[101, 12331, 1006, 21358, 2595, 1007, 1011, 66...</td>\n",
              "      <td>[1, 1, 1, 1, 1, 1, 1, 1, 1, 1, 1, 1, 1, 1, 1, ...</td>\n",
              "    </tr>\n",
              "  </tbody>\n",
              "</table>\n",
              "</div>\n",
              "    <div class=\"colab-df-buttons\">\n",
              "\n",
              "  <div class=\"colab-df-container\">\n",
              "    <button class=\"colab-df-convert\" onclick=\"convertToInteractive('df-3597a570-e2c7-4c4f-8d4d-9c7df094cd67')\"\n",
              "            title=\"Convert this dataframe to an interactive table.\"\n",
              "            style=\"display:none;\">\n",
              "\n",
              "  <svg xmlns=\"http://www.w3.org/2000/svg\" height=\"24px\" viewBox=\"0 -960 960 960\">\n",
              "    <path d=\"M120-120v-720h720v720H120Zm60-500h600v-160H180v160Zm220 220h160v-160H400v160Zm0 220h160v-160H400v160ZM180-400h160v-160H180v160Zm440 0h160v-160H620v160ZM180-180h160v-160H180v160Zm440 0h160v-160H620v160Z\"/>\n",
              "  </svg>\n",
              "    </button>\n",
              "\n",
              "  <style>\n",
              "    .colab-df-container {\n",
              "      display:flex;\n",
              "      gap: 12px;\n",
              "    }\n",
              "\n",
              "    .colab-df-convert {\n",
              "      background-color: #E8F0FE;\n",
              "      border: none;\n",
              "      border-radius: 50%;\n",
              "      cursor: pointer;\n",
              "      display: none;\n",
              "      fill: #1967D2;\n",
              "      height: 32px;\n",
              "      padding: 0 0 0 0;\n",
              "      width: 32px;\n",
              "    }\n",
              "\n",
              "    .colab-df-convert:hover {\n",
              "      background-color: #E2EBFA;\n",
              "      box-shadow: 0px 1px 2px rgba(60, 64, 67, 0.3), 0px 1px 3px 1px rgba(60, 64, 67, 0.15);\n",
              "      fill: #174EA6;\n",
              "    }\n",
              "\n",
              "    .colab-df-buttons div {\n",
              "      margin-bottom: 4px;\n",
              "    }\n",
              "\n",
              "    [theme=dark] .colab-df-convert {\n",
              "      background-color: #3B4455;\n",
              "      fill: #D2E3FC;\n",
              "    }\n",
              "\n",
              "    [theme=dark] .colab-df-convert:hover {\n",
              "      background-color: #434B5C;\n",
              "      box-shadow: 0px 1px 3px 1px rgba(0, 0, 0, 0.15);\n",
              "      filter: drop-shadow(0px 1px 2px rgba(0, 0, 0, 0.3));\n",
              "      fill: #FFFFFF;\n",
              "    }\n",
              "  </style>\n",
              "\n",
              "    <script>\n",
              "      const buttonEl =\n",
              "        document.querySelector('#df-3597a570-e2c7-4c4f-8d4d-9c7df094cd67 button.colab-df-convert');\n",
              "      buttonEl.style.display =\n",
              "        google.colab.kernel.accessAllowed ? 'block' : 'none';\n",
              "\n",
              "      async function convertToInteractive(key) {\n",
              "        const element = document.querySelector('#df-3597a570-e2c7-4c4f-8d4d-9c7df094cd67');\n",
              "        const dataTable =\n",
              "          await google.colab.kernel.invokeFunction('convertToInteractive',\n",
              "                                                    [key], {});\n",
              "        if (!dataTable) return;\n",
              "\n",
              "        const docLinkHtml = 'Like what you see? Visit the ' +\n",
              "          '<a target=\"_blank\" href=https://colab.research.google.com/notebooks/data_table.ipynb>data table notebook</a>'\n",
              "          + ' to learn more about interactive tables.';\n",
              "        element.innerHTML = '';\n",
              "        dataTable['output_type'] = 'display_data';\n",
              "        await google.colab.output.renderOutput(dataTable, element);\n",
              "        const docLink = document.createElement('div');\n",
              "        docLink.innerHTML = docLinkHtml;\n",
              "        element.appendChild(docLink);\n",
              "      }\n",
              "    </script>\n",
              "  </div>\n",
              "\n",
              "\n",
              "<div id=\"df-d020355b-68fd-4183-ac5c-3fb75c60d7f9\">\n",
              "  <button class=\"colab-df-quickchart\" onclick=\"quickchart('df-d020355b-68fd-4183-ac5c-3fb75c60d7f9')\"\n",
              "            title=\"Suggest charts\"\n",
              "            style=\"display:none;\">\n",
              "\n",
              "<svg xmlns=\"http://www.w3.org/2000/svg\" height=\"24px\"viewBox=\"0 0 24 24\"\n",
              "     width=\"24px\">\n",
              "    <g>\n",
              "        <path d=\"M19 3H5c-1.1 0-2 .9-2 2v14c0 1.1.9 2 2 2h14c1.1 0 2-.9 2-2V5c0-1.1-.9-2-2-2zM9 17H7v-7h2v7zm4 0h-2V7h2v10zm4 0h-2v-4h2v4z\"/>\n",
              "    </g>\n",
              "</svg>\n",
              "  </button>\n",
              "\n",
              "<style>\n",
              "  .colab-df-quickchart {\n",
              "      --bg-color: #E8F0FE;\n",
              "      --fill-color: #1967D2;\n",
              "      --hover-bg-color: #E2EBFA;\n",
              "      --hover-fill-color: #174EA6;\n",
              "      --disabled-fill-color: #AAA;\n",
              "      --disabled-bg-color: #DDD;\n",
              "  }\n",
              "\n",
              "  [theme=dark] .colab-df-quickchart {\n",
              "      --bg-color: #3B4455;\n",
              "      --fill-color: #D2E3FC;\n",
              "      --hover-bg-color: #434B5C;\n",
              "      --hover-fill-color: #FFFFFF;\n",
              "      --disabled-bg-color: #3B4455;\n",
              "      --disabled-fill-color: #666;\n",
              "  }\n",
              "\n",
              "  .colab-df-quickchart {\n",
              "    background-color: var(--bg-color);\n",
              "    border: none;\n",
              "    border-radius: 50%;\n",
              "    cursor: pointer;\n",
              "    display: none;\n",
              "    fill: var(--fill-color);\n",
              "    height: 32px;\n",
              "    padding: 0;\n",
              "    width: 32px;\n",
              "  }\n",
              "\n",
              "  .colab-df-quickchart:hover {\n",
              "    background-color: var(--hover-bg-color);\n",
              "    box-shadow: 0 1px 2px rgba(60, 64, 67, 0.3), 0 1px 3px 1px rgba(60, 64, 67, 0.15);\n",
              "    fill: var(--button-hover-fill-color);\n",
              "  }\n",
              "\n",
              "  .colab-df-quickchart-complete:disabled,\n",
              "  .colab-df-quickchart-complete:disabled:hover {\n",
              "    background-color: var(--disabled-bg-color);\n",
              "    fill: var(--disabled-fill-color);\n",
              "    box-shadow: none;\n",
              "  }\n",
              "\n",
              "  .colab-df-spinner {\n",
              "    border: 2px solid var(--fill-color);\n",
              "    border-color: transparent;\n",
              "    border-bottom-color: var(--fill-color);\n",
              "    animation:\n",
              "      spin 1s steps(1) infinite;\n",
              "  }\n",
              "\n",
              "  @keyframes spin {\n",
              "    0% {\n",
              "      border-color: transparent;\n",
              "      border-bottom-color: var(--fill-color);\n",
              "      border-left-color: var(--fill-color);\n",
              "    }\n",
              "    20% {\n",
              "      border-color: transparent;\n",
              "      border-left-color: var(--fill-color);\n",
              "      border-top-color: var(--fill-color);\n",
              "    }\n",
              "    30% {\n",
              "      border-color: transparent;\n",
              "      border-left-color: var(--fill-color);\n",
              "      border-top-color: var(--fill-color);\n",
              "      border-right-color: var(--fill-color);\n",
              "    }\n",
              "    40% {\n",
              "      border-color: transparent;\n",
              "      border-right-color: var(--fill-color);\n",
              "      border-top-color: var(--fill-color);\n",
              "    }\n",
              "    60% {\n",
              "      border-color: transparent;\n",
              "      border-right-color: var(--fill-color);\n",
              "    }\n",
              "    80% {\n",
              "      border-color: transparent;\n",
              "      border-right-color: var(--fill-color);\n",
              "      border-bottom-color: var(--fill-color);\n",
              "    }\n",
              "    90% {\n",
              "      border-color: transparent;\n",
              "      border-bottom-color: var(--fill-color);\n",
              "    }\n",
              "  }\n",
              "</style>\n",
              "\n",
              "  <script>\n",
              "    async function quickchart(key) {\n",
              "      const quickchartButtonEl =\n",
              "        document.querySelector('#' + key + ' button');\n",
              "      quickchartButtonEl.disabled = true;  // To prevent multiple clicks.\n",
              "      quickchartButtonEl.classList.add('colab-df-spinner');\n",
              "      try {\n",
              "        const charts = await google.colab.kernel.invokeFunction(\n",
              "            'suggestCharts', [key], {});\n",
              "      } catch (error) {\n",
              "        console.error('Error during call to suggestCharts:', error);\n",
              "      }\n",
              "      quickchartButtonEl.classList.remove('colab-df-spinner');\n",
              "      quickchartButtonEl.classList.add('colab-df-quickchart-complete');\n",
              "    }\n",
              "    (() => {\n",
              "      let quickchartButtonEl =\n",
              "        document.querySelector('#df-d020355b-68fd-4183-ac5c-3fb75c60d7f9 button');\n",
              "      quickchartButtonEl.style.display =\n",
              "        google.colab.kernel.accessAllowed ? 'block' : 'none';\n",
              "    })();\n",
              "  </script>\n",
              "</div>\n",
              "\n",
              "    </div>\n",
              "  </div>\n"
            ],
            "application/vnd.google.colaboratory.intrinsic+json": {
              "type": "dataframe",
              "variable_name": "tokenized_data_df",
              "summary": "{\n  \"name\": \"tokenized_data_df\",\n  \"rows\": 2264,\n  \"fields\": [\n    {\n      \"column\": \"sentence\",\n      \"properties\": {\n        \"dtype\": \"string\",\n        \"num_unique_values\": 2259,\n        \"samples\": [\n          \"- The Group -\\u00a6 s sales during the period were EUR 31.6 million EUR 36.6 million , 1-6/2007 and profit before taxes was EUR 0.2 1.3 million .\",\n          \"Profit after taxes for the period was up to EUR0 .9 m , from EUR0 .01 m last year .\",\n          \"`` They want my credit card info and my personal details .\"\n        ],\n        \"semantic_type\": \"\",\n        \"description\": \"\"\n      }\n    },\n    {\n      \"column\": \"label\",\n      \"properties\": {\n        \"dtype\": \"number\",\n        \"std\": 0,\n        \"min\": 0,\n        \"max\": 2,\n        \"num_unique_values\": 3,\n        \"samples\": [\n          1,\n          2,\n          0\n        ],\n        \"semantic_type\": \"\",\n        \"description\": \"\"\n      }\n    },\n    {\n      \"column\": \"input_ids\",\n      \"properties\": {\n        \"dtype\": \"object\",\n        \"semantic_type\": \"\",\n        \"description\": \"\"\n      }\n    },\n    {\n      \"column\": \"attention_mask\",\n      \"properties\": {\n        \"dtype\": \"object\",\n        \"semantic_type\": \"\",\n        \"description\": \"\"\n      }\n    }\n  ]\n}"
            }
          },
          "metadata": {},
          "execution_count": 58
        }
      ]
    },
    {
      "cell_type": "code",
      "source": [
        "#splitting the data with 20% test data and 80% training data\n",
        "training_data = tokenized_data.train_test_split(test_size=0.2)"
      ],
      "metadata": {
        "id": "BYFHJ3tTmbQV"
      },
      "execution_count": 59,
      "outputs": []
    },
    {
      "cell_type": "code",
      "source": [
        "training_data"
      ],
      "metadata": {
        "colab": {
          "base_uri": "https://localhost:8080/"
        },
        "id": "XNM5V8TMn6EA",
        "outputId": "c4298ba7-8dee-49bf-afb6-a52c84ba0615"
      },
      "execution_count": 60,
      "outputs": [
        {
          "output_type": "execute_result",
          "data": {
            "text/plain": [
              "DatasetDict({\n",
              "    train: Dataset({\n",
              "        features: ['sentence', 'label', 'input_ids', 'attention_mask'],\n",
              "        num_rows: 1811\n",
              "    })\n",
              "    test: Dataset({\n",
              "        features: ['sentence', 'label', 'input_ids', 'attention_mask'],\n",
              "        num_rows: 453\n",
              "    })\n",
              "})"
            ]
          },
          "metadata": {},
          "execution_count": 60
        }
      ]
    },
    {
      "cell_type": "code",
      "source": [
        "train_data = training_data['train']\n",
        "test_data = training_data['test']"
      ],
      "metadata": {
        "id": "6p8npnten7SJ"
      },
      "execution_count": 61,
      "outputs": []
    },
    {
      "cell_type": "code",
      "source": [
        "len(train_data), len(test_data)"
      ],
      "metadata": {
        "colab": {
          "base_uri": "https://localhost:8080/"
        },
        "id": "PD49pbLloJRq",
        "outputId": "53443aed-7cc7-4ef4-c47b-7ef0c88348b8"
      },
      "execution_count": 62,
      "outputs": [
        {
          "output_type": "execute_result",
          "data": {
            "text/plain": [
              "(1811, 453)"
            ]
          },
          "metadata": {},
          "execution_count": 62
        }
      ]
    },
    {
      "cell_type": "code",
      "source": [
        "#Further splitting test data into validation and test data\n",
        "test_data = test_data.train_test_split(test_size=0.5)\n",
        "test_data"
      ],
      "metadata": {
        "id": "Hyt3ew3ooL8b",
        "colab": {
          "base_uri": "https://localhost:8080/"
        },
        "outputId": "4c707f67-c163-4dd9-8556-9ba181979f9d"
      },
      "execution_count": 63,
      "outputs": [
        {
          "output_type": "execute_result",
          "data": {
            "text/plain": [
              "DatasetDict({\n",
              "    train: Dataset({\n",
              "        features: ['sentence', 'label', 'input_ids', 'attention_mask'],\n",
              "        num_rows: 226\n",
              "    })\n",
              "    test: Dataset({\n",
              "        features: ['sentence', 'label', 'input_ids', 'attention_mask'],\n",
              "        num_rows: 227\n",
              "    })\n",
              "})"
            ]
          },
          "metadata": {},
          "execution_count": 63
        }
      ]
    },
    {
      "cell_type": "code",
      "source": [
        "test_data, val_data = test_data['test'], test_data['train']\n",
        "test_data, val_data"
      ],
      "metadata": {
        "colab": {
          "base_uri": "https://localhost:8080/"
        },
        "id": "NGc-IcXqoTex",
        "outputId": "6e6c52f4-56a7-43ab-df60-10111287b2f7"
      },
      "execution_count": 64,
      "outputs": [
        {
          "output_type": "execute_result",
          "data": {
            "text/plain": [
              "(Dataset({\n",
              "     features: ['sentence', 'label', 'input_ids', 'attention_mask'],\n",
              "     num_rows: 227\n",
              " }),\n",
              " Dataset({\n",
              "     features: ['sentence', 'label', 'input_ids', 'attention_mask'],\n",
              "     num_rows: 226\n",
              " }))"
            ]
          },
          "metadata": {},
          "execution_count": 64
        }
      ]
    },
    {
      "cell_type": "code",
      "source": [
        "import seaborn as sns\n",
        "import matplotlib.pyplot as plt"
      ],
      "metadata": {
        "id": "ErxXwbsnoaDs"
      },
      "execution_count": 65,
      "outputs": []
    },
    {
      "cell_type": "code",
      "source": [
        "df_train = train_data.to_pandas()\n",
        "df_test = test_data.to_pandas()\n",
        "df_val = val_data.to_pandas()"
      ],
      "metadata": {
        "id": "ZuXnm7jZpUIj"
      },
      "execution_count": 66,
      "outputs": []
    },
    {
      "cell_type": "code",
      "source": [
        "len(val_data)"
      ],
      "metadata": {
        "colab": {
          "base_uri": "https://localhost:8080/"
        },
        "id": "JtX9V-1FZvyb",
        "outputId": "cb655941-5321-4413-fadc-b68cfd96d0c0"
      },
      "execution_count": 67,
      "outputs": [
        {
          "output_type": "execute_result",
          "data": {
            "text/plain": [
              "226"
            ]
          },
          "metadata": {},
          "execution_count": 67
        }
      ]
    },
    {
      "cell_type": "code",
      "source": [
        "df_train.head(10)"
      ],
      "metadata": {
        "colab": {
          "base_uri": "https://localhost:8080/",
          "height": 363
        },
        "id": "uo7SAHMirrMc",
        "outputId": "a95dc2bf-350c-4097-a059-643e2654d039"
      },
      "execution_count": 68,
      "outputs": [
        {
          "output_type": "execute_result",
          "data": {
            "text/plain": [
              "                                            sentence  label  \\\n",
              "0  LEED is an internationally recognized green bu...      1   \n",
              "1  Finnish silicon wafer technology company Okmet...      2   \n",
              "2  The Company turnover amounted to MEUR 27.9 in ...      1   \n",
              "3  The front surfaces of these valve plates are d...      1   \n",
              "4            The value of the contract is EUR 25mn .      1   \n",
              "5  Cash Flow from Operations for the most recent ...      0   \n",
              "6  Mr Jortikka is president of the base metal div...      1   \n",
              "7       Diluted EPS rose to EUR3 .68 from EUR0 .50 .      2   \n",
              "8  Finnish Metso Paper has been awarded a contrac...      2   \n",
              "9  The total value of the contract is some EUR 8 ...      1   \n",
              "\n",
              "                                           input_ids  \\\n",
              "0  [101, 3389, 2094, 2003, 2019, 7587, 3858, 2665...   \n",
              "1  [101, 6983, 13773, 11333, 7512, 2974, 2194, 79...   \n",
              "2  [101, 1996, 2194, 20991, 18779, 2000, 2033, 31...   \n",
              "3  [101, 1996, 2392, 9972, 1997, 2122, 10764, 776...   \n",
              "4  [101, 1996, 3643, 1997, 1996, 3206, 2003, 7327...   \n",
              "5  [101, 5356, 4834, 2013, 3136, 2005, 1996, 2087...   \n",
              "6  [101, 2720, 8183, 28228, 15714, 2003, 2343, 19...   \n",
              "7  [101, 29454, 12926, 20383, 3123, 2000, 7327, 2...   \n",
              "8  [101, 6983, 15253, 2080, 3259, 2038, 2042, 301...   \n",
              "9  [101, 1996, 2561, 3643, 1997, 1996, 3206, 2003...   \n",
              "\n",
              "                                      attention_mask  \n",
              "0  [1, 1, 1, 1, 1, 1, 1, 1, 1, 1, 1, 1, 1, 1, 1, ...  \n",
              "1  [1, 1, 1, 1, 1, 1, 1, 1, 1, 1, 1, 1, 1, 1, 1, ...  \n",
              "2  [1, 1, 1, 1, 1, 1, 1, 1, 1, 1, 1, 1, 1, 1, 1, ...  \n",
              "3  [1, 1, 1, 1, 1, 1, 1, 1, 1, 1, 1, 1, 1, 1, 1, ...  \n",
              "4  [1, 1, 1, 1, 1, 1, 1, 1, 1, 1, 1, 1, 1, 1, 0, ...  \n",
              "5  [1, 1, 1, 1, 1, 1, 1, 1, 1, 1, 1, 1, 1, 1, 1, ...  \n",
              "6  [1, 1, 1, 1, 1, 1, 1, 1, 1, 1, 1, 1, 1, 1, 1, ...  \n",
              "7  [1, 1, 1, 1, 1, 1, 1, 1, 1, 1, 1, 1, 1, 1, 1, ...  \n",
              "8  [1, 1, 1, 1, 1, 1, 1, 1, 1, 1, 1, 1, 1, 1, 1, ...  \n",
              "9  [1, 1, 1, 1, 1, 1, 1, 1, 1, 1, 1, 1, 1, 1, 1, ...  "
            ],
            "text/html": [
              "\n",
              "  <div id=\"df-c85e35ed-64ec-429d-b6d9-6760b2c7cc08\" class=\"colab-df-container\">\n",
              "    <div>\n",
              "<style scoped>\n",
              "    .dataframe tbody tr th:only-of-type {\n",
              "        vertical-align: middle;\n",
              "    }\n",
              "\n",
              "    .dataframe tbody tr th {\n",
              "        vertical-align: top;\n",
              "    }\n",
              "\n",
              "    .dataframe thead th {\n",
              "        text-align: right;\n",
              "    }\n",
              "</style>\n",
              "<table border=\"1\" class=\"dataframe\">\n",
              "  <thead>\n",
              "    <tr style=\"text-align: right;\">\n",
              "      <th></th>\n",
              "      <th>sentence</th>\n",
              "      <th>label</th>\n",
              "      <th>input_ids</th>\n",
              "      <th>attention_mask</th>\n",
              "    </tr>\n",
              "  </thead>\n",
              "  <tbody>\n",
              "    <tr>\n",
              "      <th>0</th>\n",
              "      <td>LEED is an internationally recognized green bu...</td>\n",
              "      <td>1</td>\n",
              "      <td>[101, 3389, 2094, 2003, 2019, 7587, 3858, 2665...</td>\n",
              "      <td>[1, 1, 1, 1, 1, 1, 1, 1, 1, 1, 1, 1, 1, 1, 1, ...</td>\n",
              "    </tr>\n",
              "    <tr>\n",
              "      <th>1</th>\n",
              "      <td>Finnish silicon wafer technology company Okmet...</td>\n",
              "      <td>2</td>\n",
              "      <td>[101, 6983, 13773, 11333, 7512, 2974, 2194, 79...</td>\n",
              "      <td>[1, 1, 1, 1, 1, 1, 1, 1, 1, 1, 1, 1, 1, 1, 1, ...</td>\n",
              "    </tr>\n",
              "    <tr>\n",
              "      <th>2</th>\n",
              "      <td>The Company turnover amounted to MEUR 27.9 in ...</td>\n",
              "      <td>1</td>\n",
              "      <td>[101, 1996, 2194, 20991, 18779, 2000, 2033, 31...</td>\n",
              "      <td>[1, 1, 1, 1, 1, 1, 1, 1, 1, 1, 1, 1, 1, 1, 1, ...</td>\n",
              "    </tr>\n",
              "    <tr>\n",
              "      <th>3</th>\n",
              "      <td>The front surfaces of these valve plates are d...</td>\n",
              "      <td>1</td>\n",
              "      <td>[101, 1996, 2392, 9972, 1997, 2122, 10764, 776...</td>\n",
              "      <td>[1, 1, 1, 1, 1, 1, 1, 1, 1, 1, 1, 1, 1, 1, 1, ...</td>\n",
              "    </tr>\n",
              "    <tr>\n",
              "      <th>4</th>\n",
              "      <td>The value of the contract is EUR 25mn .</td>\n",
              "      <td>1</td>\n",
              "      <td>[101, 1996, 3643, 1997, 1996, 3206, 2003, 7327...</td>\n",
              "      <td>[1, 1, 1, 1, 1, 1, 1, 1, 1, 1, 1, 1, 1, 1, 0, ...</td>\n",
              "    </tr>\n",
              "    <tr>\n",
              "      <th>5</th>\n",
              "      <td>Cash Flow from Operations for the most recent ...</td>\n",
              "      <td>0</td>\n",
              "      <td>[101, 5356, 4834, 2013, 3136, 2005, 1996, 2087...</td>\n",
              "      <td>[1, 1, 1, 1, 1, 1, 1, 1, 1, 1, 1, 1, 1, 1, 1, ...</td>\n",
              "    </tr>\n",
              "    <tr>\n",
              "      <th>6</th>\n",
              "      <td>Mr Jortikka is president of the base metal div...</td>\n",
              "      <td>1</td>\n",
              "      <td>[101, 2720, 8183, 28228, 15714, 2003, 2343, 19...</td>\n",
              "      <td>[1, 1, 1, 1, 1, 1, 1, 1, 1, 1, 1, 1, 1, 1, 1, ...</td>\n",
              "    </tr>\n",
              "    <tr>\n",
              "      <th>7</th>\n",
              "      <td>Diluted EPS rose to EUR3 .68 from EUR0 .50 .</td>\n",
              "      <td>2</td>\n",
              "      <td>[101, 29454, 12926, 20383, 3123, 2000, 7327, 2...</td>\n",
              "      <td>[1, 1, 1, 1, 1, 1, 1, 1, 1, 1, 1, 1, 1, 1, 1, ...</td>\n",
              "    </tr>\n",
              "    <tr>\n",
              "      <th>8</th>\n",
              "      <td>Finnish Metso Paper has been awarded a contrac...</td>\n",
              "      <td>2</td>\n",
              "      <td>[101, 6983, 15253, 2080, 3259, 2038, 2042, 301...</td>\n",
              "      <td>[1, 1, 1, 1, 1, 1, 1, 1, 1, 1, 1, 1, 1, 1, 1, ...</td>\n",
              "    </tr>\n",
              "    <tr>\n",
              "      <th>9</th>\n",
              "      <td>The total value of the contract is some EUR 8 ...</td>\n",
              "      <td>1</td>\n",
              "      <td>[101, 1996, 2561, 3643, 1997, 1996, 3206, 2003...</td>\n",
              "      <td>[1, 1, 1, 1, 1, 1, 1, 1, 1, 1, 1, 1, 1, 1, 1, ...</td>\n",
              "    </tr>\n",
              "  </tbody>\n",
              "</table>\n",
              "</div>\n",
              "    <div class=\"colab-df-buttons\">\n",
              "\n",
              "  <div class=\"colab-df-container\">\n",
              "    <button class=\"colab-df-convert\" onclick=\"convertToInteractive('df-c85e35ed-64ec-429d-b6d9-6760b2c7cc08')\"\n",
              "            title=\"Convert this dataframe to an interactive table.\"\n",
              "            style=\"display:none;\">\n",
              "\n",
              "  <svg xmlns=\"http://www.w3.org/2000/svg\" height=\"24px\" viewBox=\"0 -960 960 960\">\n",
              "    <path d=\"M120-120v-720h720v720H120Zm60-500h600v-160H180v160Zm220 220h160v-160H400v160Zm0 220h160v-160H400v160ZM180-400h160v-160H180v160Zm440 0h160v-160H620v160ZM180-180h160v-160H180v160Zm440 0h160v-160H620v160Z\"/>\n",
              "  </svg>\n",
              "    </button>\n",
              "\n",
              "  <style>\n",
              "    .colab-df-container {\n",
              "      display:flex;\n",
              "      gap: 12px;\n",
              "    }\n",
              "\n",
              "    .colab-df-convert {\n",
              "      background-color: #E8F0FE;\n",
              "      border: none;\n",
              "      border-radius: 50%;\n",
              "      cursor: pointer;\n",
              "      display: none;\n",
              "      fill: #1967D2;\n",
              "      height: 32px;\n",
              "      padding: 0 0 0 0;\n",
              "      width: 32px;\n",
              "    }\n",
              "\n",
              "    .colab-df-convert:hover {\n",
              "      background-color: #E2EBFA;\n",
              "      box-shadow: 0px 1px 2px rgba(60, 64, 67, 0.3), 0px 1px 3px 1px rgba(60, 64, 67, 0.15);\n",
              "      fill: #174EA6;\n",
              "    }\n",
              "\n",
              "    .colab-df-buttons div {\n",
              "      margin-bottom: 4px;\n",
              "    }\n",
              "\n",
              "    [theme=dark] .colab-df-convert {\n",
              "      background-color: #3B4455;\n",
              "      fill: #D2E3FC;\n",
              "    }\n",
              "\n",
              "    [theme=dark] .colab-df-convert:hover {\n",
              "      background-color: #434B5C;\n",
              "      box-shadow: 0px 1px 3px 1px rgba(0, 0, 0, 0.15);\n",
              "      filter: drop-shadow(0px 1px 2px rgba(0, 0, 0, 0.3));\n",
              "      fill: #FFFFFF;\n",
              "    }\n",
              "  </style>\n",
              "\n",
              "    <script>\n",
              "      const buttonEl =\n",
              "        document.querySelector('#df-c85e35ed-64ec-429d-b6d9-6760b2c7cc08 button.colab-df-convert');\n",
              "      buttonEl.style.display =\n",
              "        google.colab.kernel.accessAllowed ? 'block' : 'none';\n",
              "\n",
              "      async function convertToInteractive(key) {\n",
              "        const element = document.querySelector('#df-c85e35ed-64ec-429d-b6d9-6760b2c7cc08');\n",
              "        const dataTable =\n",
              "          await google.colab.kernel.invokeFunction('convertToInteractive',\n",
              "                                                    [key], {});\n",
              "        if (!dataTable) return;\n",
              "\n",
              "        const docLinkHtml = 'Like what you see? Visit the ' +\n",
              "          '<a target=\"_blank\" href=https://colab.research.google.com/notebooks/data_table.ipynb>data table notebook</a>'\n",
              "          + ' to learn more about interactive tables.';\n",
              "        element.innerHTML = '';\n",
              "        dataTable['output_type'] = 'display_data';\n",
              "        await google.colab.output.renderOutput(dataTable, element);\n",
              "        const docLink = document.createElement('div');\n",
              "        docLink.innerHTML = docLinkHtml;\n",
              "        element.appendChild(docLink);\n",
              "      }\n",
              "    </script>\n",
              "  </div>\n",
              "\n",
              "\n",
              "<div id=\"df-0a74fad5-bde4-45fd-92b9-a9a0fab598a1\">\n",
              "  <button class=\"colab-df-quickchart\" onclick=\"quickchart('df-0a74fad5-bde4-45fd-92b9-a9a0fab598a1')\"\n",
              "            title=\"Suggest charts\"\n",
              "            style=\"display:none;\">\n",
              "\n",
              "<svg xmlns=\"http://www.w3.org/2000/svg\" height=\"24px\"viewBox=\"0 0 24 24\"\n",
              "     width=\"24px\">\n",
              "    <g>\n",
              "        <path d=\"M19 3H5c-1.1 0-2 .9-2 2v14c0 1.1.9 2 2 2h14c1.1 0 2-.9 2-2V5c0-1.1-.9-2-2-2zM9 17H7v-7h2v7zm4 0h-2V7h2v10zm4 0h-2v-4h2v4z\"/>\n",
              "    </g>\n",
              "</svg>\n",
              "  </button>\n",
              "\n",
              "<style>\n",
              "  .colab-df-quickchart {\n",
              "      --bg-color: #E8F0FE;\n",
              "      --fill-color: #1967D2;\n",
              "      --hover-bg-color: #E2EBFA;\n",
              "      --hover-fill-color: #174EA6;\n",
              "      --disabled-fill-color: #AAA;\n",
              "      --disabled-bg-color: #DDD;\n",
              "  }\n",
              "\n",
              "  [theme=dark] .colab-df-quickchart {\n",
              "      --bg-color: #3B4455;\n",
              "      --fill-color: #D2E3FC;\n",
              "      --hover-bg-color: #434B5C;\n",
              "      --hover-fill-color: #FFFFFF;\n",
              "      --disabled-bg-color: #3B4455;\n",
              "      --disabled-fill-color: #666;\n",
              "  }\n",
              "\n",
              "  .colab-df-quickchart {\n",
              "    background-color: var(--bg-color);\n",
              "    border: none;\n",
              "    border-radius: 50%;\n",
              "    cursor: pointer;\n",
              "    display: none;\n",
              "    fill: var(--fill-color);\n",
              "    height: 32px;\n",
              "    padding: 0;\n",
              "    width: 32px;\n",
              "  }\n",
              "\n",
              "  .colab-df-quickchart:hover {\n",
              "    background-color: var(--hover-bg-color);\n",
              "    box-shadow: 0 1px 2px rgba(60, 64, 67, 0.3), 0 1px 3px 1px rgba(60, 64, 67, 0.15);\n",
              "    fill: var(--button-hover-fill-color);\n",
              "  }\n",
              "\n",
              "  .colab-df-quickchart-complete:disabled,\n",
              "  .colab-df-quickchart-complete:disabled:hover {\n",
              "    background-color: var(--disabled-bg-color);\n",
              "    fill: var(--disabled-fill-color);\n",
              "    box-shadow: none;\n",
              "  }\n",
              "\n",
              "  .colab-df-spinner {\n",
              "    border: 2px solid var(--fill-color);\n",
              "    border-color: transparent;\n",
              "    border-bottom-color: var(--fill-color);\n",
              "    animation:\n",
              "      spin 1s steps(1) infinite;\n",
              "  }\n",
              "\n",
              "  @keyframes spin {\n",
              "    0% {\n",
              "      border-color: transparent;\n",
              "      border-bottom-color: var(--fill-color);\n",
              "      border-left-color: var(--fill-color);\n",
              "    }\n",
              "    20% {\n",
              "      border-color: transparent;\n",
              "      border-left-color: var(--fill-color);\n",
              "      border-top-color: var(--fill-color);\n",
              "    }\n",
              "    30% {\n",
              "      border-color: transparent;\n",
              "      border-left-color: var(--fill-color);\n",
              "      border-top-color: var(--fill-color);\n",
              "      border-right-color: var(--fill-color);\n",
              "    }\n",
              "    40% {\n",
              "      border-color: transparent;\n",
              "      border-right-color: var(--fill-color);\n",
              "      border-top-color: var(--fill-color);\n",
              "    }\n",
              "    60% {\n",
              "      border-color: transparent;\n",
              "      border-right-color: var(--fill-color);\n",
              "    }\n",
              "    80% {\n",
              "      border-color: transparent;\n",
              "      border-right-color: var(--fill-color);\n",
              "      border-bottom-color: var(--fill-color);\n",
              "    }\n",
              "    90% {\n",
              "      border-color: transparent;\n",
              "      border-bottom-color: var(--fill-color);\n",
              "    }\n",
              "  }\n",
              "</style>\n",
              "\n",
              "  <script>\n",
              "    async function quickchart(key) {\n",
              "      const quickchartButtonEl =\n",
              "        document.querySelector('#' + key + ' button');\n",
              "      quickchartButtonEl.disabled = true;  // To prevent multiple clicks.\n",
              "      quickchartButtonEl.classList.add('colab-df-spinner');\n",
              "      try {\n",
              "        const charts = await google.colab.kernel.invokeFunction(\n",
              "            'suggestCharts', [key], {});\n",
              "      } catch (error) {\n",
              "        console.error('Error during call to suggestCharts:', error);\n",
              "      }\n",
              "      quickchartButtonEl.classList.remove('colab-df-spinner');\n",
              "      quickchartButtonEl.classList.add('colab-df-quickchart-complete');\n",
              "    }\n",
              "    (() => {\n",
              "      let quickchartButtonEl =\n",
              "        document.querySelector('#df-0a74fad5-bde4-45fd-92b9-a9a0fab598a1 button');\n",
              "      quickchartButtonEl.style.display =\n",
              "        google.colab.kernel.accessAllowed ? 'block' : 'none';\n",
              "    })();\n",
              "  </script>\n",
              "</div>\n",
              "\n",
              "    </div>\n",
              "  </div>\n"
            ],
            "application/vnd.google.colaboratory.intrinsic+json": {
              "type": "dataframe",
              "variable_name": "df_train",
              "summary": "{\n  \"name\": \"df_train\",\n  \"rows\": 1811,\n  \"fields\": [\n    {\n      \"column\": \"sentence\",\n      \"properties\": {\n        \"dtype\": \"string\",\n        \"num_unique_values\": 1809,\n        \"samples\": [\n          \"The acquisition was financed with $ 2.56 billion of debt arranged by Goldman , Sachs & Co. .\",\n          \"The value of the order is nearly EUR400m .\",\n          \"As a part of the agreement 10 employees from the John Deere Forestry documentation functions will transfer to DokuMentori Oy .\"\n        ],\n        \"semantic_type\": \"\",\n        \"description\": \"\"\n      }\n    },\n    {\n      \"column\": \"label\",\n      \"properties\": {\n        \"dtype\": \"number\",\n        \"std\": 0,\n        \"min\": 0,\n        \"max\": 2,\n        \"num_unique_values\": 3,\n        \"samples\": [\n          1,\n          2,\n          0\n        ],\n        \"semantic_type\": \"\",\n        \"description\": \"\"\n      }\n    },\n    {\n      \"column\": \"input_ids\",\n      \"properties\": {\n        \"dtype\": \"object\",\n        \"semantic_type\": \"\",\n        \"description\": \"\"\n      }\n    },\n    {\n      \"column\": \"attention_mask\",\n      \"properties\": {\n        \"dtype\": \"object\",\n        \"semantic_type\": \"\",\n        \"description\": \"\"\n      }\n    }\n  ]\n}"
            }
          },
          "metadata": {},
          "execution_count": 68
        }
      ]
    },
    {
      "cell_type": "code",
      "source": [
        "df_train['type'] = 'train'\n",
        "df_test['type'] = 'test'\n",
        "df_val['type'] = 'val'"
      ],
      "metadata": {
        "id": "JPNf2MWnrr2G"
      },
      "execution_count": 69,
      "outputs": []
    },
    {
      "cell_type": "code",
      "source": [
        "df_merged = pd.concat([df_train, df_test, df_val])"
      ],
      "metadata": {
        "id": "VkwrkUUFr_do"
      },
      "execution_count": 70,
      "outputs": []
    },
    {
      "cell_type": "code",
      "source": [
        "df_merged.columns"
      ],
      "metadata": {
        "colab": {
          "base_uri": "https://localhost:8080/"
        },
        "id": "0BszD68mself",
        "outputId": "b5913ef7-e139-4801-e3bb-c82cea44e03c"
      },
      "execution_count": 71,
      "outputs": [
        {
          "output_type": "execute_result",
          "data": {
            "text/plain": [
              "Index(['sentence', 'label', 'input_ids', 'attention_mask', 'type'], dtype='object')"
            ]
          },
          "metadata": {},
          "execution_count": 71
        }
      ]
    },
    {
      "cell_type": "code",
      "source": [
        "sns.countplot(data=df_merged, x='type', hue='label', palette='Set2')\n",
        "plt.title(\"Data Distribution\")\n",
        "plt.xticks(rotation=45)\n",
        "plt.show()"
      ],
      "metadata": {
        "colab": {
          "base_uri": "https://localhost:8080/",
          "height": 491
        },
        "id": "BRddMbYxsfX1",
        "outputId": "eb2aa55e-3519-471d-9914-074b65977033"
      },
      "execution_count": 72,
      "outputs": [
        {
          "output_type": "display_data",
          "data": {
            "text/plain": [
              "<Figure size 640x480 with 1 Axes>"
            ],
            "image/png": "[encoded data removed]"
          },
          "metadata": {}
        }
      ]
    },
    {
      "cell_type": "code",
      "source": [
        "model_full = TFAutoModelForSequenceClassification.from_pretrained(checkpoint,\n",
        "                                                                  num_labels=3)"
      ],
      "metadata": {
        "colab": {
          "base_uri": "https://localhost:8080/"
        },
        "id": "Bk6CVfMKtDff",
        "outputId": "e878daa0-83a1-41d5-db34-3a71afeee450"
      },
      "execution_count": 73,
      "outputs": [
        {
          "output_type": "stream",
          "name": "stderr",
          "text": [
            "Some weights of the PyTorch model were not used when initializing the TF 2.0 model TFDistilBertForSequenceClassification: ['vocab_transform.bias', 'vocab_projector.bias', 'vocab_layer_norm.weight', 'vocab_transform.weight', 'vocab_layer_norm.bias']\n",
            "- This IS expected if you are initializing TFDistilBertForSequenceClassification from a PyTorch model trained on another task or with another architecture (e.g. initializing a TFBertForSequenceClassification model from a BertForPreTraining model).\n",
            "- This IS NOT expected if you are initializing TFDistilBertForSequenceClassification from a PyTorch model that you expect to be exactly identical (e.g. initializing a TFBertForSequenceClassification model from a BertForSequenceClassification model).\n",
            "Some weights or buffers of the TF 2.0 model TFDistilBertForSequenceClassification were not initialized from the PyTorch model and are newly initialized: ['pre_classifier.weight', 'pre_classifier.bias', 'classifier.weight', 'classifier.bias']\n",
            "You should probably TRAIN this model on a down-stream task to be able to use it for predictions and inference.\n"
          ]
        }
      ]
    },
    {
      "cell_type": "code",
      "source": [
        "import tensorflow as tf\n",
        "from transformers import DataCollatorWithPadding"
      ],
      "metadata": {
        "id": "JJxyC7RI3QW8"
      },
      "execution_count": 74,
      "outputs": []
    },
    {
      "cell_type": "markdown",
      "source": [
        "## **Function: `to_tf_data`**\n",
        "The function **`to_tf_data(data)`** converts a dataset into a **TensorFlow-compatible format** (`tf.data.Dataset`).  \n",
        "This is useful for training transformer models efficiently in **TensorFlow/Keras**.\n",
        "\n",
        "---\n",
        "\n",
        "### **1. Function Breakdown**\n",
        "The function takes `data` (a dataset) and calls `.to_tf_dataset()`, specifying:\n",
        "- **`columns=[\"input_ids\", \"attention_mask\"]`** → Selects model input features.\n",
        "- **`label_cols=['label']`** → Specifies the label column for supervised learning.\n",
        "- **`shuffle=True`** → Randomizes the dataset for better training performance.\n",
        "- **`batch_size=8`** → Processes **8 samples per batch** for efficient training.\n",
        "- **`collate_fn=DataCollatorWithPadding(...)`** → Ensures all sequences in a batch have the **same length** by applying **dynamic padding**.\n",
        "\n",
        "---\n",
        "\n",
        "### **2. What is `DataCollatorWithPadding`?**\n",
        "Since input sentences have **varying lengths**, this function:\n",
        "- **Dynamically pads** sequences in each batch to the longest sequence in that batch.\n",
        "- **Avoids excessive padding**, improving efficiency.\n",
        "- **Maintains `input_ids` and `attention_mask` alignment**.\n",
        "\n",
        "Mathematically, given sequences of different lengths:\n",
        "\n",
        "$$\n",
        "\\text{Batch} =\n",
        "\\begin{bmatrix}\n",
        "[101, 7592, 2088, 102] \\\\\n",
        "[101, 2023, 2003, 1037, 2742, 102] \\\\\n",
        "[101, 2129, 2024, 2017, 102]\n",
        "\\end{bmatrix}\n",
        "$$\n",
        "\n",
        "The **collator pads them dynamically**:\n",
        "\n",
        "$$\n",
        "\\text{Padded Batch} =\n",
        "\\begin{bmatrix}\n",
        "[101, 7592, 2088, 102, 0, 0] \\\\\n",
        "[101, 2023, 2003, 1037, 2742, 102] \\\\\n",
        "[101, 2129, 2024, 2017, 102, 0]\n",
        "\\end{bmatrix}\n",
        "$$\n",
        "\n",
        "Here:\n",
        "- `0` represents the `[PAD]` token.\n",
        "- The **attention mask** ensures only non-padding tokens are processed.\n",
        "\n",
        "---\n",
        "\n",
        "### **3. Why Convert to `tf.data.Dataset`?**\n",
        "TensorFlow’s `tf.data.Dataset` provides:\n",
        "- **Optimized pipeline** for batching, shuffling, and prefetching.\n",
        "- **Improved memory efficiency** compared to NumPy/Pandas.\n",
        "- **Compatibility with Keras models** (`model.fit()` can use it directly).\n",
        "\n",
        "**Final Usage Example in Training:**\n",
        "```python\n",
        "tf_dataset = to_tf_data(dataset)\n",
        "model.fit(tf_dataset, epochs=3)\n"
      ],
      "metadata": {
        "id": "zP9kDu5xeeu5"
      }
    },
    {
      "cell_type": "code",
      "source": [
        "def to_tf_data(data):\n",
        "  return data.to_tf_dataset(\n",
        "      columns=[\"input_ids\", \"attention_mask\"],\n",
        "      label_cols=['label'],\n",
        "      shuffle=True,\n",
        "      batch_size=8,\n",
        "      collate_fn=DataCollatorWithPadding(tokenizer=tokenizer, return_tensors=\"tf\")\n",
        "  )"
      ],
      "metadata": {
        "id": "195WOfca5PAE"
      },
      "execution_count": 75,
      "outputs": []
    },
    {
      "cell_type": "code",
      "source": [
        "len(train_data)"
      ],
      "metadata": {
        "id": "T5MzuJg6fJTJ",
        "outputId": "e869a079-9e87-4bb4-ceed-c31d88660003",
        "colab": {
          "base_uri": "https://localhost:8080/"
        }
      },
      "execution_count": 76,
      "outputs": [
        {
          "output_type": "execute_result",
          "data": {
            "text/plain": [
              "1811"
            ]
          },
          "metadata": {},
          "execution_count": 76
        }
      ]
    },
    {
      "cell_type": "code",
      "source": [
        "train_data = to_tf_data(train_data)"
      ],
      "metadata": {
        "colab": {
          "base_uri": "https://localhost:8080/"
        },
        "id": "HR2EdEfO8HjZ",
        "outputId": "eee5b28c-f95c-4fd2-835c-80ff7ab09e3c"
      },
      "execution_count": 77,
      "outputs": [
        {
          "output_type": "stream",
          "name": "stderr",
          "text": [
            "/usr/local/lib/python3.11/dist-packages/datasets/arrow_dataset.py:405: FutureWarning: The output of `to_tf_dataset` will change when a passing single element list for `labels` or `columns` in the next datasets version. To return a tuple structure rather than dict, pass a single string.\n",
            "Old behaviour: columns=['a'], labels=['labels'] -> (tf.Tensor, tf.Tensor)  \n",
            "             : columns='a', labels='labels' -> (tf.Tensor, tf.Tensor)  \n",
            "New behaviour: columns=['a'],labels=['labels'] -> ({'a': tf.Tensor}, {'labels': tf.Tensor})  \n",
            "             : columns='a', labels='labels' -> (tf.Tensor, tf.Tensor) \n",
            "  warnings.warn(\n"
          ]
        }
      ]
    },
    {
      "cell_type": "code",
      "source": [
        " #Due to batching now the training data has 227 bactes with each\n",
        " # batch containing 8 dataset\n",
        "len(train_data)"
      ],
      "metadata": {
        "id": "irZ_Gm-4eoof",
        "outputId": "de91911b-9209-48cd-a8d4-cf8c1164547e",
        "colab": {
          "base_uri": "https://localhost:8080/"
        }
      },
      "execution_count": 80,
      "outputs": [
        {
          "output_type": "execute_result",
          "data": {
            "text/plain": [
              "227"
            ]
          },
          "metadata": {},
          "execution_count": 80
        }
      ]
    },
    {
      "cell_type": "code",
      "source": [
        "#Converting validation data to tensor\n",
        "val_data = to_tf_data(val_data)"
      ],
      "metadata": {
        "id": "Mkgv0BRA8LVm"
      },
      "execution_count": 81,
      "outputs": []
    },
    {
      "cell_type": "markdown",
      "source": [
        "## **Training Transformer Model in TensorFlow**\n",
        "\n",
        "After preprocessing and converting data to `tf.data.Dataset`, we proceed with training the model. Below are the key steps:\n",
        "\n",
        "---\n",
        "\n",
        "### **1. Defining the Number of Training Steps**\n",
        "The total number of training steps is determined as:\n",
        "\n",
        "$$\n",
        "\\text{Total Steps} = \\frac{\\text{Dataset Size}}{\\text{Batch Size}} \\times \\text{Epochs}\n",
        "$$\n",
        "\n",
        "For example, if:\n",
        "- Dataset size = **1811**\n",
        "- Batch size = **8**\n",
        "- Epochs = **3**\n",
        "\n",
        "Then:\n",
        "$$\n",
        "\\text{Total Steps} = \\frac{1811}{8} \\times 3 = 678\n",
        "$$\n",
        "\n",
        "## **Training Transformer Models with Polynomial Decay in TensorFlow**\n",
        "\n",
        "---\n",
        "\n",
        "### **1. Learning Rate Scheduling with Polynomial Decay**\n",
        "\n",
        "Polynomial decay **reduces the learning rate over time** to stabilize training. The learning rate at step \\( t \\) is given by:\n",
        "\n",
        "$$\n",
        "LR_t = LR_{\\text{init}} \\times \\left(1 - \\frac{t}{T}\\right)^p\n",
        "$$\n",
        "\n",
        "\n"
      ],
      "metadata": {
        "id": "vPTu49fSiMPk"
      }
    },
    {
      "cell_type": "code",
      "source": [
        "num_train_steps = len(train_data)*3\n",
        "lr_schedules = tf.keras.optimizers.schedules.PolynomialDecay(\n",
        "    initial_learning_rate=5e-5,\n",
        "    decay_steps=num_train_steps,\n",
        "    end_learning_rate=0.0\n",
        ")\n",
        "optimizer = tf.keras.optimizers.Adam(learning_rate=lr_schedules)"
      ],
      "metadata": {
        "id": "R7P8QmdiDWQ3"
      },
      "execution_count": 82,
      "outputs": []
    },
    {
      "cell_type": "code",
      "source": [
        "model_full.compile(optimizer=optimizer,\n",
        "                   loss=tf.keras.losses.SparseCategoricalCrossentropy(from_logits=True),\n",
        "                   metrics=['accuracy'])"
      ],
      "metadata": {
        "id": "F_bvGhINDwFg"
      },
      "execution_count": 83,
      "outputs": []
    },
    {
      "cell_type": "code",
      "source": [
        "model_full.summary()"
      ],
      "metadata": {
        "colab": {
          "base_uri": "https://localhost:8080/"
        },
        "id": "uB2UThsJDzz7",
        "outputId": "f326cac0-d095-4ea9-d54d-ac2f0c33766f"
      },
      "execution_count": 84,
      "outputs": [
        {
          "output_type": "stream",
          "name": "stdout",
          "text": [
            "Model: \"tf_distil_bert_for_sequence_classification_1\"\n",
            "_________________________________________________________________\n",
            " Layer (type)                Output Shape              Param #   \n",
            "=================================================================\n",
            " distilbert (TFDistilBertMa  multiple                  66362880  \n",
            " inLayer)                                                        \n",
            "                                                                 \n",
            " pre_classifier (Dense)      multiple                  590592    \n",
            "                                                                 \n",
            " classifier (Dense)          multiple                  2307      \n",
            "                                                                 \n",
            " dropout_39 (Dropout)        multiple                  0 (unused)\n",
            "                                                                 \n",
            "=================================================================\n",
            "Total params: 66955779 (255.42 MB)\n",
            "Trainable params: 66955779 (255.42 MB)\n",
            "Non-trainable params: 0 (0.00 Byte)\n",
            "_________________________________________________________________\n"
          ]
        }
      ]
    },
    {
      "cell_type": "code",
      "source": [
        "model_full.fit(train_data,\n",
        "         epochs=10,\n",
        "         validation_data=val_data)"
      ],
      "metadata": {
        "colab": {
          "base_uri": "https://localhost:8080/"
        },
        "id": "E5FMbC1eENc5",
        "outputId": "de253d94-e806-4f5d-9779-326104cfe8f1"
      },
      "execution_count": 85,
      "outputs": [
        {
          "output_type": "stream",
          "name": "stdout",
          "text": [
            "Epoch 1/10\n",
            "227/227 [==============================] - 134s 488ms/step - loss: 0.3149 - accuracy: 0.8857 - val_loss: 0.1274 - val_accuracy: 0.9469\n",
            "Epoch 2/10\n",
            "227/227 [==============================] - 109s 480ms/step - loss: 0.0562 - accuracy: 0.9834 - val_loss: 0.1227 - val_accuracy: 0.9646\n",
            "Epoch 3/10\n",
            "227/227 [==============================] - 109s 481ms/step - loss: 0.0338 - accuracy: 0.9906 - val_loss: 0.0919 - val_accuracy: 0.9690\n",
            "Epoch 4/10\n",
            "227/227 [==============================] - 109s 480ms/step - loss: 0.0178 - accuracy: 0.9961 - val_loss: 0.0919 - val_accuracy: 0.9690\n",
            "Epoch 5/10\n",
            "227/227 [==============================] - 110s 483ms/step - loss: 0.0169 - accuracy: 0.9961 - val_loss: 0.0919 - val_accuracy: 0.9690\n",
            "Epoch 6/10\n",
            "227/227 [==============================] - 109s 481ms/step - loss: 0.0196 - accuracy: 0.9956 - val_loss: 0.0919 - val_accuracy: 0.9690\n",
            "Epoch 7/10\n",
            "227/227 [==============================] - 110s 483ms/step - loss: 0.0180 - accuracy: 0.9967 - val_loss: 0.0919 - val_accuracy: 0.9690\n",
            "Epoch 8/10\n",
            "227/227 [==============================] - 109s 482ms/step - loss: 0.0176 - accuracy: 0.9956 - val_loss: 0.0919 - val_accuracy: 0.9690\n",
            "Epoch 9/10\n",
            "227/227 [==============================] - 110s 484ms/step - loss: 0.0181 - accuracy: 0.9956 - val_loss: 0.0919 - val_accuracy: 0.9690\n",
            "Epoch 10/10\n",
            "227/227 [==============================] - 110s 484ms/step - loss: 0.0170 - accuracy: 0.9961 - val_loss: 0.0919 - val_accuracy: 0.9690\n"
          ]
        },
        {
          "output_type": "execute_result",
          "data": {
            "text/plain": [
              "<tf_keras.src.callbacks.History at 0x7ef2fc3b0850>"
            ]
          },
          "metadata": {},
          "execution_count": 85
        }
      ]
    },
    {
      "cell_type": "markdown",
      "source": [
        "## **Using LoRA for Efficient Transformer Training**\n",
        "\n",
        "LoRA (**Low-Rank Adaptation**) is an advanced fine-tuning technique that **reduces memory usage and accelerates training** by modifying only a small number of parameters in pre-trained models.\n",
        "\n",
        "---\n",
        "\n",
        "### **1. Loading a Pre-Trained Transformer Model**\n",
        "We begin by loading a **pre-trained Transformer** for sequence classification:"
      ],
      "metadata": {
        "id": "QFKSoQvDjK92"
      }
    },
    {
      "cell_type": "code",
      "source": [
        "from transformers import AutoModelForSequenceClassification\n",
        "#training using LoRA\n",
        "model_lora = AutoModelForSequenceClassification.from_pretrained(checkpoint,\n",
        "                                                                num_labels=3)\n",
        "# model_lora.load_weights(\"/content/drive/My Drive/classifier_head_weights.h5\", by_name=True)"
      ],
      "metadata": {
        "colab": {
          "base_uri": "https://localhost:8080/"
        },
        "id": "hs4oShi0FSYB",
        "outputId": "93168254-8025-4d9b-cf8b-0c35691c8b3a"
      },
      "execution_count": 142,
      "outputs": [
        {
          "output_type": "stream",
          "name": "stderr",
          "text": [
            "Some weights of DistilBertForSequenceClassification were not initialized from the model checkpoint at distilbert-base-uncased and are newly initialized: ['classifier.bias', 'classifier.weight', 'pre_classifier.bias', 'pre_classifier.weight']\n",
            "You should probably TRAIN this model on a down-stream task to be able to use it for predictions and inference.\n"
          ]
        }
      ]
    },
    {
      "cell_type": "code",
      "source": [
        "from peft import LoraConfig,  get_peft_model"
      ],
      "metadata": {
        "id": "YUpiRacJ23Ja"
      },
      "execution_count": 143,
      "outputs": []
    },
    {
      "cell_type": "markdown",
      "source": [
        "## **Configuring LoRA for Efficient Fine-Tuning**\n",
        "\n",
        "LoRA (**Low-Rank Adaptation**) fine-tunes only **small low-rank matrices** in specific layers instead of updating all model parameters. Below, we define a **LoRA configuration** using `LoraConfig`:\n"
      ],
      "metadata": {
        "id": "3ask-PCVj2Yf"
      }
    },
    {
      "cell_type": "markdown",
      "source": [
        "![image.png](data:image/png;base64,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)"
      ],
      "metadata": {
        "id": "kWTuR9gJmpVz"
      }
    },
    {
      "cell_type": "markdown",
      "source": [
        "![image.png](data:image/png;base64,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)"
      ],
      "metadata": {
        "id": "LYq8XAzCmw1f"
      }
    },
    {
      "cell_type": "markdown",
      "source": [
        "![image.png](data:image/png;base64,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)"
      ],
      "metadata": {
        "id": "vlHH2Gxzm32d"
      }
    },
    {
      "cell_type": "markdown",
      "source": [
        "![image.png](data:image/png;base64,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)"
      ],
      "metadata": {
        "id": "ZwvepEfcm8TW"
      }
    },
    {
      "cell_type": "markdown",
      "source": [
        "![image.png](data:image/png;base64,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)"
      ],
      "metadata": {
        "id": "LQzMT2R3nDcX"
      }
    },
    {
      "cell_type": "code",
      "source": [
        "lora_config = LoraConfig(\n",
        "    r=8,\n",
        "    lora_alpha=32,\n",
        "    target_modules=[\"q_lin\", \"v_lin\"],\n",
        "    lora_dropout=0.05,\n",
        "    bias=\"none\",\n",
        "    task_type=\"SEQ_CLS\"\n",
        ")"
      ],
      "metadata": {
        "id": "FQRLxhRY3GiF"
      },
      "execution_count": 144,
      "outputs": []
    },
    {
      "cell_type": "code",
      "source": [
        "# Apply LoRA\n",
        "model_lora = get_peft_model(model_lora, lora_config)\n",
        "\n",
        "# Print trainable parameters\n",
        "model_lora.print_trainable_parameters() #number of training parameters is only\n",
        "# 7 lakh\n"
      ],
      "metadata": {
        "colab": {
          "base_uri": "https://localhost:8080/"
        },
        "id": "bU7NwDYT3aZ7",
        "outputId": "c9a7875f-0dbe-4030-f030-bdcea7ca0bad"
      },
      "execution_count": 145,
      "outputs": [
        {
          "output_type": "stream",
          "name": "stdout",
          "text": [
            "trainable params: 740,355 || all params: 67,696,134 || trainable%: 1.0936\n"
          ]
        }
      ]
    },
    {
      "cell_type": "code",
      "source": [
        "data"
      ],
      "metadata": {
        "colab": {
          "base_uri": "https://localhost:8080/"
        },
        "id": "GDbcAsmIYzaC",
        "outputId": "64493e9a-6693-4851-d302-8d1a141d79b2"
      },
      "execution_count": 146,
      "outputs": [
        {
          "output_type": "execute_result",
          "data": {
            "text/plain": [
              "DatasetDict({\n",
              "    train: Dataset({\n",
              "        features: ['sentence', 'label'],\n",
              "        num_rows: 2264\n",
              "    })\n",
              "})"
            ]
          },
          "metadata": {},
          "execution_count": 146
        }
      ]
    },
    {
      "cell_type": "code",
      "source": [
        "def tokenize_function(data):\n",
        "  return tokenizer(\n",
        "      data['sentence'],\n",
        "      truncation=True,\n",
        "      padding='max_length',\n",
        "      max_length=512\n",
        "  )\n",
        "torch_tokenized_data = data['train'].map(tokenize_function, batched=True)\n",
        "torch_tokenized_data"
      ],
      "metadata": {
        "colab": {
          "base_uri": "https://localhost:8080/"
        },
        "id": "TKC-hqQJ8sst",
        "outputId": "6a7f818a-0d60-416f-c691-a9128ed5db8c"
      },
      "execution_count": 147,
      "outputs": [
        {
          "output_type": "execute_result",
          "data": {
            "text/plain": [
              "Dataset({\n",
              "    features: ['sentence', 'label', 'input_ids', 'attention_mask'],\n",
              "    num_rows: 2264\n",
              "})"
            ]
          },
          "metadata": {},
          "execution_count": 147
        }
      ]
    },
    {
      "cell_type": "code",
      "source": [
        "import torch\n",
        "torch_tokenized_data.set_format('torch')"
      ],
      "metadata": {
        "id": "Vjzs-VGU3fc_"
      },
      "execution_count": 148,
      "outputs": []
    },
    {
      "cell_type": "code",
      "source": [
        "from transformers import TrainingArguments\n",
        "\n",
        "training_args = TrainingArguments(\n",
        "    output_dir=\"./lora_finetuned\",\n",
        "    evaluation_strategy=\"epoch\",\n",
        "    save_strategy=\"epoch\",\n",
        "    learning_rate=5e-5,\n",
        "    per_device_train_batch_size=16,\n",
        "    per_device_eval_batch_size=16,\n",
        "    num_train_epochs=10,\n",
        "    weight_decay=0.01,\n",
        "    logging_steps=10,\n",
        "    report_to=\"none\",\n",
        "    logging_dir=\"./logs\"\n",
        ")\n"
      ],
      "metadata": {
        "colab": {
          "base_uri": "https://localhost:8080/"
        },
        "id": "mhgwhxKh8MzK",
        "outputId": "799f6123-b92b-4cf3-88b7-2d01cfdc6258"
      },
      "execution_count": 149,
      "outputs": [
        {
          "output_type": "stream",
          "name": "stderr",
          "text": [
            "/usr/local/lib/python3.11/dist-packages/transformers/training_args.py:1575: FutureWarning: `evaluation_strategy` is deprecated and will be removed in version 4.46 of 🤗 Transformers. Use `eval_strategy` instead\n",
            "  warnings.warn(\n"
          ]
        }
      ]
    },
    {
      "cell_type": "code",
      "source": [
        "torch_tokenized_data"
      ],
      "metadata": {
        "colab": {
          "base_uri": "https://localhost:8080/"
        },
        "id": "Xd4GaYNDZU_g",
        "outputId": "b905f030-e78f-4352-9204-a38ae337a5f6"
      },
      "execution_count": 150,
      "outputs": [
        {
          "output_type": "execute_result",
          "data": {
            "text/plain": [
              "Dataset({\n",
              "    features: ['sentence', 'label', 'input_ids', 'attention_mask'],\n",
              "    num_rows: 2264\n",
              "})"
            ]
          },
          "metadata": {},
          "execution_count": 150
        }
      ]
    },
    {
      "cell_type": "code",
      "source": [
        "torch_train = torch_tokenized_data.train_test_split(test_size=0.2)\n",
        "torch_train"
      ],
      "metadata": {
        "colab": {
          "base_uri": "https://localhost:8080/"
        },
        "id": "NXC1seZt9Em5",
        "outputId": "0a0711f1-f34f-43b6-eaba-bd809d5b03e6"
      },
      "execution_count": 151,
      "outputs": [
        {
          "output_type": "execute_result",
          "data": {
            "text/plain": [
              "DatasetDict({\n",
              "    train: Dataset({\n",
              "        features: ['sentence', 'label', 'input_ids', 'attention_mask'],\n",
              "        num_rows: 1811\n",
              "    })\n",
              "    test: Dataset({\n",
              "        features: ['sentence', 'label', 'input_ids', 'attention_mask'],\n",
              "        num_rows: 453\n",
              "    })\n",
              "})"
            ]
          },
          "metadata": {},
          "execution_count": 151
        }
      ]
    },
    {
      "cell_type": "code",
      "source": [
        "torch_train, torch_test = torch_train['train'], torch_train['test']\n",
        "torch_test = torch_test.train_test_split(test_size=0.5)\n",
        "torch_test"
      ],
      "metadata": {
        "colab": {
          "base_uri": "https://localhost:8080/"
        },
        "id": "X3fdtOh19sGe",
        "outputId": "6d42e267-5322-40b8-fdf4-1225d11887f5"
      },
      "execution_count": 152,
      "outputs": [
        {
          "output_type": "execute_result",
          "data": {
            "text/plain": [
              "DatasetDict({\n",
              "    train: Dataset({\n",
              "        features: ['sentence', 'label', 'input_ids', 'attention_mask'],\n",
              "        num_rows: 226\n",
              "    })\n",
              "    test: Dataset({\n",
              "        features: ['sentence', 'label', 'input_ids', 'attention_mask'],\n",
              "        num_rows: 227\n",
              "    })\n",
              "})"
            ]
          },
          "metadata": {},
          "execution_count": 152
        }
      ]
    },
    {
      "cell_type": "code",
      "source": [
        "torch_test, torch_eval = torch_test['test'], torch_test['train']"
      ],
      "metadata": {
        "id": "CrtMJ5VB91BF"
      },
      "execution_count": 153,
      "outputs": []
    },
    {
      "cell_type": "code",
      "source": [
        "from transformers import Trainer, DataCollatorWithPadding\n",
        "trainer = Trainer(\n",
        "    model=model_lora,\n",
        "    args=training_args,\n",
        "    train_dataset=torch_train,\n",
        "    eval_dataset=torch_eval,\n",
        "    tokenizer=tokenizer,\n",
        "    data_collator=DataCollatorWithPadding(tokenizer)\n",
        ")"
      ],
      "metadata": {
        "colab": {
          "base_uri": "https://localhost:8080/"
        },
        "id": "Fgwji-Wu-Qfp",
        "outputId": "9a885c95-b8b7-4196-b41a-3b8977760925"
      },
      "execution_count": 154,
      "outputs": [
        {
          "output_type": "stream",
          "name": "stderr",
          "text": [
            "<ipython-input-154-120f9dc0b86e>:2: FutureWarning: `tokenizer` is deprecated and will be removed in version 5.0.0 for `Trainer.__init__`. Use `processing_class` instead.\n",
            "  trainer = Trainer(\n"
          ]
        }
      ]
    },
    {
      "cell_type": "code",
      "source": [
        "trainer.train()"
      ],
      "metadata": {
        "colab": {
          "base_uri": "https://localhost:8080/",
          "height": 425
        },
        "id": "3J3AFT8A-21j",
        "outputId": "f0094339-5abf-4417-f874-ef1771be0ec5"
      },
      "execution_count": 155,
      "outputs": [
        {
          "output_type": "display_data",
          "data": {
            "text/plain": [
              "<IPython.core.display.HTML object>"
            ],
            "text/html": [
              "\n",
              "    <div>\n",
              "      \n",
              "      <progress value='1140' max='1140' style='width:300px; height:20px; vertical-align: middle;'></progress>\n",
              "      [1140/1140 11:44, Epoch 10/10]\n",
              "    </div>\n",
              "    <table border=\"1\" class=\"dataframe\">\n",
              "  <thead>\n",
              " <tr style=\"text-align: left;\">\n",
              "      <th>Epoch</th>\n",
              "      <th>Training Loss</th>\n",
              "      <th>Validation Loss</th>\n",
              "    </tr>\n",
              "  </thead>\n",
              "  <tbody>\n",
              "    <tr>\n",
              "      <td>1</td>\n",
              "      <td>0.547400</td>\n",
              "      <td>0.539941</td>\n",
              "    </tr>\n",
              "    <tr>\n",
              "      <td>2</td>\n",
              "      <td>0.328200</td>\n",
              "      <td>0.321511</td>\n",
              "    </tr>\n",
              "    <tr>\n",
              "      <td>3</td>\n",
              "      <td>0.260300</td>\n",
              "      <td>0.242964</td>\n",
              "    </tr>\n",
              "    <tr>\n",
              "      <td>4</td>\n",
              "      <td>0.250700</td>\n",
              "      <td>0.194561</td>\n",
              "    </tr>\n",
              "    <tr>\n",
              "      <td>5</td>\n",
              "      <td>0.156300</td>\n",
              "      <td>0.182013</td>\n",
              "    </tr>\n",
              "    <tr>\n",
              "      <td>6</td>\n",
              "      <td>0.114600</td>\n",
              "      <td>0.175507</td>\n",
              "    </tr>\n",
              "    <tr>\n",
              "      <td>7</td>\n",
              "      <td>0.119700</td>\n",
              "      <td>0.173368</td>\n",
              "    </tr>\n",
              "    <tr>\n",
              "      <td>8</td>\n",
              "      <td>0.151700</td>\n",
              "      <td>0.174257</td>\n",
              "    </tr>\n",
              "    <tr>\n",
              "      <td>9</td>\n",
              "      <td>0.079600</td>\n",
              "      <td>0.172372</td>\n",
              "    </tr>\n",
              "    <tr>\n",
              "      <td>10</td>\n",
              "      <td>0.106600</td>\n",
              "      <td>0.168701</td>\n",
              "    </tr>\n",
              "  </tbody>\n",
              "</table><p>"
            ]
          },
          "metadata": {}
        },
        {
          "output_type": "execute_result",
          "data": {
            "text/plain": [
              "TrainOutput(global_step=1140, training_loss=0.2461357103105177, metrics={'train_runtime': 705.6571, 'train_samples_per_second': 25.664, 'train_steps_per_second': 1.616, 'total_flos': 2440216222986240.0, 'train_loss': 0.2461357103105177, 'epoch': 10.0})"
            ]
          },
          "metadata": {},
          "execution_count": 155
        }
      ]
    },
    {
      "cell_type": "code",
      "source": [
        "len(torch_test), len(test_data)"
      ],
      "metadata": {
        "colab": {
          "base_uri": "https://localhost:8080/"
        },
        "id": "ImRrVt_SAESx",
        "outputId": "56da78e0-a521-4d92-db63-82b870ade35d"
      },
      "execution_count": 156,
      "outputs": [
        {
          "output_type": "execute_result",
          "data": {
            "text/plain": [
              "(227, 227)"
            ]
          },
          "metadata": {},
          "execution_count": 156
        }
      ]
    },
    {
      "cell_type": "code",
      "source": [
        "model_lora.eval()"
      ],
      "metadata": {
        "colab": {
          "base_uri": "https://localhost:8080/"
        },
        "collapsed": true,
        "id": "KPg1qw2HAvo-",
        "outputId": "77f748e9-c104-49f5-da62-7d1d77304d2a"
      },
      "execution_count": 157,
      "outputs": [
        {
          "output_type": "execute_result",
          "data": {
            "text/plain": [
              "PeftModelForSequenceClassification(\n",
              "  (base_model): LoraModel(\n",
              "    (model): DistilBertForSequenceClassification(\n",
              "      (distilbert): DistilBertModel(\n",
              "        (embeddings): Embeddings(\n",
              "          (word_embeddings): Embedding(30522, 768, padding_idx=0)\n",
              "          (position_embeddings): Embedding(512, 768)\n",
              "          (LayerNorm): LayerNorm((768,), eps=1e-12, elementwise_affine=True)\n",
              "          (dropout): Dropout(p=0.1, inplace=False)\n",
              "        )\n",
              "        (transformer): Transformer(\n",
              "          (layer): ModuleList(\n",
              "            (0-5): 6 x TransformerBlock(\n",
              "              (attention): DistilBertSdpaAttention(\n",
              "                (dropout): Dropout(p=0.1, inplace=False)\n",
              "                (q_lin): lora.Linear(\n",
              "                  (base_layer): Linear(in_features=768, out_features=768, bias=True)\n",
              "                  (lora_dropout): ModuleDict(\n",
              "                    (default): Dropout(p=0.05, inplace=False)\n",
              "                  )\n",
              "                  (lora_A): ModuleDict(\n",
              "                    (default): Linear(in_features=768, out_features=8, bias=False)\n",
              "                  )\n",
              "                  (lora_B): ModuleDict(\n",
              "                    (default): Linear(in_features=8, out_features=768, bias=False)\n",
              "                  )\n",
              "                  (lora_embedding_A): ParameterDict()\n",
              "                  (lora_embedding_B): ParameterDict()\n",
              "                  (lora_magnitude_vector): ModuleDict()\n",
              "                )\n",
              "                (k_lin): Linear(in_features=768, out_features=768, bias=True)\n",
              "                (v_lin): lora.Linear(\n",
              "                  (base_layer): Linear(in_features=768, out_features=768, bias=True)\n",
              "                  (lora_dropout): ModuleDict(\n",
              "                    (default): Dropout(p=0.05, inplace=False)\n",
              "                  )\n",
              "                  (lora_A): ModuleDict(\n",
              "                    (default): Linear(in_features=768, out_features=8, bias=False)\n",
              "                  )\n",
              "                  (lora_B): ModuleDict(\n",
              "                    (default): Linear(in_features=8, out_features=768, bias=False)\n",
              "                  )\n",
              "                  (lora_embedding_A): ParameterDict()\n",
              "                  (lora_embedding_B): ParameterDict()\n",
              "                  (lora_magnitude_vector): ModuleDict()\n",
              "                )\n",
              "                (out_lin): Linear(in_features=768, out_features=768, bias=True)\n",
              "              )\n",
              "              (sa_layer_norm): LayerNorm((768,), eps=1e-12, elementwise_affine=True)\n",
              "              (ffn): FFN(\n",
              "                (dropout): Dropout(p=0.1, inplace=False)\n",
              "                (lin1): Linear(in_features=768, out_features=3072, bias=True)\n",
              "                (lin2): Linear(in_features=3072, out_features=768, bias=True)\n",
              "                (activation): GELUActivation()\n",
              "              )\n",
              "              (output_layer_norm): LayerNorm((768,), eps=1e-12, elementwise_affine=True)\n",
              "            )\n",
              "          )\n",
              "        )\n",
              "      )\n",
              "      (pre_classifier): ModulesToSaveWrapper(\n",
              "        (original_module): Linear(in_features=768, out_features=768, bias=True)\n",
              "        (modules_to_save): ModuleDict(\n",
              "          (default): Linear(in_features=768, out_features=768, bias=True)\n",
              "        )\n",
              "      )\n",
              "      (classifier): ModulesToSaveWrapper(\n",
              "        (original_module): Linear(in_features=768, out_features=3, bias=True)\n",
              "        (modules_to_save): ModuleDict(\n",
              "          (default): Linear(in_features=768, out_features=3, bias=True)\n",
              "        )\n",
              "      )\n",
              "      (dropout): Dropout(p=0.2, inplace=False)\n",
              "    )\n",
              "  )\n",
              ")"
            ]
          },
          "metadata": {},
          "execution_count": 157
        }
      ]
    },
    {
      "cell_type": "markdown",
      "source": [
        "# Checking the Performance of the two Models"
      ],
      "metadata": {
        "id": "XhaTLSpksCKn"
      }
    },
    {
      "cell_type": "code",
      "source": [
        "from sklearn.metrics import confusion_matrix, classification_report"
      ],
      "metadata": {
        "id": "KL6WN5UjA3xN"
      },
      "execution_count": 172,
      "outputs": []
    },
    {
      "cell_type": "code",
      "source": [
        "import numpy as np\n",
        "# Convert Hugging Face Dataset to dictionary format\n",
        "test_data_dict = test_data.to_dict()\n",
        "torch_test_dict = torch_test.to_dict()\n",
        "\n",
        "# Extract input IDs and attention masks\n",
        "test_texts = test_data_dict[\"sentence\"]\n",
        "torch_test_texts = torch_test_dict[\"sentence\"]\n",
        "\n",
        "# Extract true labels\n",
        "true_labels_tf = np.array(test_data_dict[\"label\"])\n",
        "true_labels_pt = np.array(torch_test_dict[\"label\"])"
      ],
      "metadata": {
        "id": "Tdo2HSm3CQEO"
      },
      "execution_count": 158,
      "outputs": []
    },
    {
      "cell_type": "code",
      "source": [
        "len(test_texts), len(torch_test_texts)"
      ],
      "metadata": {
        "id": "15Zi27LtsJwT",
        "outputId": "acb44f9c-d780-4509-cb91-7478abcf06e9",
        "colab": {
          "base_uri": "https://localhost:8080/"
        }
      },
      "execution_count": 161,
      "outputs": [
        {
          "output_type": "execute_result",
          "data": {
            "text/plain": [
              "(227, 227)"
            ]
          },
          "metadata": {},
          "execution_count": 161
        }
      ]
    },
    {
      "cell_type": "code",
      "source": [
        "# Tokenize the inputs\n",
        "tf_inputs = tokenizer(test_texts, padding=True, truncation=True, max_length=512, return_tensors=\"tf\")\n",
        "pt_inputs = tokenizer(torch_test_texts, padding=True, truncation=True, max_length=512, return_tensors=\"pt\")"
      ],
      "metadata": {
        "id": "o1ld2g6UsHcD"
      },
      "execution_count": 164,
      "outputs": []
    },
    {
      "cell_type": "code",
      "source": [
        "tf_inputs_tensors = {key: tf.convert_to_tensor(val.numpy()) for key, val in tf_inputs.items()}\n",
        "tf_preds = model_full(tf_inputs_tensors).logits"
      ],
      "metadata": {
        "id": "_WkBw18jDN-G"
      },
      "execution_count": 165,
      "outputs": []
    },
    {
      "cell_type": "code",
      "source": [
        "tf_preds = np.argmax(tf_preds, axis=-1)"
      ],
      "metadata": {
        "id": "y9V33fDjDrfy"
      },
      "execution_count": 166,
      "outputs": []
    },
    {
      "cell_type": "code",
      "source": [
        "tf_preds, len(tf_preds)"
      ],
      "metadata": {
        "colab": {
          "base_uri": "https://localhost:8080/"
        },
        "id": "z4Bm-maUDwsY",
        "outputId": "82e15c7d-7b89-4ad1-a65b-5a6d3ca3be33"
      },
      "execution_count": 168,
      "outputs": [
        {
          "output_type": "execute_result",
          "data": {
            "text/plain": [
              "(array([0, 2, 1, 0, 1, 1, 1, 1, 2, 2, 1, 1, 2, 2, 1, 1, 1, 1, 1, 1, 1, 0,\n",
              "        1, 2, 0, 2, 1, 1, 2, 1, 0, 1, 1, 1, 1, 0, 2, 2, 0, 0, 1, 1, 1, 0,\n",
              "        1, 1, 1, 2, 2, 1, 1, 2, 1, 1, 1, 1, 1, 1, 1, 2, 1, 1, 1, 1, 1, 1,\n",
              "        1, 2, 1, 1, 1, 1, 0, 0, 1, 0, 1, 2, 2, 1, 1, 1, 0, 1, 0, 1, 1, 1,\n",
              "        1, 1, 1, 2, 2, 1, 1, 2, 0, 1, 1, 1, 1, 1, 1, 1, 1, 1, 1, 1, 2, 2,\n",
              "        2, 2, 1, 2, 1, 1, 1, 1, 1, 1, 2, 1, 1, 1, 1, 2, 2, 0, 1, 1, 0, 1,\n",
              "        1, 2, 1, 2, 1, 2, 2, 1, 1, 1, 1, 1, 1, 1, 2, 2, 1, 1, 1, 1, 1, 1,\n",
              "        1, 2, 1, 2, 1, 1, 0, 0, 2, 1, 0, 1, 1, 1, 1, 2, 1, 1, 1, 1, 0, 1,\n",
              "        1, 2, 1, 1, 2, 1, 1, 2, 0, 1, 1, 2, 1, 2, 2, 1, 2, 0, 1, 1, 1, 1,\n",
              "        1, 1, 1, 1, 1, 1, 1, 2, 1, 1, 0, 1, 2, 1, 0, 1, 2, 2, 1, 1, 2, 2,\n",
              "        1, 2, 1, 2, 1, 1, 0]),\n",
              " 227)"
            ]
          },
          "metadata": {},
          "execution_count": 168
        }
      ]
    },
    {
      "cell_type": "code",
      "source": [
        "pt_inputs = {key: val.to('cuda') for key, val in pt_inputs.items()}\n",
        "with torch.no_grad():\n",
        "  lora_preds = model_lora(**pt_inputs).logits\n",
        "  lora_preds = torch.argmax(lora_preds, dim=-1).cpu().numpy()"
      ],
      "metadata": {
        "id": "UyRPK19_DyBw"
      },
      "execution_count": 169,
      "outputs": []
    },
    {
      "cell_type": "code",
      "source": [
        "lora_preds, len(lora_preds)"
      ],
      "metadata": {
        "colab": {
          "base_uri": "https://localhost:8080/"
        },
        "id": "ZZftImxeEIis",
        "outputId": "f91f0c9f-0177-49a9-9dde-01d2871abc8a"
      },
      "execution_count": 170,
      "outputs": [
        {
          "output_type": "execute_result",
          "data": {
            "text/plain": [
              "(array([1, 1, 1, 2, 2, 0, 1, 0, 1, 1, 1, 0, 1, 2, 0, 0, 1, 0, 1, 1, 1, 2,\n",
              "        1, 1, 1, 1, 1, 1, 1, 0, 1, 2, 1, 0, 2, 1, 1, 2, 1, 1, 1, 1, 2, 0,\n",
              "        2, 1, 1, 1, 1, 0, 1, 1, 1, 1, 1, 1, 1, 2, 1, 1, 1, 2, 1, 2, 2, 1,\n",
              "        1, 1, 1, 2, 1, 1, 2, 1, 0, 2, 0, 0, 1, 2, 1, 1, 2, 1, 1, 1, 1, 2,\n",
              "        1, 1, 0, 2, 1, 2, 2, 2, 2, 1, 1, 1, 1, 1, 1, 1, 1, 2, 0, 1, 1, 0,\n",
              "        1, 1, 1, 2, 1, 2, 2, 1, 1, 1, 1, 0, 1, 1, 1, 2, 1, 1, 1, 0, 1, 1,\n",
              "        0, 1, 2, 1, 1, 1, 1, 1, 2, 0, 1, 0, 1, 1, 1, 1, 1, 1, 1, 2, 1, 2,\n",
              "        2, 0, 1, 1, 1, 1, 0, 1, 2, 2, 1, 2, 2, 1, 1, 1, 1, 1, 1, 1, 1, 1,\n",
              "        2, 1, 1, 1, 2, 0, 1, 0, 1, 1, 0, 1, 1, 1, 2, 1, 0, 0, 0, 2, 1, 1,\n",
              "        1, 1, 1, 0, 0, 1, 1, 1, 1, 1, 0, 1, 0, 1, 1, 1, 1, 1, 0, 2, 2, 0,\n",
              "        2, 1, 1, 1, 1, 2, 1]),\n",
              " 227)"
            ]
          },
          "metadata": {},
          "execution_count": 170
        }
      ]
    },
    {
      "cell_type": "code",
      "source": [
        "cf_matrix_full = confusion_matrix(true_labels_tf, tf_preds)\n",
        "plt.figure(figsize=(5,4))\n",
        "sns.heatmap(cf_matrix_full, annot=True, cmap='Blues')\n",
        "plt.xlabel('Predicted labels')\n",
        "plt.ylabel('True labels')\n",
        "plt.title(\"Confusion Matrix - Full weight trained Model\")\n",
        "plt.show()"
      ],
      "metadata": {
        "colab": {
          "base_uri": "https://localhost:8080/",
          "height": 410
        },
        "id": "3H2_n0AYEk5v",
        "outputId": "23c7615f-8d8e-4cf7-a2f7-9a31470bb851"
      },
      "execution_count": 173,
      "outputs": [
        {
          "output_type": "display_data",
          "data": {
            "text/plain": [
              "<Figure size 500x400 with 2 Axes>"
            ],
            "image/png": "[encoded data removed]"
          },
          "metadata": {}
        }
      ]
    },
    {
      "cell_type": "code",
      "source": [
        "cf_matrix_lora = confusion_matrix(true_labels_pt, lora_preds)\n",
        "plt.figure(figsize=(5,4))\n",
        "sns.heatmap(cf_matrix_lora, annot=True, cmap='Greens')\n",
        "plt.xlabel('Predicted labels')\n",
        "plt.ylabel('True labels')\n",
        "plt.title(\"Confusion Matrix - LoRA trained Model\")\n",
        "plt.show()"
      ],
      "metadata": {
        "colab": {
          "base_uri": "https://localhost:8080/",
          "height": 410
        },
        "id": "MPWT4EGZFKA_",
        "outputId": "447be72e-cd01-4c54-ac27-13a41fcff698"
      },
      "execution_count": 174,
      "outputs": [
        {
          "output_type": "display_data",
          "data": {
            "text/plain": [
              "<Figure size 500x400 with 2 Axes>"
            ],
            "image/png": "[encoded data removed]"
          },
          "metadata": {}
        }
      ]
    },
    {
      "cell_type": "code",
      "source": [
        "from sklearn.metrics import accuracy_score\n",
        "full_model_accuracy = accuracy_score(true_labels_tf, tf_preds)\n",
        "lora_accuracy = accuracy_score(true_labels_pt, lora_preds)\n",
        "print(full_model_accuracy, lora_accuracy)"
      ],
      "metadata": {
        "colab": {
          "base_uri": "https://localhost:8080/"
        },
        "id": "0UU58vU2Fn-F",
        "outputId": "b9bb9d69-7166-4b4e-9c2c-5eaf444a465c"
      },
      "execution_count": 176,
      "outputs": [
        {
          "output_type": "stream",
          "name": "stdout",
          "text": [
            "0.9691629955947136 0.9427312775330396\n"
          ]
        }
      ]
    },
    {
      "cell_type": "markdown",
      "source": [
        "The performance of the LoRA trained model is almost same as full model training but with lesser resources"
      ],
      "metadata": {
        "id": "wGPn6Eausnrq"
      }
    },
    {
      "cell_type": "code",
      "source": [],
      "metadata": {
        "id": "PZF332JpGwD_"
      },
      "execution_count": null,
      "outputs": []
    }
  ]
}